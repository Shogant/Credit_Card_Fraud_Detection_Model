{
 "cells": [
  {
   "cell_type": "code",
   "execution_count": 1,
   "id": "b22fffe5",
   "metadata": {},
   "outputs": [
    {
     "name": "stdout",
     "output_type": "stream",
     "text": [
      "c:\\Users\\User\\AppData\\Local\\pypoetry\\Cache\\virtualenvs\\credit-card-fraud-detection-model-FZHIqfLr-py3.13\\Scripts\\python.exe\n"
     ]
    }
   ],
   "source": [
    "import sys\n",
    "print(sys.executable)\n",
    "import matplotlib.pyplot as plt\n",
    "import pandas as pd\n",
    "import numpy as np\n",
    "import seaborn as sns\n",
    "import os\n",
    "import re\n",
    "import warnings"
   ]
  },
  {
   "cell_type": "markdown",
   "id": "42b258b6",
   "metadata": {},
   "source": [
    "<div style=\"background-color:#ddecfc; color:#100; padding:30px; border-radius:50px; max-width:1200px; margin:left;\">\n",
    "\n",
    "# Data Exploration – Dataset Tables\n",
    "\n",
    "In this section we will first try to explore our raw dataset files to understand \n",
    "its structure, columns, datatypes, and potential issues (missing values, duplicates, etc.), before we preform any merge.\n",
    "\n",
    "<br><u> We have 2 tables: </u></br>\n",
    "* **customers.csv**\n",
    "* **credit_card_fraud.csv**\n",
    "\n",
    "</div>"
   ]
  },
  {
   "cell_type": "markdown",
   "id": "288b1746",
   "metadata": {},
   "source": [
    "### <font color = navy > <u> Data load: </u></font>"
   ]
  },
  {
   "cell_type": "code",
   "execution_count": null,
   "id": "5ddad647",
   "metadata": {},
   "outputs": [],
   "source": [
    "transactions_df = pd.read_csv(\"C:/Users/User/Documents/GitHub/Credit_Card_Fraud_Detection_Model/data/credit_card_fraud.csv\", index_col=0) #first column is index\n",
    "customers_df = pd.read_csv(\"C:/Users/User/Documents/GitHub/Credit_Card_Fraud_Detection_Model/data/customers.csv\", sep=\"|\")"
   ]
  },
  {
   "cell_type": "code",
   "execution_count": null,
   "id": "c35e7272",
   "metadata": {},
   "outputs": [],
   "source": [
    "print(transactions_df.shape)\n",
    "print(customers_df.shape)"
   ]
  },
  {
   "cell_type": "markdown",
   "id": "a08a3439",
   "metadata": {},
   "source": [
    "<div style=\"background-color:#f4f9fe ; color:#200; padding:30px; border-radius:50px;max-width:1200px; margin:left;\">\n",
    "\n",
    "The transaction_df has 34 million rows. Initial loading of both tables took about 6-12 minutes. <br>\n",
    "To ensure smoother experimentation and reproducibility:\n",
    "- lets store the datasets as Pickle (.pkl) files for quick pull (incase of kernel resets)\n",
    "</br>\n",
    "\n",
    "</div>"
   ]
  },
  {
   "cell_type": "code",
   "execution_count": null,
   "id": "5dbc55e8",
   "metadata": {},
   "outputs": [],
   "source": [
    "# Save once (binary format)\n",
    "transactions_df.to_pickle(\"transactions.pkl\")\n",
    "customers_df.to_pickle(\"customers.pkl\")\n",
    "warnings.filterwarnings('ignore')\n"
   ]
  },
  {
   "cell_type": "code",
   "execution_count": 2,
   "id": "887ce9ee",
   "metadata": {},
   "outputs": [],
   "source": [
    "#Quick load :\n",
    "transactions_df = pd.read_pickle(\"transactions.pkl\")\n",
    "customers_df = pd.read_pickle(\"customers.pkl\")"
   ]
  },
  {
   "cell_type": "markdown",
   "id": "b630a34d",
   "metadata": {},
   "source": [
    "#### <font color='Navy'> <b><u> Functions : </b></u>"
   ]
  },
  {
   "cell_type": "code",
   "execution_count": 3,
   "id": "60de3bb0",
   "metadata": {},
   "outputs": [],
   "source": [
    "def compare_columns(df1, name1, df2, name2):\n",
    "    \"\"\"\n",
    "    Compares columns between two DataFrames.\n",
    "    Prints:\n",
    "    1. Common columns and their data types in both datasets.\n",
    "    2. Columns unique to each dataset.\n",
    "    \"\"\"\n",
    "    set1, set2 = set(df1.columns), set(df2.columns)\n",
    "    common = set1.intersection(set2)\n",
    "    only_in_1 = set1 - set2\n",
    "    only_in_2 = set2 - set1\n",
    "    \n",
    "    print(\"=\"*60)\n",
    "    print(\"🔹 Common Columns with Data Types\")\n",
    "    if common:\n",
    "        comparison = {\n",
    "            \"Column\": [],\n",
    "            f\"{name1} dtype\": [],\n",
    "            f\"{name2} dtype\": []\n",
    "        }\n",
    "        for col in sorted(common):\n",
    "            comparison[\"Column\"].append(col)\n",
    "            comparison[f\"{name1} dtype\"].append(df1[col].dtype)\n",
    "            comparison[f\"{name2} dtype\"].append(df2[col].dtype)\n",
    "        result = pd.DataFrame(comparison)\n",
    "        print(result.to_string(index=False))\n",
    "    else:\n",
    "        print(\"No common columns found.\")\n",
    "\n",
    "    print(\"\\n\" + \"=\"*60)\n",
    "    print(f\"🔹 Columns only in {name1}:\")\n",
    "    if only_in_1:\n",
    "        print(sorted(list(only_in_1)))\n",
    "\n",
    "    else:\n",
    "        print(\"No unique columns found.\")\n",
    "    \n",
    "    print(\"\\n\" + \"=\"*60)\n",
    "    print(f\"🔹 Columns only in {name2}:\")\n",
    "    if only_in_2:\n",
    "        print(sorted(list(only_in_2)))\n",
    "    else:\n",
    "        print(\"No unique columns found.\")\n",
    "    print(\"=\"*60)\n",
    "\n",
    "    return common, only_in_1, only_in_2\n"
   ]
  },
  {
   "cell_type": "code",
   "execution_count": 4,
   "id": "1c29d5ec",
   "metadata": {},
   "outputs": [],
   "source": [
    "def unique_values_report(df, name, max_rows=20):\n",
    "    \"\"\"\n",
    "    Prints number of unique values for each column in a DataFrame.\n",
    "    Shows top 'max_rows' columns sorted by uniqueness.\n",
    "    \"\"\"\n",
    "    uniques = df.nunique().sort_values(ascending=False).reset_index()\n",
    "    uniques.columns = [\"Column\", \"Unique Values\"]\n",
    "    \n",
    "    print(f\"\\n🔹 Unique Value Report for {name} (showing top {max_rows}):\")\n",
    "    print(uniques.head(max_rows).to_string(index=False))\n",
    "    \n"
   ]
  },
  {
   "cell_type": "code",
   "execution_count": 5,
   "id": "174efd7c",
   "metadata": {},
   "outputs": [],
   "source": [
    "def clean_punc(col):\n",
    "    return (\n",
    "        col.str.lower()  # lowercase\n",
    "           .str.replace(r\"[^a-z0-9\\s]\", \"\", regex=True)  # remove special chars\n",
    "           .str.strip()  # remove leading/trailing spaces\n",
    "    )\n",
    "\n"
   ]
  },
  {
   "cell_type": "code",
   "execution_count": 6,
   "id": "ec833561",
   "metadata": {},
   "outputs": [],
   "source": [
    "def column_summary(df):\n",
    "    summary = pd.DataFrame({\n",
    "        'count': df.shape[0],\n",
    "        'nulls': df.isnull().sum(),\n",
    "        'nulls%': df.isnull().mean() * 100,\n",
    "        'cardinality': df.nunique(),\n",
    "        'dtype': df.dtypes\n",
    "    })\n",
    "    return summary\n"
   ]
  },
  {
   "cell_type": "code",
   "execution_count": 7,
   "id": "53dee263",
   "metadata": {},
   "outputs": [],
   "source": [
    "def check_case_duplicates(df, column):\n",
    "    \"\"\"\n",
    "    Checks if a column has values that differ only by letter case.\n",
    "    Returns True if normalization (lower/upper) is recommended.\n",
    "    \"\"\"\n",
    "    original_unique = set(df[column].dropna().unique())\n",
    "    normalized_unique = set(df[column].dropna().str.lower().unique())\n",
    "    \n",
    "    # If sizes differ → case duplicates exist\n",
    "    if len(original_unique) != len(normalized_unique):\n",
    "        print(f\"⚠️ Column '{column}' has case duplicates.\")\n",
    "        diff = len(original_unique) - len(normalized_unique)\n",
    "        print(f\"   → {diff} duplicate categories caused by case.\")\n",
    "        return True\n",
    "    else:\n",
    "        print(f\"✅ Column '{column}' has no case duplicates.\")\n",
    "        return False\n"
   ]
  },
  {
   "cell_type": "code",
   "execution_count": 8,
   "id": "a83f0850",
   "metadata": {},
   "outputs": [],
   "source": [
    "def check_column_specials(df, column, sample_size=50000, sample=5):\n",
    "    \"\"\"\n",
    "    Checks one column for punctuation or special characters.\n",
    "    Uses a sample for speed on large datasets.\n",
    "    \n",
    "    Parameters:\n",
    "    - df: pandas DataFrame\n",
    "    - column: column name (string)\n",
    "    - sample_size: number of rows to sample\n",
    "    - sample: number of example values to display if issues are found\n",
    "    \"\"\"\n",
    "    # Take a sample for speed\n",
    "    df_sample = df[column].dropna().sample(\n",
    "        min(sample_size, df[column].dropna().shape[0]), random_state=42\n",
    "    ).astype(str)\n",
    "    \n",
    "    pattern = re.compile(r\"[^a-zA-Z0-9\\s]\")\n",
    "    mask = df_sample.str.contains(pattern, na=False)\n",
    "    count = mask.sum()\n",
    "    \n",
    "    if count > 0:\n",
    "        print(f\"⚠️ Column '{column}' has {count} rows with special characters (in sample).\")\n",
    "        print(\"   Examples:\", df_sample[mask].unique()[:sample])\n",
    "        return \"Needs Cleaning\"\n",
    "    else:\n",
    "        print(f\"✅ Column '{column}' is clean (no special characters in sample).\")\n",
    "        return \"Clean\"\n"
   ]
  },
  {
   "cell_type": "code",
   "execution_count": 9,
   "id": "60809c7c",
   "metadata": {},
   "outputs": [],
   "source": [
    "def add_remark(summary_table, col_name, remark):\n",
    "    \"\"\"\n",
    "    Add a remark for a specific column in the summary_table.\n",
    "    \n",
    "    Parameters:\n",
    "        summary_table (pd.DataFrame): The summary table with 'remark' column.\n",
    "        col_name (str): Column name to mark.\n",
    "        remark (str): Remark text to add.\n",
    "    \"\"\"\n",
    "    summary_table.loc[summary_table.index == col_name, \"remark\"] = remark\n",
    "    display(summary_table.sort_values(\"cardinality\", ascending=False))\n",
    "\n",
    "\n",
    "def status_check(summary_table):\n",
    "    \"\"\"\n",
    "    Display all columns in summary_table that have no remark.\n",
    "    Works for both empty strings and NaN values.\n",
    "    \n",
    "    Parameters:\n",
    "        summary_table (pd.DataFrame): The summary table with 'remark' column.\n",
    "    \"\"\"\n",
    "    unmarked = summary_table[summary_table[\"remark\"].isna() | (summary_table[\"remark\"] == \"\")]\n",
    "    display(unmarked.sort_values(\"cardinality\", ascending=False))\n"
   ]
  },
  {
   "cell_type": "markdown",
   "id": "d8efae13",
   "metadata": {},
   "source": [
    "<div style=\"background-color:#ddecfc ;  color:#200; padding:30px; border-radius:50px;\">\n",
    "\n",
    "### 1️⃣ <u><b> Evaluate Data Structure </b></u>\n",
    "\n",
    "**Objective:** Understand the composition and potential issues in both datasets.\n",
    "\n",
    "**Actions:**\n",
    "- Review **shape**, **columns**, and **sample records** to understand structure.\n",
    "- Use `.info()` and `.describe()` to inspect data types and summary statistics.\n",
    "- Check for:\n",
    "  - **Name match** \n",
    "  - **Data type match**  \n",
    "  - **Value overlap**  \n",
    "  - **Uniqueness**  \n",
    "  - **Nulls**  \n",
    "  - **Duplicates**  \n",
    "\n",
    "</div>"
   ]
  },
  {
   "cell_type": "code",
   "execution_count": 10,
   "id": "4af4857e",
   "metadata": {},
   "outputs": [
    {
     "name": "stdout",
     "output_type": "stream",
     "text": [
      "<class 'pandas.core.frame.DataFrame'>\n",
      "Index: 34636378 entries, 0 to 34636377\n",
      "Data columns (total 26 columns):\n",
      " #   Column      Dtype  \n",
      "---  ------      -----  \n",
      " 0   ssn         object \n",
      " 1   cc_num      int64  \n",
      " 2   first       object \n",
      " 3   last        object \n",
      " 4   gender      object \n",
      " 5   street      object \n",
      " 6   city        object \n",
      " 7   state       object \n",
      " 8   zip         int64  \n",
      " 9   lat         float64\n",
      " 10  long        float64\n",
      " 11  city_pop    int64  \n",
      " 12  job         object \n",
      " 13  dob         object \n",
      " 14  acct_num    int64  \n",
      " 15  profile     object \n",
      " 16  trans_num   object \n",
      " 17  trans_date  object \n",
      " 18  trans_time  object \n",
      " 19  unix_time   int64  \n",
      " 20  category    object \n",
      " 21  amt         float64\n",
      " 22  is_fraud    int64  \n",
      " 23  merchant    object \n",
      " 24  merch_lat   float64\n",
      " 25  merch_long  float64\n",
      "dtypes: float64(5), int64(6), object(15)\n",
      "memory usage: 7.0+ GB\n"
     ]
    }
   ],
   "source": [
    "transactions_df.info()"
   ]
  },
  {
   "cell_type": "code",
   "execution_count": 11,
   "id": "76a07202",
   "metadata": {},
   "outputs": [
    {
     "name": "stdout",
     "output_type": "stream",
     "text": [
      "<class 'pandas.core.frame.DataFrame'>\n",
      "RangeIndex: 20000 entries, 0 to 19999\n",
      "Data columns (total 16 columns):\n",
      " #   Column    Non-Null Count  Dtype  \n",
      "---  ------    --------------  -----  \n",
      " 0   ssn       20000 non-null  object \n",
      " 1   cc_num    20000 non-null  int64  \n",
      " 2   first     20000 non-null  object \n",
      " 3   last      20000 non-null  object \n",
      " 4   gender    20000 non-null  object \n",
      " 5   street    20000 non-null  object \n",
      " 6   city      20000 non-null  object \n",
      " 7   state     20000 non-null  object \n",
      " 8   zip       20000 non-null  int64  \n",
      " 9   lat       20000 non-null  float64\n",
      " 10  long      20000 non-null  float64\n",
      " 11  city_pop  20000 non-null  int64  \n",
      " 12  job       20000 non-null  object \n",
      " 13  dob       20000 non-null  object \n",
      " 14  acct_num  20000 non-null  int64  \n",
      " 15  profile   20000 non-null  object \n",
      "dtypes: float64(2), int64(4), object(10)\n",
      "memory usage: 2.4+ MB\n"
     ]
    }
   ],
   "source": [
    "customers_df.info()"
   ]
  },
  {
   "cell_type": "markdown",
   "id": "7d7c50db",
   "metadata": {},
   "source": [
    "<div style=\"background-color:#f4f9fe; color:#100; padding:20px; border-radius:10px;\">\n",
    "<font color='Navy'>\n",
    "\n",
    "It seems that we have some type of an overlap between the two sets.\n",
    "<br>\n",
    "<h3><u> Pre-Merge Checks : </u></h3>\n",
    "1. Col name match <br>\n",
    "2. Data type match<br>\n",
    "3. Uniqueness<br>\n",
    "4. Value overlap<br>\n",
    "5. Nulls<br>\n",
    "6. Duplicates  <br>\n",
    "\n",
    "\n",
    "</div>"
   ]
  },
  {
   "cell_type": "markdown",
   "id": "10151e42",
   "metadata": {},
   "source": [
    "#### <font color='Navy'>🔹Columns & Data types match check :"
   ]
  },
  {
   "cell_type": "code",
   "execution_count": 12,
   "id": "4764514c",
   "metadata": {},
   "outputs": [
    {
     "name": "stdout",
     "output_type": "stream",
     "text": [
      "============================================================\n",
      "🔹 Common Columns with Data Types\n",
      "  Column transactions dtype customers dtype\n",
      "acct_num              int64           int64\n",
      "  cc_num              int64           int64\n",
      "    city             object          object\n",
      "city_pop              int64           int64\n",
      "     dob             object          object\n",
      "   first             object          object\n",
      "  gender             object          object\n",
      "     job             object          object\n",
      "    last             object          object\n",
      "     lat            float64         float64\n",
      "    long            float64         float64\n",
      " profile             object          object\n",
      "     ssn             object          object\n",
      "   state             object          object\n",
      "  street             object          object\n",
      "     zip              int64           int64\n",
      "\n",
      "============================================================\n",
      "🔹 Columns only in transactions:\n",
      "['amt', 'category', 'is_fraud', 'merch_lat', 'merch_long', 'merchant', 'trans_date', 'trans_num', 'trans_time', 'unix_time']\n",
      "\n",
      "============================================================\n",
      "🔹 Columns only in customers:\n",
      "No unique columns found.\n",
      "============================================================\n",
      "Common columns: {'city_pop', 'gender', 'zip', 'street', 'ssn', 'job', 'cc_num', 'last', 'lat', 'state', 'acct_num', 'city', 'long', 'first', 'dob', 'profile'}\n",
      "Null counts in transactions:\n",
      "city_pop    0\n",
      "gender      0\n",
      "zip         0\n",
      "street      0\n",
      "ssn         0\n",
      "job         0\n",
      "cc_num      0\n",
      "last        0\n",
      "lat         0\n",
      "state       0\n",
      "acct_num    0\n",
      "city        0\n",
      "long        0\n",
      "first       0\n",
      "dob         0\n",
      "profile     0\n",
      "dtype: int64\n",
      "Null counts in customers:\n",
      "city_pop    0\n",
      "gender      0\n",
      "zip         0\n",
      "street      0\n",
      "ssn         0\n",
      "job         0\n",
      "cc_num      0\n",
      "last        0\n",
      "lat         0\n",
      "state       0\n",
      "acct_num    0\n",
      "city        0\n",
      "long        0\n",
      "first       0\n",
      "dob         0\n",
      "profile     0\n",
      "dtype: int64\n"
     ]
    }
   ],
   "source": [
    "# Column Comparison - Name and Data Types:\n",
    "common_cols, only_in_transactions, only_in_customers = compare_columns(\n",
    "    transactions_df, \"transactions\", customers_df, \"customers\"\n",
    ")\n",
    "\n",
    "#Common columns:\n",
    "print(\"Common columns:\", common_cols) \n",
    "\n",
    "# Nulls check on common columns  - do we need the merge ? is the key column complete ?\n",
    "print(\"Null counts in transactions:\")\n",
    "print(transactions_df[list(common_cols)].isna().sum())\n",
    "\n",
    "print(\"Null counts in customers:\")\n",
    "print(customers_df[list(common_cols)].isna().sum())\n",
    "\n"
   ]
  },
  {
   "cell_type": "markdown",
   "id": "401b2cb0",
   "metadata": {},
   "source": [
    "<div style=\"background-color:#f4f9fe; color:#100; padding:20px; border-radius:10px;\">\n",
    "<font color='Navy'>\n",
    "<u> Summary of comparision: </u> <br>\n",
    "</br>\n",
    "🔹No Nulls in both data sets ✅ <br> \n",
    "🔹16 Common features : - with matching names  ✅ -  matching Dtypes  ✅\n",
    "\n",
    "</br>\n",
    "🔹 <b> Columns only in transactions: </b> <br>\n",
    "- ['amt', 'category', 'is_fraud', 'merch_lat', 'merch_long', 'merchant', 'trans_date', 'trans_num', 'trans_time', 'unix_time']\n",
    "</br>\n",
    "\n",
    "============================================================\n",
    "<br>\n",
    "🔹 <b> Columns only in customers </b> - <font color='red'> No unique columns found.</font>\n",
    "\n",
    "</br>\n",
    "</font>\n",
    "\n",
    "<code>customers.csv</code> has not unique columns of its own to contribute the transaction set.<br>\n",
    "At this point, merging seems pointless.<br>\n",
    "</br>\n",
    "but before we fully dismiss it, lets see if there is any mismatch between the common values.\n",
    "lets check value overlap using the cc_num\n",
    "\n",
    "</div>\n"
   ]
  },
  {
   "cell_type": "code",
   "execution_count": 13,
   "id": "901e8ee8",
   "metadata": {},
   "outputs": [
    {
     "name": "stdout",
     "output_type": "stream",
     "text": [
      "Total customers: 20000\n",
      "Unique customer IDs: 20000\n",
      "Duplicate customer IDs: 0\n"
     ]
    }
   ],
   "source": [
    "'''Lets confirm that each cc_num in customers_df appears only once (one row per customer), before we check if we have full match with transaction df.'''\n",
    "\n",
    "# Count duplicate customer IDs\n",
    "dup_customers = customers_df['cc_num'].duplicated().sum()\n",
    "\n",
    "print(\"Total customers:\", customers_df.shape[0])\n",
    "print(\"Unique customer IDs:\", customers_df['cc_num'].nunique())\n",
    "print(\"Duplicate customer IDs:\", dup_customers)\n",
    "\n",
    "# If there are duplicates, show a few\n",
    "if dup_customers > 0:\n",
    "    display(customers_df[customers_df['cc_num'].duplicated(keep=False)].head())\n"
   ]
  },
  {
   "cell_type": "markdown",
   "id": "d4a54dfe",
   "metadata": {},
   "source": [
    "#### <font color='Navy'> 🔹 Value overlap :"
   ]
  },
  {
   "cell_type": "code",
   "execution_count": 14,
   "id": "7b3163de",
   "metadata": {},
   "outputs": [
    {
     "name": "stdout",
     "output_type": "stream",
     "text": [
      "Unique cc_num in transactions: 19948\n",
      "Unique cc_num in customers   : 20000\n",
      "Overlapping cc_num           : 19948\n",
      "Overlap coverage in transactions: 100.00%\n",
      "Overlap coverage in customers   : 99.74%\n"
     ]
    }
   ],
   "source": [
    "trans_cards = set(transactions_df['cc_num'])\n",
    "cust_cards = set(customers_df['cc_num'])\n",
    "\n",
    "overlap = trans_cards.intersection(cust_cards)\n",
    "\n",
    "print(\"Unique cc_num in transactions:\", len(trans_cards))\n",
    "print(\"Unique cc_num in customers   :\", len(cust_cards))\n",
    "print(\"Overlapping cc_num           :\", len(overlap))\n",
    "print(\"Overlap coverage in transactions: {:.2f}%\".format(len(overlap) / len(trans_cards) * 100))\n",
    "print(\"Overlap coverage in customers   : {:.2f}%\".format(len(overlap) / len(cust_cards) * 100))\n"
   ]
  },
  {
   "cell_type": "markdown",
   "id": "38a8273b",
   "metadata": {},
   "source": [
    "<font color='Navy'> all unique cc_nums are included in transactions dataset. Merging will only cause duplicates. </font>"
   ]
  },
  {
   "cell_type": "markdown",
   "id": "710788ff",
   "metadata": {},
   "source": [
    "#### <font color='Navy'> 🔹 Duplicate Rows:"
   ]
  },
  {
   "cell_type": "code",
   "execution_count": 15,
   "id": "003e04df",
   "metadata": {},
   "outputs": [
    {
     "name": "stdout",
     "output_type": "stream",
     "text": [
      "Duplicate rows in transactions: 0\n"
     ]
    }
   ],
   "source": [
    "print(\"Duplicate rows in transactions:\", transactions_df.duplicated().sum())\n",
    "# print(\"Duplicate rows in customers   :\", customers_df.duplicated().sum())\n"
   ]
  },
  {
   "cell_type": "markdown",
   "id": "56bbd6dc",
   "metadata": {},
   "source": [
    "#### <font color='Navy'> 🔹 Nulls:"
   ]
  },
  {
   "cell_type": "code",
   "execution_count": 16,
   "id": "f0380179",
   "metadata": {},
   "outputs": [
    {
     "name": "stdout",
     "output_type": "stream",
     "text": [
      "Nulls in transactions_df : 0\n"
     ]
    }
   ],
   "source": [
    "print(\"Nulls in transactions_df :\", transactions_df.isna().sum().sum())\n",
    "# print(\"Nulls in customers cc_num   :\", customers_df['cc_num'].isna().sum())\n"
   ]
  },
  {
   "cell_type": "markdown",
   "id": "e2de6d63",
   "metadata": {},
   "source": [
    "<div style=\"background-color:#f4f9fe; color:#100; padding:20px; border-radius:10px;\">\n",
    "<font color='Navy'>\n",
    "<u> Pre-Merge Checks Summary: </u> <br>\n",
    "</br>\n",
    "\n",
    "1. Common Col Names & Dtypes - match ✅\n",
    "2. Unique features - only in transaction_df, customers features ovelap fully. 📍\n",
    "3. Value overlap - customers_df values incompassed by transaction_df. additional few customers included with no match.📍\n",
    "5. Nulls - no nulls in both sets - ✅\n",
    "5. Duplicates - no duplicate records found in both sets. ✅\n",
    "\n",
    "</div>"
   ]
  },
  {
   "cell_type": "markdown",
   "id": "03741679",
   "metadata": {},
   "source": [
    "Since there is no additional information given by the customer.csv, we will be working on the credict_cart_fraud.csv\n"
   ]
  },
  {
   "cell_type": "code",
   "execution_count": 17,
   "id": "3c0375f4",
   "metadata": {},
   "outputs": [],
   "source": [
    "df = transactions_df.copy()"
   ]
  },
  {
   "cell_type": "markdown",
   "id": "e5b2b5ea",
   "metadata": {},
   "source": [
    "<div style=\"background-color:#ddecfc ;  color:#200; padding:30px; border-radius:50px;\">\n",
    "\n",
    "### 2️⃣ Convert and Correct Data Types\n",
    "\n",
    "**Objective:** Ensure each column is stored in the appropriate format.\n",
    "\n",
    "**Actions:**\n",
    "- Data type Corrections\n",
    "- Map Object Dtypes :\n",
    "    - tex\n",
    "- Convert date/time fields to `datetime` (`pd.to_datetime()`).\n",
    "- Convert textual categorical fields to `category` dtype.\n",
    "- Drop or isolate identifiers that are unique per record."
   ]
  },
  {
   "cell_type": "code",
   "execution_count": 18,
   "id": "5e0aacdf",
   "metadata": {},
   "outputs": [
    {
     "name": "stdout",
     "output_type": "stream",
     "text": [
      "<class 'pandas.core.frame.DataFrame'>\n",
      "Index: 34636378 entries, 0 to 34636377\n",
      "Data columns (total 26 columns):\n",
      " #   Column      Dtype  \n",
      "---  ------      -----  \n",
      " 0   ssn         object \n",
      " 1   cc_num      int64  \n",
      " 2   first       object \n",
      " 3   last        object \n",
      " 4   gender      object \n",
      " 5   street      object \n",
      " 6   city        object \n",
      " 7   state       object \n",
      " 8   zip         int64  \n",
      " 9   lat         float64\n",
      " 10  long        float64\n",
      " 11  city_pop    int64  \n",
      " 12  job         object \n",
      " 13  dob         object \n",
      " 14  acct_num    int64  \n",
      " 15  profile     object \n",
      " 16  trans_num   object \n",
      " 17  trans_date  object \n",
      " 18  trans_time  object \n",
      " 19  unix_time   int64  \n",
      " 20  category    object \n",
      " 21  amt         float64\n",
      " 22  is_fraud    int64  \n",
      " 23  merchant    object \n",
      " 24  merch_lat   float64\n",
      " 25  merch_long  float64\n",
      "dtypes: float64(5), int64(6), object(15)\n",
      "memory usage: 7.0+ GB\n"
     ]
    }
   ],
   "source": [
    "df.info()"
   ]
  },
  {
   "cell_type": "markdown",
   "id": "77de7be0",
   "metadata": {},
   "source": [
    "#### <font color='Navy'> 🔹Value Count </font>\n",
    "- Drop features with 1 unique values , if exist."
   ]
  },
  {
   "cell_type": "code",
   "execution_count": 19,
   "id": "b9162232",
   "metadata": {},
   "outputs": [
    {
     "name": "stdout",
     "output_type": "stream",
     "text": [
      "gender               2\n",
      "is_fraud             2\n",
      "profile             12\n",
      "category            14\n",
      "state               51\n",
      "job                639\n",
      "first              686\n",
      "merchant           693\n",
      "trans_date         731\n",
      "last              1000\n",
      "city              5184\n",
      "city_pop          6236\n",
      "lat               9860\n",
      "long             10069\n",
      "zip              10218\n",
      "dob              13861\n",
      "acct_num         19948\n",
      "cc_num           19948\n",
      "ssn              19948\n",
      "street           19948\n",
      "trans_time       86400\n",
      "amt             174288\n",
      "merch_lat     15942663\n",
      "unix_time     21837719\n",
      "merch_long    23233358\n",
      "trans_num     34636378\n",
      "dtype: int64\n"
     ]
    }
   ],
   "source": [
    "unique_counts = df.nunique().sort_values()\n",
    "print(unique_counts)\n"
   ]
  },
  {
   "cell_type": "markdown",
   "id": "772bec96",
   "metadata": {},
   "source": [
    "#### <font color='Navy'> 🔹Data type Correction - Date type"
   ]
  },
  {
   "cell_type": "code",
   "execution_count": 20,
   "id": "58ca50a4",
   "metadata": {},
   "outputs": [],
   "source": [
    "df['trans_date'] = pd.to_datetime(df['trans_date'], errors='coerce')\n",
    "df['trans_time'] = pd.to_datetime(df['trans_time'], format='%H:%M:%S', errors='coerce')\n",
    "df['dob'] = pd.to_datetime(df['dob'], errors='coerce')\n",
    "# customers_df['dob'] = pd.to_datetime(customers_df['dob'], errors='coerce')\n"
   ]
  },
  {
   "cell_type": "code",
   "execution_count": 21,
   "id": "0107f93f",
   "metadata": {},
   "outputs": [
    {
     "name": "stdout",
     "output_type": "stream",
     "text": [
      "Min Date: 2019-01-01 00:00:00\n",
      "Max Date: 2020-12-31 00:00:00\n"
     ]
    }
   ],
   "source": [
    "min_date, max_date = df['trans_date'].min(), df['trans_date'].max()\n",
    "# Print the results\n",
    "print(f\"Min Date: {min_date}\") \n",
    "print(f\"Max Date: {max_date}\")"
   ]
  },
  {
   "cell_type": "code",
   "execution_count": 22,
   "id": "ed2a4857",
   "metadata": {},
   "outputs": [],
   "source": [
    "df['trans_year'] = df['trans_date'].dt.year\n",
    "df['trans_month'] = df['trans_date'].dt.month"
   ]
  },
  {
   "cell_type": "code",
   "execution_count": 23,
   "id": "53ae438d",
   "metadata": {},
   "outputs": [],
   "source": [
    "df_temp = df.copy()"
   ]
  },
  {
   "cell_type": "code",
   "execution_count": 24,
   "id": "d0f75cf8",
   "metadata": {},
   "outputs": [],
   "source": [
    "monthly_fraud_counts = df_temp.groupby(['trans_year', 'trans_month', 'is_fraud']).size()"
   ]
  },
  {
   "cell_type": "code",
   "execution_count": 25,
   "id": "2649357d",
   "metadata": {},
   "outputs": [
    {
     "data": {
      "text/plain": [
       "trans_year  trans_month  is_fraud\n",
       "2019        1            0           961918\n",
       "                         1             8248\n",
       "            2            0           887654\n",
       "dtype: int64"
      ]
     },
     "metadata": {},
     "output_type": "display_data"
    }
   ],
   "source": [
    "display(monthly_fraud_counts.head(3))"
   ]
  },
  {
   "cell_type": "code",
   "execution_count": 26,
   "id": "40fafdd0",
   "metadata": {},
   "outputs": [
    {
     "data": {
      "text/html": [
       "<div>\n",
       "<style scoped>\n",
       "    .dataframe tbody tr th:only-of-type {\n",
       "        vertical-align: middle;\n",
       "    }\n",
       "\n",
       "    .dataframe tbody tr th {\n",
       "        vertical-align: top;\n",
       "    }\n",
       "\n",
       "    .dataframe thead th {\n",
       "        text-align: right;\n",
       "    }\n",
       "</style>\n",
       "<table border=\"1\" class=\"dataframe\">\n",
       "  <thead>\n",
       "    <tr style=\"text-align: right;\">\n",
       "      <th></th>\n",
       "      <th></th>\n",
       "      <th>Non-Fraud</th>\n",
       "      <th>Fraud</th>\n",
       "    </tr>\n",
       "    <tr>\n",
       "      <th>trans_year</th>\n",
       "      <th>trans_month</th>\n",
       "      <th></th>\n",
       "      <th></th>\n",
       "    </tr>\n",
       "  </thead>\n",
       "  <tbody>\n",
       "    <tr>\n",
       "      <th rowspan=\"3\" valign=\"top\">2019</th>\n",
       "      <th>1</th>\n",
       "      <td>961918</td>\n",
       "      <td>8248</td>\n",
       "    </tr>\n",
       "    <tr>\n",
       "      <th>2</th>\n",
       "      <td>887654</td>\n",
       "      <td>7207</td>\n",
       "    </tr>\n",
       "    <tr>\n",
       "      <th>3</th>\n",
       "      <td>1353168</td>\n",
       "      <td>8086</td>\n",
       "    </tr>\n",
       "  </tbody>\n",
       "</table>\n",
       "</div>"
      ],
      "text/plain": [
       "                        Non-Fraud  Fraud\n",
       "trans_year trans_month                  \n",
       "2019       1               961918   8248\n",
       "           2               887654   7207\n",
       "           3              1353168   8086"
      ]
     },
     "metadata": {},
     "output_type": "display_data"
    }
   ],
   "source": [
    "result = monthly_fraud_counts.unstack(fill_value=0)\n",
    "result.columns = ['Non-Fraud', 'Fraud']\n",
    "display (result.head(3))"
   ]
  },
  {
   "cell_type": "code",
   "execution_count": 27,
   "id": "1725aa07",
   "metadata": {},
   "outputs": [
    {
     "data": {
      "text/html": [
       "<div>\n",
       "<style scoped>\n",
       "    .dataframe tbody tr th:only-of-type {\n",
       "        vertical-align: middle;\n",
       "    }\n",
       "\n",
       "    .dataframe tbody tr th {\n",
       "        vertical-align: top;\n",
       "    }\n",
       "\n",
       "    .dataframe thead th {\n",
       "        text-align: right;\n",
       "    }\n",
       "</style>\n",
       "<table border=\"1\" class=\"dataframe\">\n",
       "  <thead>\n",
       "    <tr style=\"text-align: right;\">\n",
       "      <th></th>\n",
       "      <th></th>\n",
       "      <th>Non-Fraud</th>\n",
       "      <th>Fraud</th>\n",
       "      <th>Total</th>\n",
       "      <th>Fraud Percentage</th>\n",
       "    </tr>\n",
       "    <tr>\n",
       "      <th>trans_year</th>\n",
       "      <th>trans_month</th>\n",
       "      <th></th>\n",
       "      <th></th>\n",
       "      <th></th>\n",
       "      <th></th>\n",
       "    </tr>\n",
       "  </thead>\n",
       "  <tbody>\n",
       "    <tr>\n",
       "      <th rowspan=\"3\" valign=\"top\">2019</th>\n",
       "      <th>1</th>\n",
       "      <td>961918</td>\n",
       "      <td>8248</td>\n",
       "      <td>970166</td>\n",
       "      <td>0.850164</td>\n",
       "    </tr>\n",
       "    <tr>\n",
       "      <th>2</th>\n",
       "      <td>887654</td>\n",
       "      <td>7207</td>\n",
       "      <td>894861</td>\n",
       "      <td>0.805376</td>\n",
       "    </tr>\n",
       "    <tr>\n",
       "      <th>3</th>\n",
       "      <td>1353168</td>\n",
       "      <td>8086</td>\n",
       "      <td>1361254</td>\n",
       "      <td>0.594011</td>\n",
       "    </tr>\n",
       "  </tbody>\n",
       "</table>\n",
       "</div>"
      ],
      "text/plain": [
       "                        Non-Fraud  Fraud    Total  Fraud Percentage\n",
       "trans_year trans_month                                             \n",
       "2019       1               961918   8248   970166          0.850164\n",
       "           2               887654   7207   894861          0.805376\n",
       "           3              1353168   8086  1361254          0.594011"
      ]
     },
     "metadata": {},
     "output_type": "display_data"
    }
   ],
   "source": [
    "result['Total'] = result['Non-Fraud'] + result['Fraud']\n",
    "result['Fraud Percentage'] = (result['Fraud'] / result['Total']) * 100\n",
    "display(result.head(3))"
   ]
  },
  {
   "cell_type": "code",
   "execution_count": 28,
   "id": "e32420ae",
   "metadata": {},
   "outputs": [
    {
     "data": {
      "text/plain": [
       "<Figure size 1000x600 with 0 Axes>"
      ]
     },
     "metadata": {},
     "output_type": "display_data"
    },
    {
     "data": {
      "image/png": "[encoded data removed]",
      "text/plain": [
       "<Figure size 640x480 with 1 Axes>"
      ]
     },
     "metadata": {},
     "output_type": "display_data"
    }
   ],
   "source": [
    "# Pivot to have Month as index and Year as columns\n",
    "result = result.reset_index()\n",
    "pivot_data = result.pivot(index='trans_month', columns='trans_year', values='Fraud Percentage')\n",
    "\n",
    "# Plot\n",
    "plt.figure(figsize=(10, 6))\n",
    "pivot_data.plot(marker='o', linewidth=2)\n",
    "plt.title('Fraud Percentage Comparison - 2019 vs 2020', fontsize=14)\n",
    "plt.xlabel('Month')\n",
    "plt.ylabel('Fraud Percentage (%)')\n",
    "plt.grid(True, linestyle='--', alpha=0.6)\n",
    "plt.legend(title='Year')\n",
    "plt.show()"
   ]
  },
  {
   "cell_type": "markdown",
   "id": "e903fb8a",
   "metadata": {},
   "source": [
    "# Data Reduction :\n",
    "- Fraud presentage and pattern seems consistent per month for 2019 and 2020.\n",
    "- To improve computetional efficieny,  we can focus on 2020 data only for further exploration and model training"
   ]
  },
  {
   "cell_type": "code",
   "execution_count": 29,
   "id": "e149e4f1",
   "metadata": {},
   "outputs": [],
   "source": [
    "# Reduced Data Set:\n",
    "df_2020 = df[df['trans_year'] == 2020].copy()"
   ]
  },
  {
   "cell_type": "code",
   "execution_count": 30,
   "id": "dda40d32",
   "metadata": {},
   "outputs": [],
   "source": [
    "df_2020.to_pickle(\"transactions_2020.pkl\")"
   ]
  },
  {
   "cell_type": "code",
   "execution_count": 31,
   "id": "86c996dc",
   "metadata": {},
   "outputs": [],
   "source": [
    "df_2020 = pd.read_pickle(\"transactions_2020.pkl\")"
   ]
  },
  {
   "cell_type": "code",
   "execution_count": 32,
   "id": "e02f7e6a",
   "metadata": {},
   "outputs": [
    {
     "data": {
      "text/plain": [
       "(17292422, 28)"
      ]
     },
     "execution_count": 32,
     "metadata": {},
     "output_type": "execute_result"
    }
   ],
   "source": [
    "df_2020.shape"
   ]
  },
  {
   "cell_type": "markdown",
   "id": "17e720c7",
   "metadata": {},
   "source": [
    "#### <font color='Navy'> 🔹Date Dtypes :"
   ]
  },
  {
   "cell_type": "code",
   "execution_count": 33,
   "id": "883f4855",
   "metadata": {},
   "outputs": [],
   "source": [
    "# --- Extract date features ---\n",
    "df_2020['trans_year'] = df_2020['trans_date'].dt.year\n",
    "df_2020['trans_quarter'] = df_2020['trans_date'].dt.quarter\n",
    "df_2020['trans_month'] = df_2020['trans_date'].dt.month\n",
    "df_2020['trans_day'] = df_2020['trans_date'].dt.day\n",
    "df_2020['trans_dayofweek'] = df_2020['trans_date'].dt.dayofweek\n",
    "df_2020['trans_hour'] = df_2020['trans_time'].dt.hour\n",
    "\n",
    "# --- Derive age ---\n",
    "# --- age of the customer at the time of transaction:\n",
    "df_2020['age'] = (df_2020['trans_date'] - df_2020['dob']).dt.days // 365"
   ]
  },
  {
   "cell_type": "markdown",
   "id": "866aacba",
   "metadata": {},
   "source": [
    "#### <font color='red'> 🔹Data Drop List Container Definition:\n",
    "\n",
    "- Removal of original features that already split to columns like dates ( month, year, hour)\n"
   ]
  },
  {
   "cell_type": "code",
   "execution_count": 34,
   "id": "59727f49",
   "metadata": {},
   "outputs": [],
   "source": [
    "# Initialize a list to track columns to drop later\n",
    "cols_to_drop = []\n",
    "\n",
    "# Example: when you identify columns to drop, append them instead of removing now\n",
    "# cols_to_drop.append('trans_time')\n",
    "# cols_to_drop.append('dob')\n"
   ]
  },
  {
   "cell_type": "markdown",
   "id": "dbd4cf15",
   "metadata": {},
   "source": [
    "#### <font color='Navy'> 🔹Handle Object Data Types:\n",
    "\n",
    "- textual data convert to string\n",
    "- remove special keys\n",
    "- Classify to category "
   ]
  },
  {
   "cell_type": "code",
   "execution_count": 35,
   "id": "4a31edcd",
   "metadata": {},
   "outputs": [],
   "source": [
    "object_cols = df_2020.select_dtypes(include=['object']).copy()\n",
    "non_object_cols = df_2020.select_dtypes(exclude=['object']).copy()\n",
    "\n"
   ]
  },
  {
   "cell_type": "code",
   "execution_count": 36,
   "id": "6ec97af5",
   "metadata": {},
   "outputs": [
    {
     "data": {
      "text/html": [
       "<div>\n",
       "<style scoped>\n",
       "    .dataframe tbody tr th:only-of-type {\n",
       "        vertical-align: middle;\n",
       "    }\n",
       "\n",
       "    .dataframe tbody tr th {\n",
       "        vertical-align: top;\n",
       "    }\n",
       "\n",
       "    .dataframe thead th {\n",
       "        text-align: right;\n",
       "    }\n",
       "</style>\n",
       "<table border=\"1\" class=\"dataframe\">\n",
       "  <thead>\n",
       "    <tr style=\"text-align: right;\">\n",
       "      <th></th>\n",
       "      <th>ssn</th>\n",
       "      <th>first</th>\n",
       "      <th>last</th>\n",
       "      <th>gender</th>\n",
       "      <th>street</th>\n",
       "      <th>city</th>\n",
       "      <th>state</th>\n",
       "      <th>job</th>\n",
       "      <th>profile</th>\n",
       "      <th>trans_num</th>\n",
       "      <th>category</th>\n",
       "      <th>merchant</th>\n",
       "    </tr>\n",
       "  </thead>\n",
       "  <tbody>\n",
       "    <tr>\n",
       "      <th>0</th>\n",
       "      <td>750-09-7342</td>\n",
       "      <td>Amanda</td>\n",
       "      <td>Morris</td>\n",
       "      <td>F</td>\n",
       "      <td>144 Bowers Route</td>\n",
       "      <td>Tracy</td>\n",
       "      <td>CA</td>\n",
       "      <td>Teaching laboratory technician</td>\n",
       "      <td>young_adults_female_urban.json</td>\n",
       "      <td>52226c099d060def61a7e0d3de214e4b</td>\n",
       "      <td>misc_net</td>\n",
       "      <td>fraud_Moore, Dibbert and Koepp</td>\n",
       "    </tr>\n",
       "    <tr>\n",
       "      <th>1</th>\n",
       "      <td>750-09-7342</td>\n",
       "      <td>Amanda</td>\n",
       "      <td>Morris</td>\n",
       "      <td>F</td>\n",
       "      <td>144 Bowers Route</td>\n",
       "      <td>Tracy</td>\n",
       "      <td>CA</td>\n",
       "      <td>Teaching laboratory technician</td>\n",
       "      <td>young_adults_female_urban.json</td>\n",
       "      <td>6495d95c66d7d504d7352f2b8c105d3c</td>\n",
       "      <td>misc_net</td>\n",
       "      <td>fraud_Dach-Nader</td>\n",
       "    </tr>\n",
       "    <tr>\n",
       "      <th>2</th>\n",
       "      <td>750-09-7342</td>\n",
       "      <td>Amanda</td>\n",
       "      <td>Morris</td>\n",
       "      <td>F</td>\n",
       "      <td>144 Bowers Route</td>\n",
       "      <td>Tracy</td>\n",
       "      <td>CA</td>\n",
       "      <td>Teaching laboratory technician</td>\n",
       "      <td>young_adults_female_urban.json</td>\n",
       "      <td>bc0bfcd9e0132b171e538192b0e27777</td>\n",
       "      <td>grocery_pos</td>\n",
       "      <td>fraud_Pacocha-O'Reilly</td>\n",
       "    </tr>\n",
       "    <tr>\n",
       "      <th>3</th>\n",
       "      <td>750-09-7342</td>\n",
       "      <td>Amanda</td>\n",
       "      <td>Morris</td>\n",
       "      <td>F</td>\n",
       "      <td>144 Bowers Route</td>\n",
       "      <td>Tracy</td>\n",
       "      <td>CA</td>\n",
       "      <td>Teaching laboratory technician</td>\n",
       "      <td>young_adults_female_urban.json</td>\n",
       "      <td>483c446c7b56a11f0d4538056eb79984</td>\n",
       "      <td>gas_transport</td>\n",
       "      <td>fraud_Kutch, Hermiston and Farrell</td>\n",
       "    </tr>\n",
       "  </tbody>\n",
       "</table>\n",
       "</div>"
      ],
      "text/plain": [
       "           ssn   first    last gender            street   city state  \\\n",
       "0  750-09-7342  Amanda  Morris      F  144 Bowers Route  Tracy    CA   \n",
       "1  750-09-7342  Amanda  Morris      F  144 Bowers Route  Tracy    CA   \n",
       "2  750-09-7342  Amanda  Morris      F  144 Bowers Route  Tracy    CA   \n",
       "3  750-09-7342  Amanda  Morris      F  144 Bowers Route  Tracy    CA   \n",
       "\n",
       "                              job                         profile  \\\n",
       "0  Teaching laboratory technician  young_adults_female_urban.json   \n",
       "1  Teaching laboratory technician  young_adults_female_urban.json   \n",
       "2  Teaching laboratory technician  young_adults_female_urban.json   \n",
       "3  Teaching laboratory technician  young_adults_female_urban.json   \n",
       "\n",
       "                          trans_num       category  \\\n",
       "0  52226c099d060def61a7e0d3de214e4b       misc_net   \n",
       "1  6495d95c66d7d504d7352f2b8c105d3c       misc_net   \n",
       "2  bc0bfcd9e0132b171e538192b0e27777    grocery_pos   \n",
       "3  483c446c7b56a11f0d4538056eb79984  gas_transport   \n",
       "\n",
       "                             merchant  \n",
       "0      fraud_Moore, Dibbert and Koepp  \n",
       "1                    fraud_Dach-Nader  \n",
       "2              fraud_Pacocha-O'Reilly  \n",
       "3  fraud_Kutch, Hermiston and Farrell  "
      ]
     },
     "execution_count": 36,
     "metadata": {},
     "output_type": "execute_result"
    }
   ],
   "source": [
    "object_cols.head(4)"
   ]
  },
  {
   "cell_type": "code",
   "execution_count": 37,
   "id": "50bd5775",
   "metadata": {},
   "outputs": [
    {
     "data": {
      "text/html": [
       "<div>\n",
       "<style scoped>\n",
       "    .dataframe tbody tr th:only-of-type {\n",
       "        vertical-align: middle;\n",
       "    }\n",
       "\n",
       "    .dataframe tbody tr th {\n",
       "        vertical-align: top;\n",
       "    }\n",
       "\n",
       "    .dataframe thead th {\n",
       "        text-align: right;\n",
       "    }\n",
       "</style>\n",
       "<table border=\"1\" class=\"dataframe\">\n",
       "  <thead>\n",
       "    <tr style=\"text-align: right;\">\n",
       "      <th></th>\n",
       "      <th>count</th>\n",
       "      <th>nulls</th>\n",
       "      <th>nulls%</th>\n",
       "      <th>cardinality</th>\n",
       "      <th>dtype</th>\n",
       "    </tr>\n",
       "  </thead>\n",
       "  <tbody>\n",
       "    <tr>\n",
       "      <th>trans_num</th>\n",
       "      <td>17292422</td>\n",
       "      <td>0</td>\n",
       "      <td>0.0</td>\n",
       "      <td>17292422</td>\n",
       "      <td>object</td>\n",
       "    </tr>\n",
       "    <tr>\n",
       "      <th>ssn</th>\n",
       "      <td>17292422</td>\n",
       "      <td>0</td>\n",
       "      <td>0.0</td>\n",
       "      <td>18653</td>\n",
       "      <td>object</td>\n",
       "    </tr>\n",
       "    <tr>\n",
       "      <th>street</th>\n",
       "      <td>17292422</td>\n",
       "      <td>0</td>\n",
       "      <td>0.0</td>\n",
       "      <td>18653</td>\n",
       "      <td>object</td>\n",
       "    </tr>\n",
       "    <tr>\n",
       "      <th>city</th>\n",
       "      <td>17292422</td>\n",
       "      <td>0</td>\n",
       "      <td>0.0</td>\n",
       "      <td>5034</td>\n",
       "      <td>object</td>\n",
       "    </tr>\n",
       "    <tr>\n",
       "      <th>last</th>\n",
       "      <td>17292422</td>\n",
       "      <td>0</td>\n",
       "      <td>0.0</td>\n",
       "      <td>1000</td>\n",
       "      <td>object</td>\n",
       "    </tr>\n",
       "    <tr>\n",
       "      <th>merchant</th>\n",
       "      <td>17292422</td>\n",
       "      <td>0</td>\n",
       "      <td>0.0</td>\n",
       "      <td>693</td>\n",
       "      <td>object</td>\n",
       "    </tr>\n",
       "    <tr>\n",
       "      <th>first</th>\n",
       "      <td>17292422</td>\n",
       "      <td>0</td>\n",
       "      <td>0.0</td>\n",
       "      <td>686</td>\n",
       "      <td>object</td>\n",
       "    </tr>\n",
       "    <tr>\n",
       "      <th>job</th>\n",
       "      <td>17292422</td>\n",
       "      <td>0</td>\n",
       "      <td>0.0</td>\n",
       "      <td>639</td>\n",
       "      <td>object</td>\n",
       "    </tr>\n",
       "    <tr>\n",
       "      <th>state</th>\n",
       "      <td>17292422</td>\n",
       "      <td>0</td>\n",
       "      <td>0.0</td>\n",
       "      <td>51</td>\n",
       "      <td>object</td>\n",
       "    </tr>\n",
       "    <tr>\n",
       "      <th>category</th>\n",
       "      <td>17292422</td>\n",
       "      <td>0</td>\n",
       "      <td>0.0</td>\n",
       "      <td>14</td>\n",
       "      <td>object</td>\n",
       "    </tr>\n",
       "    <tr>\n",
       "      <th>profile</th>\n",
       "      <td>17292422</td>\n",
       "      <td>0</td>\n",
       "      <td>0.0</td>\n",
       "      <td>12</td>\n",
       "      <td>object</td>\n",
       "    </tr>\n",
       "    <tr>\n",
       "      <th>gender</th>\n",
       "      <td>17292422</td>\n",
       "      <td>0</td>\n",
       "      <td>0.0</td>\n",
       "      <td>2</td>\n",
       "      <td>object</td>\n",
       "    </tr>\n",
       "  </tbody>\n",
       "</table>\n",
       "</div>"
      ],
      "text/plain": [
       "              count  nulls  nulls%  cardinality   dtype\n",
       "trans_num  17292422      0     0.0     17292422  object\n",
       "ssn        17292422      0     0.0        18653  object\n",
       "street     17292422      0     0.0        18653  object\n",
       "city       17292422      0     0.0         5034  object\n",
       "last       17292422      0     0.0         1000  object\n",
       "merchant   17292422      0     0.0          693  object\n",
       "first      17292422      0     0.0          686  object\n",
       "job        17292422      0     0.0          639  object\n",
       "state      17292422      0     0.0           51  object\n",
       "category   17292422      0     0.0           14  object\n",
       "profile    17292422      0     0.0           12  object\n",
       "gender     17292422      0     0.0            2  object"
      ]
     },
     "metadata": {},
     "output_type": "display_data"
    }
   ],
   "source": [
    "summary_table = column_summary(object_cols)\n",
    "display(summary_table.sort_values(\"cardinality\", ascending=False))"
   ]
  },
  {
   "cell_type": "markdown",
   "id": "603f1153",
   "metadata": {},
   "source": [
    "- `trans_num` has high cardinality and all are unique identifiers (not really useful)\n",
    "- `ssn` is unique identifier for the customers, no point removing '-', we might use it for group by.\n",
    "- `street`,`city`,`state` - check for granularity and category reduction.\n",
    "- `last` & `first` - consider removing.\n",
    "- `job` - reduce categories.\n",
    "- `category` - ?? keep\n",
    "- `metchant` - clean text"
   ]
  },
  {
   "cell_type": "code",
   "execution_count": 38,
   "id": "c1b118fa",
   "metadata": {},
   "outputs": [
    {
     "data": {
      "text/html": [
       "<div>\n",
       "<style scoped>\n",
       "    .dataframe tbody tr th:only-of-type {\n",
       "        vertical-align: middle;\n",
       "    }\n",
       "\n",
       "    .dataframe tbody tr th {\n",
       "        vertical-align: top;\n",
       "    }\n",
       "\n",
       "    .dataframe thead th {\n",
       "        text-align: right;\n",
       "    }\n",
       "</style>\n",
       "<table border=\"1\" class=\"dataframe\">\n",
       "  <thead>\n",
       "    <tr style=\"text-align: right;\">\n",
       "      <th></th>\n",
       "      <th>count</th>\n",
       "      <th>nulls</th>\n",
       "      <th>nulls%</th>\n",
       "      <th>cardinality</th>\n",
       "      <th>dtype</th>\n",
       "      <th>remark</th>\n",
       "    </tr>\n",
       "  </thead>\n",
       "  <tbody>\n",
       "    <tr>\n",
       "      <th>trans_num</th>\n",
       "      <td>17292422</td>\n",
       "      <td>0</td>\n",
       "      <td>0.0</td>\n",
       "      <td>17292422</td>\n",
       "      <td>object</td>\n",
       "      <td>Remove</td>\n",
       "    </tr>\n",
       "    <tr>\n",
       "      <th>ssn</th>\n",
       "      <td>17292422</td>\n",
       "      <td>0</td>\n",
       "      <td>0.0</td>\n",
       "      <td>18653</td>\n",
       "      <td>object</td>\n",
       "      <td>Remove</td>\n",
       "    </tr>\n",
       "    <tr>\n",
       "      <th>street</th>\n",
       "      <td>17292422</td>\n",
       "      <td>0</td>\n",
       "      <td>0.0</td>\n",
       "      <td>18653</td>\n",
       "      <td>object</td>\n",
       "      <td>Remove</td>\n",
       "    </tr>\n",
       "    <tr>\n",
       "      <th>city</th>\n",
       "      <td>17292422</td>\n",
       "      <td>0</td>\n",
       "      <td>0.0</td>\n",
       "      <td>5034</td>\n",
       "      <td>object</td>\n",
       "      <td>NaN</td>\n",
       "    </tr>\n",
       "    <tr>\n",
       "      <th>last</th>\n",
       "      <td>17292422</td>\n",
       "      <td>0</td>\n",
       "      <td>0.0</td>\n",
       "      <td>1000</td>\n",
       "      <td>object</td>\n",
       "      <td>Remove</td>\n",
       "    </tr>\n",
       "    <tr>\n",
       "      <th>merchant</th>\n",
       "      <td>17292422</td>\n",
       "      <td>0</td>\n",
       "      <td>0.0</td>\n",
       "      <td>693</td>\n",
       "      <td>object</td>\n",
       "      <td>NaN</td>\n",
       "    </tr>\n",
       "    <tr>\n",
       "      <th>first</th>\n",
       "      <td>17292422</td>\n",
       "      <td>0</td>\n",
       "      <td>0.0</td>\n",
       "      <td>686</td>\n",
       "      <td>object</td>\n",
       "      <td>Remove</td>\n",
       "    </tr>\n",
       "    <tr>\n",
       "      <th>job</th>\n",
       "      <td>17292422</td>\n",
       "      <td>0</td>\n",
       "      <td>0.0</td>\n",
       "      <td>639</td>\n",
       "      <td>object</td>\n",
       "      <td>NaN</td>\n",
       "    </tr>\n",
       "    <tr>\n",
       "      <th>state</th>\n",
       "      <td>17292422</td>\n",
       "      <td>0</td>\n",
       "      <td>0.0</td>\n",
       "      <td>51</td>\n",
       "      <td>object</td>\n",
       "      <td>NaN</td>\n",
       "    </tr>\n",
       "    <tr>\n",
       "      <th>category</th>\n",
       "      <td>17292422</td>\n",
       "      <td>0</td>\n",
       "      <td>0.0</td>\n",
       "      <td>14</td>\n",
       "      <td>object</td>\n",
       "      <td>NaN</td>\n",
       "    </tr>\n",
       "    <tr>\n",
       "      <th>profile</th>\n",
       "      <td>17292422</td>\n",
       "      <td>0</td>\n",
       "      <td>0.0</td>\n",
       "      <td>12</td>\n",
       "      <td>object</td>\n",
       "      <td>NaN</td>\n",
       "    </tr>\n",
       "    <tr>\n",
       "      <th>gender</th>\n",
       "      <td>17292422</td>\n",
       "      <td>0</td>\n",
       "      <td>0.0</td>\n",
       "      <td>2</td>\n",
       "      <td>object</td>\n",
       "      <td>NaN</td>\n",
       "    </tr>\n",
       "  </tbody>\n",
       "</table>\n",
       "</div>"
      ],
      "text/plain": [
       "              count  nulls  nulls%  cardinality   dtype  remark\n",
       "trans_num  17292422      0     0.0     17292422  object  Remove\n",
       "ssn        17292422      0     0.0        18653  object  Remove\n",
       "street     17292422      0     0.0        18653  object  Remove\n",
       "city       17292422      0     0.0         5034  object     NaN\n",
       "last       17292422      0     0.0         1000  object  Remove\n",
       "merchant   17292422      0     0.0          693  object     NaN\n",
       "first      17292422      0     0.0          686  object  Remove\n",
       "job        17292422      0     0.0          639  object     NaN\n",
       "state      17292422      0     0.0           51  object     NaN\n",
       "category   17292422      0     0.0           14  object     NaN\n",
       "profile    17292422      0     0.0           12  object     NaN\n",
       "gender     17292422      0     0.0            2  object     NaN"
      ]
     },
     "metadata": {},
     "output_type": "display_data"
    }
   ],
   "source": [
    "cols_to_drop = [\"ssn\", \"first\", \"last\", \"street\", \"trans_num\"]\n",
    "#ssn - semsitive, no predictive power, unique per person\n",
    "#first, last - no predictive power\n",
    "#street - high cardinality, no predictive power\n",
    "#trans_num - unique per transaction, no predictive power\n",
    "summary_table.loc[summary_table.index.isin(cols_to_drop), \"remark\"] = \"Remove\"\n",
    "display(summary_table.sort_values(\"cardinality\", ascending=False))\n"
   ]
  },
  {
   "cell_type": "code",
   "execution_count": 39,
   "id": "cc9e3a22",
   "metadata": {},
   "outputs": [
    {
     "data": {
      "text/html": [
       "<div>\n",
       "<style scoped>\n",
       "    .dataframe tbody tr th:only-of-type {\n",
       "        vertical-align: middle;\n",
       "    }\n",
       "\n",
       "    .dataframe tbody tr th {\n",
       "        vertical-align: top;\n",
       "    }\n",
       "\n",
       "    .dataframe thead th {\n",
       "        text-align: right;\n",
       "    }\n",
       "</style>\n",
       "<table border=\"1\" class=\"dataframe\">\n",
       "  <thead>\n",
       "    <tr style=\"text-align: right;\">\n",
       "      <th></th>\n",
       "      <th>count</th>\n",
       "      <th>nulls</th>\n",
       "      <th>nulls%</th>\n",
       "      <th>cardinality</th>\n",
       "      <th>dtype</th>\n",
       "      <th>remark</th>\n",
       "    </tr>\n",
       "  </thead>\n",
       "  <tbody>\n",
       "    <tr>\n",
       "      <th>city</th>\n",
       "      <td>17292422</td>\n",
       "      <td>0</td>\n",
       "      <td>0.0</td>\n",
       "      <td>5034</td>\n",
       "      <td>object</td>\n",
       "      <td>NaN</td>\n",
       "    </tr>\n",
       "    <tr>\n",
       "      <th>merchant</th>\n",
       "      <td>17292422</td>\n",
       "      <td>0</td>\n",
       "      <td>0.0</td>\n",
       "      <td>693</td>\n",
       "      <td>object</td>\n",
       "      <td>NaN</td>\n",
       "    </tr>\n",
       "    <tr>\n",
       "      <th>job</th>\n",
       "      <td>17292422</td>\n",
       "      <td>0</td>\n",
       "      <td>0.0</td>\n",
       "      <td>639</td>\n",
       "      <td>object</td>\n",
       "      <td>NaN</td>\n",
       "    </tr>\n",
       "    <tr>\n",
       "      <th>state</th>\n",
       "      <td>17292422</td>\n",
       "      <td>0</td>\n",
       "      <td>0.0</td>\n",
       "      <td>51</td>\n",
       "      <td>object</td>\n",
       "      <td>NaN</td>\n",
       "    </tr>\n",
       "    <tr>\n",
       "      <th>category</th>\n",
       "      <td>17292422</td>\n",
       "      <td>0</td>\n",
       "      <td>0.0</td>\n",
       "      <td>14</td>\n",
       "      <td>object</td>\n",
       "      <td>NaN</td>\n",
       "    </tr>\n",
       "    <tr>\n",
       "      <th>profile</th>\n",
       "      <td>17292422</td>\n",
       "      <td>0</td>\n",
       "      <td>0.0</td>\n",
       "      <td>12</td>\n",
       "      <td>object</td>\n",
       "      <td>NaN</td>\n",
       "    </tr>\n",
       "    <tr>\n",
       "      <th>gender</th>\n",
       "      <td>17292422</td>\n",
       "      <td>0</td>\n",
       "      <td>0.0</td>\n",
       "      <td>2</td>\n",
       "      <td>object</td>\n",
       "      <td>NaN</td>\n",
       "    </tr>\n",
       "  </tbody>\n",
       "</table>\n",
       "</div>"
      ],
      "text/plain": [
       "             count  nulls  nulls%  cardinality   dtype remark\n",
       "city      17292422      0     0.0         5034  object    NaN\n",
       "merchant  17292422      0     0.0          693  object    NaN\n",
       "job       17292422      0     0.0          639  object    NaN\n",
       "state     17292422      0     0.0           51  object    NaN\n",
       "category  17292422      0     0.0           14  object    NaN\n",
       "profile   17292422      0     0.0           12  object    NaN\n",
       "gender    17292422      0     0.0            2  object    NaN"
      ]
     },
     "metadata": {},
     "output_type": "display_data"
    }
   ],
   "source": [
    "display(summary_table[summary_table[\"remark\"].isna() | (summary_table[\"remark\"] == \"\")].sort_values(\"cardinality\", ascending=False))"
   ]
  },
  {
   "cell_type": "markdown",
   "id": "b810a454",
   "metadata": {},
   "source": [
    "#### <font color='Navy'> 🔹Gender - Dtype correction and Encoding\n",
    "- Classify original column from obj --> category for EDA\n",
    "- Create an already Encoded column\n",
    "- Add original to removable columns list\n"
   ]
  },
  {
   "cell_type": "code",
   "execution_count": 40,
   "id": "b689d5c8",
   "metadata": {},
   "outputs": [
    {
     "data": {
      "text/plain": [
       "gender\n",
       "F    8949900\n",
       "M    8342522\n",
       "Name: count, dtype: int64"
      ]
     },
     "execution_count": 40,
     "metadata": {},
     "output_type": "execute_result"
    }
   ],
   "source": [
    "df_2020['gender'].value_counts()"
   ]
  },
  {
   "cell_type": "code",
   "execution_count": 41,
   "id": "8ffd71b6",
   "metadata": {},
   "outputs": [
    {
     "name": "stdout",
     "output_type": "stream",
     "text": [
      "category\n",
      "int8\n"
     ]
    }
   ],
   "source": [
    "# Clean and encode gender\n",
    "df_2020['gender'] = df_2020['gender'].str.strip().str.upper()  # just to be safe\n",
    "df_2020['gender'] = df_2020['gender'].astype('category')\n",
    "\n",
    "# Create encoded numeric column\n",
    "df_2020['gender_encoded'] = df_2020['gender'].map({'F': 0, 'M': 1}).astype('int8')\n",
    "\n",
    "# Optional: verify\n",
    "print(df_2020['gender'].dtype)\n",
    "print(df_2020['gender_encoded'].dtype)\n"
   ]
  },
  {
   "cell_type": "code",
   "execution_count": 42,
   "id": "bb15da29",
   "metadata": {},
   "outputs": [
    {
     "data": {
      "text/html": [
       "<div>\n",
       "<style scoped>\n",
       "    .dataframe tbody tr th:only-of-type {\n",
       "        vertical-align: middle;\n",
       "    }\n",
       "\n",
       "    .dataframe tbody tr th {\n",
       "        vertical-align: top;\n",
       "    }\n",
       "\n",
       "    .dataframe thead th {\n",
       "        text-align: right;\n",
       "    }\n",
       "</style>\n",
       "<table border=\"1\" class=\"dataframe\">\n",
       "  <thead>\n",
       "    <tr style=\"text-align: right;\">\n",
       "      <th></th>\n",
       "      <th>count</th>\n",
       "      <th>nulls</th>\n",
       "      <th>nulls%</th>\n",
       "      <th>cardinality</th>\n",
       "      <th>dtype</th>\n",
       "      <th>remark</th>\n",
       "    </tr>\n",
       "  </thead>\n",
       "  <tbody>\n",
       "    <tr>\n",
       "      <th>trans_num</th>\n",
       "      <td>17292422</td>\n",
       "      <td>0</td>\n",
       "      <td>0.0</td>\n",
       "      <td>17292422</td>\n",
       "      <td>object</td>\n",
       "      <td>Remove</td>\n",
       "    </tr>\n",
       "    <tr>\n",
       "      <th>ssn</th>\n",
       "      <td>17292422</td>\n",
       "      <td>0</td>\n",
       "      <td>0.0</td>\n",
       "      <td>18653</td>\n",
       "      <td>object</td>\n",
       "      <td>Remove</td>\n",
       "    </tr>\n",
       "    <tr>\n",
       "      <th>street</th>\n",
       "      <td>17292422</td>\n",
       "      <td>0</td>\n",
       "      <td>0.0</td>\n",
       "      <td>18653</td>\n",
       "      <td>object</td>\n",
       "      <td>Remove</td>\n",
       "    </tr>\n",
       "    <tr>\n",
       "      <th>city</th>\n",
       "      <td>17292422</td>\n",
       "      <td>0</td>\n",
       "      <td>0.0</td>\n",
       "      <td>5034</td>\n",
       "      <td>object</td>\n",
       "      <td>NaN</td>\n",
       "    </tr>\n",
       "    <tr>\n",
       "      <th>last</th>\n",
       "      <td>17292422</td>\n",
       "      <td>0</td>\n",
       "      <td>0.0</td>\n",
       "      <td>1000</td>\n",
       "      <td>object</td>\n",
       "      <td>Remove</td>\n",
       "    </tr>\n",
       "    <tr>\n",
       "      <th>merchant</th>\n",
       "      <td>17292422</td>\n",
       "      <td>0</td>\n",
       "      <td>0.0</td>\n",
       "      <td>693</td>\n",
       "      <td>object</td>\n",
       "      <td>NaN</td>\n",
       "    </tr>\n",
       "    <tr>\n",
       "      <th>first</th>\n",
       "      <td>17292422</td>\n",
       "      <td>0</td>\n",
       "      <td>0.0</td>\n",
       "      <td>686</td>\n",
       "      <td>object</td>\n",
       "      <td>Remove</td>\n",
       "    </tr>\n",
       "    <tr>\n",
       "      <th>job</th>\n",
       "      <td>17292422</td>\n",
       "      <td>0</td>\n",
       "      <td>0.0</td>\n",
       "      <td>639</td>\n",
       "      <td>object</td>\n",
       "      <td>NaN</td>\n",
       "    </tr>\n",
       "    <tr>\n",
       "      <th>state</th>\n",
       "      <td>17292422</td>\n",
       "      <td>0</td>\n",
       "      <td>0.0</td>\n",
       "      <td>51</td>\n",
       "      <td>object</td>\n",
       "      <td>NaN</td>\n",
       "    </tr>\n",
       "    <tr>\n",
       "      <th>category</th>\n",
       "      <td>17292422</td>\n",
       "      <td>0</td>\n",
       "      <td>0.0</td>\n",
       "      <td>14</td>\n",
       "      <td>object</td>\n",
       "      <td>NaN</td>\n",
       "    </tr>\n",
       "    <tr>\n",
       "      <th>profile</th>\n",
       "      <td>17292422</td>\n",
       "      <td>0</td>\n",
       "      <td>0.0</td>\n",
       "      <td>12</td>\n",
       "      <td>object</td>\n",
       "      <td>NaN</td>\n",
       "    </tr>\n",
       "    <tr>\n",
       "      <th>gender</th>\n",
       "      <td>17292422</td>\n",
       "      <td>0</td>\n",
       "      <td>0.0</td>\n",
       "      <td>2</td>\n",
       "      <td>object</td>\n",
       "      <td>Cetogorized and Encoded in new Column</td>\n",
       "    </tr>\n",
       "  </tbody>\n",
       "</table>\n",
       "</div>"
      ],
      "text/plain": [
       "              count  nulls  nulls%  cardinality   dtype  \\\n",
       "trans_num  17292422      0     0.0     17292422  object   \n",
       "ssn        17292422      0     0.0        18653  object   \n",
       "street     17292422      0     0.0        18653  object   \n",
       "city       17292422      0     0.0         5034  object   \n",
       "last       17292422      0     0.0         1000  object   \n",
       "merchant   17292422      0     0.0          693  object   \n",
       "first      17292422      0     0.0          686  object   \n",
       "job        17292422      0     0.0          639  object   \n",
       "state      17292422      0     0.0           51  object   \n",
       "category   17292422      0     0.0           14  object   \n",
       "profile    17292422      0     0.0           12  object   \n",
       "gender     17292422      0     0.0            2  object   \n",
       "\n",
       "                                          remark  \n",
       "trans_num                                 Remove  \n",
       "ssn                                       Remove  \n",
       "street                                    Remove  \n",
       "city                                         NaN  \n",
       "last                                      Remove  \n",
       "merchant                                     NaN  \n",
       "first                                     Remove  \n",
       "job                                          NaN  \n",
       "state                                        NaN  \n",
       "category                                     NaN  \n",
       "profile                                      NaN  \n",
       "gender     Cetogorized and Encoded in new Column  "
      ]
     },
     "metadata": {},
     "output_type": "display_data"
    }
   ],
   "source": [
    "add_remark(summary_table, \"gender\", \"Cetogorized and Encoded in new Column\")"
   ]
  },
  {
   "cell_type": "code",
   "execution_count": 43,
   "id": "f864f09a",
   "metadata": {},
   "outputs": [
    {
     "data": {
      "text/html": [
       "<div>\n",
       "<style scoped>\n",
       "    .dataframe tbody tr th:only-of-type {\n",
       "        vertical-align: middle;\n",
       "    }\n",
       "\n",
       "    .dataframe tbody tr th {\n",
       "        vertical-align: top;\n",
       "    }\n",
       "\n",
       "    .dataframe thead th {\n",
       "        text-align: right;\n",
       "    }\n",
       "</style>\n",
       "<table border=\"1\" class=\"dataframe\">\n",
       "  <thead>\n",
       "    <tr style=\"text-align: right;\">\n",
       "      <th></th>\n",
       "      <th>count</th>\n",
       "      <th>nulls</th>\n",
       "      <th>nulls%</th>\n",
       "      <th>cardinality</th>\n",
       "      <th>dtype</th>\n",
       "      <th>remark</th>\n",
       "    </tr>\n",
       "  </thead>\n",
       "  <tbody>\n",
       "    <tr>\n",
       "      <th>city</th>\n",
       "      <td>17292422</td>\n",
       "      <td>0</td>\n",
       "      <td>0.0</td>\n",
       "      <td>5034</td>\n",
       "      <td>object</td>\n",
       "      <td>NaN</td>\n",
       "    </tr>\n",
       "    <tr>\n",
       "      <th>merchant</th>\n",
       "      <td>17292422</td>\n",
       "      <td>0</td>\n",
       "      <td>0.0</td>\n",
       "      <td>693</td>\n",
       "      <td>object</td>\n",
       "      <td>NaN</td>\n",
       "    </tr>\n",
       "    <tr>\n",
       "      <th>job</th>\n",
       "      <td>17292422</td>\n",
       "      <td>0</td>\n",
       "      <td>0.0</td>\n",
       "      <td>639</td>\n",
       "      <td>object</td>\n",
       "      <td>NaN</td>\n",
       "    </tr>\n",
       "    <tr>\n",
       "      <th>state</th>\n",
       "      <td>17292422</td>\n",
       "      <td>0</td>\n",
       "      <td>0.0</td>\n",
       "      <td>51</td>\n",
       "      <td>object</td>\n",
       "      <td>NaN</td>\n",
       "    </tr>\n",
       "    <tr>\n",
       "      <th>category</th>\n",
       "      <td>17292422</td>\n",
       "      <td>0</td>\n",
       "      <td>0.0</td>\n",
       "      <td>14</td>\n",
       "      <td>object</td>\n",
       "      <td>NaN</td>\n",
       "    </tr>\n",
       "    <tr>\n",
       "      <th>profile</th>\n",
       "      <td>17292422</td>\n",
       "      <td>0</td>\n",
       "      <td>0.0</td>\n",
       "      <td>12</td>\n",
       "      <td>object</td>\n",
       "      <td>NaN</td>\n",
       "    </tr>\n",
       "  </tbody>\n",
       "</table>\n",
       "</div>"
      ],
      "text/plain": [
       "             count  nulls  nulls%  cardinality   dtype remark\n",
       "city      17292422      0     0.0         5034  object    NaN\n",
       "merchant  17292422      0     0.0          693  object    NaN\n",
       "job       17292422      0     0.0          639  object    NaN\n",
       "state     17292422      0     0.0           51  object    NaN\n",
       "category  17292422      0     0.0           14  object    NaN\n",
       "profile   17292422      0     0.0           12  object    NaN"
      ]
     },
     "metadata": {},
     "output_type": "display_data"
    }
   ],
   "source": [
    "display(summary_table[summary_table[\"remark\"].isna() | (summary_table[\"remark\"] == \"\")].sort_values(\"cardinality\", ascending=False))"
   ]
  },
  {
   "cell_type": "markdown",
   "id": "6b0624fc",
   "metadata": {},
   "source": [
    "#### <font color='Navy'> 🔹Profile:\n",
    "- Inspection\n",
    "- Calssify as category\n",
    "- Seperate into columns - 'age group', 'gender', 'location'\n"
   ]
  },
  {
   "cell_type": "code",
   "execution_count": 44,
   "id": "3a48edba",
   "metadata": {},
   "outputs": [
    {
     "data": {
      "text/plain": [
       "0    young_adults_female_urban.json\n",
       "1    young_adults_female_urban.json\n",
       "2    young_adults_female_urban.json\n",
       "3    young_adults_female_urban.json\n",
       "4    young_adults_female_urban.json\n",
       "Name: profile, dtype: object"
      ]
     },
     "execution_count": 44,
     "metadata": {},
     "output_type": "execute_result"
    }
   ],
   "source": [
    "df_2020['profile'].head(5)\n"
   ]
  },
  {
   "cell_type": "code",
   "execution_count": 45,
   "id": "01f2f5b5",
   "metadata": {},
   "outputs": [],
   "source": [
    "df_2020['gender'] = df_2020['gender'].str.strip().str.lower()  # just to be safe\n",
    "df_2020['gender'] = df_2020['gender'].astype('category')"
   ]
  },
  {
   "cell_type": "code",
   "execution_count": 46,
   "id": "e66563a0",
   "metadata": {},
   "outputs": [
    {
     "data": {
      "text/plain": [
       "0    young_adults_female_urban\n",
       "1    young_adults_female_urban\n",
       "2    young_adults_female_urban\n",
       "3    young_adults_female_urban\n",
       "4    young_adults_female_urban\n",
       "Name: profile, dtype: object"
      ]
     },
     "execution_count": 46,
     "metadata": {},
     "output_type": "execute_result"
    }
   ],
   "source": [
    "df_2020['profile'] = df_2020['profile'].str.replace('.json', '', regex=False)\n",
    "df_2020['profile'].head(5)\n"
   ]
  },
  {
   "cell_type": "code",
   "execution_count": 47,
   "id": "c03fceed",
   "metadata": {},
   "outputs": [],
   "source": [
    "df_2020[\"age_group\"] = df_2020[\"profile\"].str.split(\"_\").str[:2].str.join(\"_\")"
   ]
  },
  {
   "cell_type": "code",
   "execution_count": 48,
   "id": "a34fa742",
   "metadata": {},
   "outputs": [
    {
     "data": {
      "text/plain": [
       "0    young_adults\n",
       "1    young_adults\n",
       "2    young_adults\n",
       "3    young_adults\n",
       "4    young_adults\n",
       "Name: age_group, dtype: category\n",
       "Categories (3, object): ['adults_2550', 'adults_50up', 'young_adults']"
      ]
     },
     "execution_count": 48,
     "metadata": {},
     "output_type": "execute_result"
    }
   ],
   "source": [
    "df_2020['age_group'] = df_2020['age_group'].astype('category')\n",
    "df_2020['age_group'].head(5)\n"
   ]
  },
  {
   "cell_type": "code",
   "execution_count": 49,
   "id": "1afbea3d",
   "metadata": {},
   "outputs": [],
   "source": [
    "# ✅ Step 1: Build a lightweight temporary table\n",
    "age_check_df = df_2020[['dob', 'trans_date', 'age_group']].copy()\n",
    "\n",
    "# ✅ Step 2: Compute numeric age\n",
    "age_check_df['age_calc'] = ((age_check_df['trans_date'] - age_check_df['dob']).dt.days / 365.25).astype('int')\n",
    "\n",
    "# ✅ Step 3: Categorize by computed age\n",
    "def categorize_age(age):\n",
    "    if pd.isna(age):\n",
    "        return 'unknown'\n",
    "    elif age < 25:\n",
    "        return 'young_adults'\n",
    "    elif 25 <= age < 50:\n",
    "        return 'adults_2550'\n",
    "    else:\n",
    "        return 'adults_50up'\n",
    "\n",
    "age_check_df['age_group_calc'] = age_check_df['age_calc'].apply(categorize_age)\n",
    "\n",
    "# ✅ Step 4: Compare calculated vs profile-derived age groups\n",
    "age_check_df['match'] = age_check_df['age_group_calc'] == age_check_df['age_group']\n",
    "\n"
   ]
  },
  {
   "cell_type": "code",
   "execution_count": 50,
   "id": "6cf43b87",
   "metadata": {},
   "outputs": [
    {
     "data": {
      "text/plain": [
       "match\n",
       "True     87.89\n",
       "False    12.11\n",
       "Name: proportion, dtype: float64"
      ]
     },
     "execution_count": 50,
     "metadata": {},
     "output_type": "execute_result"
    }
   ],
   "source": [
    "age_check_df['match'].value_counts(normalize=True).mul(100).round(2)\n"
   ]
  },
  {
   "cell_type": "code",
   "execution_count": 51,
   "id": "e235a553",
   "metadata": {},
   "outputs": [
    {
     "data": {
      "text/html": [
       "<div>\n",
       "<style scoped>\n",
       "    .dataframe tbody tr th:only-of-type {\n",
       "        vertical-align: middle;\n",
       "    }\n",
       "\n",
       "    .dataframe tbody tr th {\n",
       "        vertical-align: top;\n",
       "    }\n",
       "\n",
       "    .dataframe thead th {\n",
       "        text-align: right;\n",
       "    }\n",
       "</style>\n",
       "<table border=\"1\" class=\"dataframe\">\n",
       "  <thead>\n",
       "    <tr style=\"text-align: right;\">\n",
       "      <th></th>\n",
       "      <th>dob</th>\n",
       "      <th>trans_date</th>\n",
       "      <th>age_calc</th>\n",
       "      <th>age_group</th>\n",
       "      <th>age_group_calc</th>\n",
       "    </tr>\n",
       "  </thead>\n",
       "  <tbody>\n",
       "    <tr>\n",
       "      <th>22280084</th>\n",
       "      <td>1995-05-03</td>\n",
       "      <td>2020-04-25</td>\n",
       "      <td>24</td>\n",
       "      <td>adults_2550</td>\n",
       "      <td>young_adults</td>\n",
       "    </tr>\n",
       "    <tr>\n",
       "      <th>7223605</th>\n",
       "      <td>1971-09-07</td>\n",
       "      <td>2020-04-25</td>\n",
       "      <td>48</td>\n",
       "      <td>adults_50up</td>\n",
       "      <td>adults_2550</td>\n",
       "    </tr>\n",
       "    <tr>\n",
       "      <th>20932627</th>\n",
       "      <td>1971-10-27</td>\n",
       "      <td>2020-12-29</td>\n",
       "      <td>49</td>\n",
       "      <td>adults_50up</td>\n",
       "      <td>adults_2550</td>\n",
       "    </tr>\n",
       "    <tr>\n",
       "      <th>27338997</th>\n",
       "      <td>1996-01-26</td>\n",
       "      <td>2020-09-13</td>\n",
       "      <td>24</td>\n",
       "      <td>adults_2550</td>\n",
       "      <td>young_adults</td>\n",
       "    </tr>\n",
       "    <tr>\n",
       "      <th>26654836</th>\n",
       "      <td>1972-01-03</td>\n",
       "      <td>2020-08-01</td>\n",
       "      <td>48</td>\n",
       "      <td>adults_50up</td>\n",
       "      <td>adults_2550</td>\n",
       "    </tr>\n",
       "    <tr>\n",
       "      <th>17396537</th>\n",
       "      <td>1997-10-09</td>\n",
       "      <td>2020-03-15</td>\n",
       "      <td>22</td>\n",
       "      <td>adults_2550</td>\n",
       "      <td>young_adults</td>\n",
       "    </tr>\n",
       "    <tr>\n",
       "      <th>7756486</th>\n",
       "      <td>1972-02-21</td>\n",
       "      <td>2020-11-14</td>\n",
       "      <td>48</td>\n",
       "      <td>adults_50up</td>\n",
       "      <td>adults_2550</td>\n",
       "    </tr>\n",
       "    <tr>\n",
       "      <th>30037494</th>\n",
       "      <td>1995-11-05</td>\n",
       "      <td>2020-07-19</td>\n",
       "      <td>24</td>\n",
       "      <td>adults_2550</td>\n",
       "      <td>young_adults</td>\n",
       "    </tr>\n",
       "    <tr>\n",
       "      <th>21939064</th>\n",
       "      <td>1996-03-29</td>\n",
       "      <td>2020-06-06</td>\n",
       "      <td>24</td>\n",
       "      <td>adults_2550</td>\n",
       "      <td>young_adults</td>\n",
       "    </tr>\n",
       "    <tr>\n",
       "      <th>26162636</th>\n",
       "      <td>1972-09-08</td>\n",
       "      <td>2020-12-24</td>\n",
       "      <td>48</td>\n",
       "      <td>adults_50up</td>\n",
       "      <td>adults_2550</td>\n",
       "    </tr>\n",
       "  </tbody>\n",
       "</table>\n",
       "</div>"
      ],
      "text/plain": [
       "                dob trans_date  age_calc    age_group age_group_calc\n",
       "22280084 1995-05-03 2020-04-25        24  adults_2550   young_adults\n",
       "7223605  1971-09-07 2020-04-25        48  adults_50up    adults_2550\n",
       "20932627 1971-10-27 2020-12-29        49  adults_50up    adults_2550\n",
       "27338997 1996-01-26 2020-09-13        24  adults_2550   young_adults\n",
       "26654836 1972-01-03 2020-08-01        48  adults_50up    adults_2550\n",
       "17396537 1997-10-09 2020-03-15        22  adults_2550   young_adults\n",
       "7756486  1972-02-21 2020-11-14        48  adults_50up    adults_2550\n",
       "30037494 1995-11-05 2020-07-19        24  adults_2550   young_adults\n",
       "21939064 1996-03-29 2020-06-06        24  adults_2550   young_adults\n",
       "26162636 1972-09-08 2020-12-24        48  adults_50up    adults_2550"
      ]
     },
     "execution_count": 51,
     "metadata": {},
     "output_type": "execute_result"
    }
   ],
   "source": [
    "age_check_df[~age_check_df['match']][['dob', 'trans_date', 'age_calc', 'age_group', 'age_group_calc']].sample(10, random_state=42)\n"
   ]
  },
  {
   "cell_type": "code",
   "execution_count": 52,
   "id": "e7273a61",
   "metadata": {},
   "outputs": [
    {
     "name": "stdout",
     "output_type": "stream",
     "text": [
      "Rows with age 24: 392917\n"
     ]
    },
    {
     "data": {
      "text/html": [
       "<div>\n",
       "<style scoped>\n",
       "    .dataframe tbody tr th:only-of-type {\n",
       "        vertical-align: middle;\n",
       "    }\n",
       "\n",
       "    .dataframe tbody tr th {\n",
       "        vertical-align: top;\n",
       "    }\n",
       "\n",
       "    .dataframe thead th {\n",
       "        text-align: right;\n",
       "    }\n",
       "</style>\n",
       "<table border=\"1\" class=\"dataframe\">\n",
       "  <thead>\n",
       "    <tr style=\"text-align: right;\">\n",
       "      <th></th>\n",
       "      <th>age_calc</th>\n",
       "      <th>age_group</th>\n",
       "      <th>age_group_calc</th>\n",
       "    </tr>\n",
       "  </thead>\n",
       "  <tbody>\n",
       "    <tr>\n",
       "      <th>199414</th>\n",
       "      <td>24</td>\n",
       "      <td>adults_2550</td>\n",
       "      <td>young_adults</td>\n",
       "    </tr>\n",
       "    <tr>\n",
       "      <th>199429</th>\n",
       "      <td>24</td>\n",
       "      <td>adults_2550</td>\n",
       "      <td>young_adults</td>\n",
       "    </tr>\n",
       "    <tr>\n",
       "      <th>199431</th>\n",
       "      <td>24</td>\n",
       "      <td>adults_2550</td>\n",
       "      <td>young_adults</td>\n",
       "    </tr>\n",
       "    <tr>\n",
       "      <th>199439</th>\n",
       "      <td>24</td>\n",
       "      <td>adults_2550</td>\n",
       "      <td>young_adults</td>\n",
       "    </tr>\n",
       "    <tr>\n",
       "      <th>199445</th>\n",
       "      <td>24</td>\n",
       "      <td>adults_2550</td>\n",
       "      <td>young_adults</td>\n",
       "    </tr>\n",
       "    <tr>\n",
       "      <th>199446</th>\n",
       "      <td>24</td>\n",
       "      <td>adults_2550</td>\n",
       "      <td>young_adults</td>\n",
       "    </tr>\n",
       "    <tr>\n",
       "      <th>199448</th>\n",
       "      <td>24</td>\n",
       "      <td>adults_2550</td>\n",
       "      <td>young_adults</td>\n",
       "    </tr>\n",
       "    <tr>\n",
       "      <th>199451</th>\n",
       "      <td>24</td>\n",
       "      <td>adults_2550</td>\n",
       "      <td>young_adults</td>\n",
       "    </tr>\n",
       "    <tr>\n",
       "      <th>199476</th>\n",
       "      <td>24</td>\n",
       "      <td>adults_2550</td>\n",
       "      <td>young_adults</td>\n",
       "    </tr>\n",
       "    <tr>\n",
       "      <th>199488</th>\n",
       "      <td>24</td>\n",
       "      <td>adults_2550</td>\n",
       "      <td>young_adults</td>\n",
       "    </tr>\n",
       "  </tbody>\n",
       "</table>\n",
       "</div>"
      ],
      "text/plain": [
       "        age_calc    age_group age_group_calc\n",
       "199414        24  adults_2550   young_adults\n",
       "199429        24  adults_2550   young_adults\n",
       "199431        24  adults_2550   young_adults\n",
       "199439        24  adults_2550   young_adults\n",
       "199445        24  adults_2550   young_adults\n",
       "199446        24  adults_2550   young_adults\n",
       "199448        24  adults_2550   young_adults\n",
       "199451        24  adults_2550   young_adults\n",
       "199476        24  adults_2550   young_adults\n",
       "199488        24  adults_2550   young_adults"
      ]
     },
     "metadata": {},
     "output_type": "display_data"
    }
   ],
   "source": [
    "age_24 = age_check_df[age_check_df['age_calc'] == 24]\n",
    "print(\"Rows with age 24:\", len(age_24))\n",
    "display(age_24[['age_calc', 'age_group', 'age_group_calc']].head(10))\n"
   ]
  },
  {
   "cell_type": "markdown",
   "id": "0c00e8ad",
   "metadata": {},
   "source": [
    "#### <font color='Navy'> 🔹Age_Group Data Derivation - 2 Sources available, do they match?\n",
    "\n",
    "- it seems that the `profile` derived `age_group` is rounding the age before classification (exp. 24 is grouped into the 25to50)\n",
    "- the mistake however seems consistant.\n",
    "- for now i will keep both for EDA."
   ]
  },
  {
   "cell_type": "code",
   "execution_count": 59,
   "id": "03238dfb",
   "metadata": {},
   "outputs": [],
   "source": [
    "df_2020[\"location_profile\"] = df_2020[\"profile\"].str.split(\"_\").str[3]"
   ]
  },
  {
   "cell_type": "code",
   "execution_count": 61,
   "id": "e3c2d111",
   "metadata": {},
   "outputs": [],
   "source": [
    "df_2020[\"location_profile\"] = df_2020[\"location_profile\"].astype('category')"
   ]
  },
  {
   "cell_type": "markdown",
   "id": "622420c5",
   "metadata": {},
   "source": [
    "Since there is no additional information given by the customer.csv, we will be working on the credict_cart_fraud.csv\n",
    "1. Duplicate rows - completed in previous section. no duplicates.\n",
    "2. Null inspection\n",
    "3. Check object columns\n",
    "4. drop if a column has only one unique value\n",
    "5. Convert an objects into viable data \n",
    "6. Clean special characters and punctioation\n",
    "7. convert gender\n",
    "8. drop first and last name\n",
    "9. group states\n",
    "10. remove street?"
   ]
  },
  {
   "cell_type": "code",
   "execution_count": null,
   "id": "12c2e86b",
   "metadata": {},
   "outputs": [],
   "source": [
    "# Run on transactions_df\n",
    "summary_table = column_summary(df)\n",
    "display(summary_table.sort_values(\"nulls%\", ascending=False))\n",
    "\n"
   ]
  },
  {
   "cell_type": "markdown",
   "id": "8a8d2ddb",
   "metadata": {},
   "source": [
    "#### <font color='Navy'> 🔹Profile - Gender Derivation\n"
   ]
  },
  {
   "cell_type": "code",
   "execution_count": 58,
   "id": "dcb3686d",
   "metadata": {},
   "outputs": [
    {
     "name": "stdout",
     "output_type": "stream",
     "text": [
      "✅ Gender match rate: 100.00%\n"
     ]
    },
    {
     "data": {
      "text/html": [
       "<div>\n",
       "<style scoped>\n",
       "    .dataframe tbody tr th:only-of-type {\n",
       "        vertical-align: middle;\n",
       "    }\n",
       "\n",
       "    .dataframe tbody tr th {\n",
       "        vertical-align: top;\n",
       "    }\n",
       "\n",
       "    .dataframe thead th {\n",
       "        text-align: right;\n",
       "    }\n",
       "</style>\n",
       "<table border=\"1\" class=\"dataframe\">\n",
       "  <thead>\n",
       "    <tr style=\"text-align: right;\">\n",
       "      <th></th>\n",
       "      <th>gender_encoded</th>\n",
       "      <th>profile</th>\n",
       "      <th>gender_from_profile</th>\n",
       "      <th>gender_from_profile_encoded</th>\n",
       "      <th>match</th>\n",
       "    </tr>\n",
       "  </thead>\n",
       "  <tbody>\n",
       "  </tbody>\n",
       "</table>\n",
       "</div>"
      ],
      "text/plain": [
       "Empty DataFrame\n",
       "Columns: [gender_encoded, profile, gender_from_profile, gender_from_profile_encoded, match]\n",
       "Index: []"
      ]
     },
     "metadata": {},
     "output_type": "display_data"
    }
   ],
   "source": [
    "# ✅ Step 1: Build a lightweight temporary table\n",
    "gender_check_df = df_2020[['gender_encoded', 'profile']].copy()\n",
    "\n",
    "# ✅ Step 2: Extract gender from profile (index 1)\n",
    "gender_check_df['gender_from_profile'] = gender_check_df['profile'].str.split('_').str[2]\n",
    "\n",
    "# ✅ Step 3: Encode profile gender to match your encoding (assuming 0=F, 1=M)\n",
    "gender_check_df['gender_from_profile_encoded'] = gender_check_df['gender_from_profile'].map({'female': 0, 'male': 1})\n",
    "\n",
    "# ✅ Step 4: Compare encoded values\n",
    "gender_check_df['match'] = gender_check_df['gender_encoded'] == gender_check_df['gender_from_profile_encoded']\n",
    "\n",
    "# ✅ Step 5: Match rate\n",
    "match_rate = gender_check_df['match'].mean() * 100\n",
    "print(f\"✅ Gender match rate: {match_rate:.2f}%\")\n",
    "\n",
    "# ✅ Step 6: Inspect mismatches (optional)\n",
    "display(gender_check_df[~gender_check_df['match']].head(10))\n"
   ]
  },
  {
   "cell_type": "code",
   "execution_count": 64,
   "id": "35f92396",
   "metadata": {},
   "outputs": [
    {
     "data": {
      "text/html": [
       "<div>\n",
       "<style scoped>\n",
       "    .dataframe tbody tr th:only-of-type {\n",
       "        vertical-align: middle;\n",
       "    }\n",
       "\n",
       "    .dataframe tbody tr th {\n",
       "        vertical-align: top;\n",
       "    }\n",
       "\n",
       "    .dataframe thead th {\n",
       "        text-align: right;\n",
       "    }\n",
       "</style>\n",
       "<table border=\"1\" class=\"dataframe\">\n",
       "  <thead>\n",
       "    <tr style=\"text-align: right;\">\n",
       "      <th></th>\n",
       "      <th>count</th>\n",
       "      <th>nulls</th>\n",
       "      <th>nulls%</th>\n",
       "      <th>cardinality</th>\n",
       "      <th>dtype</th>\n",
       "      <th>remark</th>\n",
       "    </tr>\n",
       "  </thead>\n",
       "  <tbody>\n",
       "    <tr>\n",
       "      <th>trans_num</th>\n",
       "      <td>17292422</td>\n",
       "      <td>0</td>\n",
       "      <td>0.0</td>\n",
       "      <td>17292422</td>\n",
       "      <td>object</td>\n",
       "      <td>Remove</td>\n",
       "    </tr>\n",
       "    <tr>\n",
       "      <th>ssn</th>\n",
       "      <td>17292422</td>\n",
       "      <td>0</td>\n",
       "      <td>0.0</td>\n",
       "      <td>18653</td>\n",
       "      <td>object</td>\n",
       "      <td>Remove</td>\n",
       "    </tr>\n",
       "    <tr>\n",
       "      <th>street</th>\n",
       "      <td>17292422</td>\n",
       "      <td>0</td>\n",
       "      <td>0.0</td>\n",
       "      <td>18653</td>\n",
       "      <td>object</td>\n",
       "      <td>Remove</td>\n",
       "    </tr>\n",
       "    <tr>\n",
       "      <th>city</th>\n",
       "      <td>17292422</td>\n",
       "      <td>0</td>\n",
       "      <td>0.0</td>\n",
       "      <td>5034</td>\n",
       "      <td>object</td>\n",
       "      <td>NaN</td>\n",
       "    </tr>\n",
       "    <tr>\n",
       "      <th>last</th>\n",
       "      <td>17292422</td>\n",
       "      <td>0</td>\n",
       "      <td>0.0</td>\n",
       "      <td>1000</td>\n",
       "      <td>object</td>\n",
       "      <td>Remove</td>\n",
       "    </tr>\n",
       "    <tr>\n",
       "      <th>merchant</th>\n",
       "      <td>17292422</td>\n",
       "      <td>0</td>\n",
       "      <td>0.0</td>\n",
       "      <td>693</td>\n",
       "      <td>object</td>\n",
       "      <td>NaN</td>\n",
       "    </tr>\n",
       "    <tr>\n",
       "      <th>first</th>\n",
       "      <td>17292422</td>\n",
       "      <td>0</td>\n",
       "      <td>0.0</td>\n",
       "      <td>686</td>\n",
       "      <td>object</td>\n",
       "      <td>Remove</td>\n",
       "    </tr>\n",
       "    <tr>\n",
       "      <th>job</th>\n",
       "      <td>17292422</td>\n",
       "      <td>0</td>\n",
       "      <td>0.0</td>\n",
       "      <td>639</td>\n",
       "      <td>object</td>\n",
       "      <td>NaN</td>\n",
       "    </tr>\n",
       "    <tr>\n",
       "      <th>state</th>\n",
       "      <td>17292422</td>\n",
       "      <td>0</td>\n",
       "      <td>0.0</td>\n",
       "      <td>51</td>\n",
       "      <td>object</td>\n",
       "      <td>NaN</td>\n",
       "    </tr>\n",
       "    <tr>\n",
       "      <th>category</th>\n",
       "      <td>17292422</td>\n",
       "      <td>0</td>\n",
       "      <td>0.0</td>\n",
       "      <td>14</td>\n",
       "      <td>object</td>\n",
       "      <td>NaN</td>\n",
       "    </tr>\n",
       "    <tr>\n",
       "      <th>profile</th>\n",
       "      <td>17292422</td>\n",
       "      <td>0</td>\n",
       "      <td>0.0</td>\n",
       "      <td>12</td>\n",
       "      <td>object</td>\n",
       "      <td>Extracted age_group and location_profile</td>\n",
       "    </tr>\n",
       "    <tr>\n",
       "      <th>gender</th>\n",
       "      <td>17292422</td>\n",
       "      <td>0</td>\n",
       "      <td>0.0</td>\n",
       "      <td>2</td>\n",
       "      <td>object</td>\n",
       "      <td>Cetogorized and Encoded in new Column</td>\n",
       "    </tr>\n",
       "  </tbody>\n",
       "</table>\n",
       "</div>"
      ],
      "text/plain": [
       "              count  nulls  nulls%  cardinality   dtype  \\\n",
       "trans_num  17292422      0     0.0     17292422  object   \n",
       "ssn        17292422      0     0.0        18653  object   \n",
       "street     17292422      0     0.0        18653  object   \n",
       "city       17292422      0     0.0         5034  object   \n",
       "last       17292422      0     0.0         1000  object   \n",
       "merchant   17292422      0     0.0          693  object   \n",
       "first      17292422      0     0.0          686  object   \n",
       "job        17292422      0     0.0          639  object   \n",
       "state      17292422      0     0.0           51  object   \n",
       "category   17292422      0     0.0           14  object   \n",
       "profile    17292422      0     0.0           12  object   \n",
       "gender     17292422      0     0.0            2  object   \n",
       "\n",
       "                                             remark  \n",
       "trans_num                                    Remove  \n",
       "ssn                                          Remove  \n",
       "street                                       Remove  \n",
       "city                                            NaN  \n",
       "last                                         Remove  \n",
       "merchant                                        NaN  \n",
       "first                                        Remove  \n",
       "job                                             NaN  \n",
       "state                                           NaN  \n",
       "category                                        NaN  \n",
       "profile    Extracted age_group and location_profile  \n",
       "gender        Cetogorized and Encoded in new Column  "
      ]
     },
     "metadata": {},
     "output_type": "display_data"
    }
   ],
   "source": [
    "add_remark(summary_table, \"profile\", \"Extracted age_group and location_profile\")"
   ]
  },
  {
   "cell_type": "code",
   "execution_count": 67,
   "id": "909edd03",
   "metadata": {},
   "outputs": [
    {
     "name": "stdout",
     "output_type": "stream",
     "text": [
      "['ssn', 'first', 'last', 'street', 'trans_num']\n",
      "['ssn', 'first', 'last', 'street', 'trans_num', 'profile']\n"
     ]
    }
   ],
   "source": [
    "print(cols_to_drop)\n",
    "cols_to_drop.append(\"profile\")\n",
    "print(cols_to_drop)"
   ]
  },
  {
   "cell_type": "code",
   "execution_count": 65,
   "id": "77619169",
   "metadata": {},
   "outputs": [
    {
     "data": {
      "text/html": [
       "<div>\n",
       "<style scoped>\n",
       "    .dataframe tbody tr th:only-of-type {\n",
       "        vertical-align: middle;\n",
       "    }\n",
       "\n",
       "    .dataframe tbody tr th {\n",
       "        vertical-align: top;\n",
       "    }\n",
       "\n",
       "    .dataframe thead th {\n",
       "        text-align: right;\n",
       "    }\n",
       "</style>\n",
       "<table border=\"1\" class=\"dataframe\">\n",
       "  <thead>\n",
       "    <tr style=\"text-align: right;\">\n",
       "      <th></th>\n",
       "      <th>count</th>\n",
       "      <th>nulls</th>\n",
       "      <th>nulls%</th>\n",
       "      <th>cardinality</th>\n",
       "      <th>dtype</th>\n",
       "      <th>remark</th>\n",
       "    </tr>\n",
       "  </thead>\n",
       "  <tbody>\n",
       "    <tr>\n",
       "      <th>city</th>\n",
       "      <td>17292422</td>\n",
       "      <td>0</td>\n",
       "      <td>0.0</td>\n",
       "      <td>5034</td>\n",
       "      <td>object</td>\n",
       "      <td>NaN</td>\n",
       "    </tr>\n",
       "    <tr>\n",
       "      <th>merchant</th>\n",
       "      <td>17292422</td>\n",
       "      <td>0</td>\n",
       "      <td>0.0</td>\n",
       "      <td>693</td>\n",
       "      <td>object</td>\n",
       "      <td>NaN</td>\n",
       "    </tr>\n",
       "    <tr>\n",
       "      <th>job</th>\n",
       "      <td>17292422</td>\n",
       "      <td>0</td>\n",
       "      <td>0.0</td>\n",
       "      <td>639</td>\n",
       "      <td>object</td>\n",
       "      <td>NaN</td>\n",
       "    </tr>\n",
       "    <tr>\n",
       "      <th>state</th>\n",
       "      <td>17292422</td>\n",
       "      <td>0</td>\n",
       "      <td>0.0</td>\n",
       "      <td>51</td>\n",
       "      <td>object</td>\n",
       "      <td>NaN</td>\n",
       "    </tr>\n",
       "    <tr>\n",
       "      <th>category</th>\n",
       "      <td>17292422</td>\n",
       "      <td>0</td>\n",
       "      <td>0.0</td>\n",
       "      <td>14</td>\n",
       "      <td>object</td>\n",
       "      <td>NaN</td>\n",
       "    </tr>\n",
       "  </tbody>\n",
       "</table>\n",
       "</div>"
      ],
      "text/plain": [
       "             count  nulls  nulls%  cardinality   dtype remark\n",
       "city      17292422      0     0.0         5034  object    NaN\n",
       "merchant  17292422      0     0.0          693  object    NaN\n",
       "job       17292422      0     0.0          639  object    NaN\n",
       "state     17292422      0     0.0           51  object    NaN\n",
       "category  17292422      0     0.0           14  object    NaN"
      ]
     },
     "metadata": {},
     "output_type": "display_data"
    }
   ],
   "source": [
    "display(summary_table[summary_table[\"remark\"].isna() | (summary_table[\"remark\"] == \"\")].sort_values(\"cardinality\", ascending=False))"
   ]
  },
  {
   "cell_type": "markdown",
   "id": "2f5f54dd",
   "metadata": {},
   "source": [
    "#### <font color='Navy'> 🔹Merchant\n"
   ]
  },
  {
   "cell_type": "code",
   "execution_count": 74,
   "id": "00b272c6",
   "metadata": {},
   "outputs": [],
   "source": [
    "df_2020['merchant'] = df_2020['merchant'].str.replace('fraud_', '').str.replace(',', '')"
   ]
  },
  {
   "cell_type": "code",
   "execution_count": 76,
   "id": "e10658ef",
   "metadata": {},
   "outputs": [],
   "source": [
    "df_2020['merchant'] = clean_punc(df_2020['merchant'])"
   ]
  },
  {
   "cell_type": "code",
   "execution_count": 77,
   "id": "883c1221",
   "metadata": {},
   "outputs": [
    {
     "data": {
      "text/plain": [
       "0        moore dibbert and koepp\n",
       "1                      dachnader\n",
       "2                 pacochaoreilly\n",
       "3    kutch hermiston and farrell\n",
       "4               kuphalbartoletti\n",
       "Name: merchant, dtype: object"
      ]
     },
     "metadata": {},
     "output_type": "display_data"
    }
   ],
   "source": [
    "display(df_2020['merchant'].head(5))"
   ]
  },
  {
   "cell_type": "code",
   "execution_count": 78,
   "id": "d17b963e",
   "metadata": {},
   "outputs": [],
   "source": [
    "df_2020['merchant'] = df_2020['merchant'].astype('category')"
   ]
  },
  {
   "cell_type": "code",
   "execution_count": 79,
   "id": "8200d69f",
   "metadata": {},
   "outputs": [
    {
     "data": {
      "text/html": [
       "<div>\n",
       "<style scoped>\n",
       "    .dataframe tbody tr th:only-of-type {\n",
       "        vertical-align: middle;\n",
       "    }\n",
       "\n",
       "    .dataframe tbody tr th {\n",
       "        vertical-align: top;\n",
       "    }\n",
       "\n",
       "    .dataframe thead th {\n",
       "        text-align: right;\n",
       "    }\n",
       "</style>\n",
       "<table border=\"1\" class=\"dataframe\">\n",
       "  <thead>\n",
       "    <tr style=\"text-align: right;\">\n",
       "      <th></th>\n",
       "      <th>count</th>\n",
       "      <th>nulls</th>\n",
       "      <th>nulls%</th>\n",
       "      <th>cardinality</th>\n",
       "      <th>dtype</th>\n",
       "      <th>remark</th>\n",
       "    </tr>\n",
       "  </thead>\n",
       "  <tbody>\n",
       "    <tr>\n",
       "      <th>trans_num</th>\n",
       "      <td>17292422</td>\n",
       "      <td>0</td>\n",
       "      <td>0.0</td>\n",
       "      <td>17292422</td>\n",
       "      <td>object</td>\n",
       "      <td>Remove</td>\n",
       "    </tr>\n",
       "    <tr>\n",
       "      <th>ssn</th>\n",
       "      <td>17292422</td>\n",
       "      <td>0</td>\n",
       "      <td>0.0</td>\n",
       "      <td>18653</td>\n",
       "      <td>object</td>\n",
       "      <td>Remove</td>\n",
       "    </tr>\n",
       "    <tr>\n",
       "      <th>street</th>\n",
       "      <td>17292422</td>\n",
       "      <td>0</td>\n",
       "      <td>0.0</td>\n",
       "      <td>18653</td>\n",
       "      <td>object</td>\n",
       "      <td>Remove</td>\n",
       "    </tr>\n",
       "    <tr>\n",
       "      <th>city</th>\n",
       "      <td>17292422</td>\n",
       "      <td>0</td>\n",
       "      <td>0.0</td>\n",
       "      <td>5034</td>\n",
       "      <td>object</td>\n",
       "      <td>NaN</td>\n",
       "    </tr>\n",
       "    <tr>\n",
       "      <th>last</th>\n",
       "      <td>17292422</td>\n",
       "      <td>0</td>\n",
       "      <td>0.0</td>\n",
       "      <td>1000</td>\n",
       "      <td>object</td>\n",
       "      <td>Remove</td>\n",
       "    </tr>\n",
       "    <tr>\n",
       "      <th>merchant</th>\n",
       "      <td>17292422</td>\n",
       "      <td>0</td>\n",
       "      <td>0.0</td>\n",
       "      <td>693</td>\n",
       "      <td>object</td>\n",
       "      <td>Removed 'fraud_' and clean punc</td>\n",
       "    </tr>\n",
       "    <tr>\n",
       "      <th>first</th>\n",
       "      <td>17292422</td>\n",
       "      <td>0</td>\n",
       "      <td>0.0</td>\n",
       "      <td>686</td>\n",
       "      <td>object</td>\n",
       "      <td>Remove</td>\n",
       "    </tr>\n",
       "    <tr>\n",
       "      <th>job</th>\n",
       "      <td>17292422</td>\n",
       "      <td>0</td>\n",
       "      <td>0.0</td>\n",
       "      <td>639</td>\n",
       "      <td>object</td>\n",
       "      <td>NaN</td>\n",
       "    </tr>\n",
       "    <tr>\n",
       "      <th>state</th>\n",
       "      <td>17292422</td>\n",
       "      <td>0</td>\n",
       "      <td>0.0</td>\n",
       "      <td>51</td>\n",
       "      <td>object</td>\n",
       "      <td>NaN</td>\n",
       "    </tr>\n",
       "    <tr>\n",
       "      <th>category</th>\n",
       "      <td>17292422</td>\n",
       "      <td>0</td>\n",
       "      <td>0.0</td>\n",
       "      <td>14</td>\n",
       "      <td>object</td>\n",
       "      <td>NaN</td>\n",
       "    </tr>\n",
       "    <tr>\n",
       "      <th>profile</th>\n",
       "      <td>17292422</td>\n",
       "      <td>0</td>\n",
       "      <td>0.0</td>\n",
       "      <td>12</td>\n",
       "      <td>object</td>\n",
       "      <td>Extracted age_group and location_profile</td>\n",
       "    </tr>\n",
       "    <tr>\n",
       "      <th>gender</th>\n",
       "      <td>17292422</td>\n",
       "      <td>0</td>\n",
       "      <td>0.0</td>\n",
       "      <td>2</td>\n",
       "      <td>object</td>\n",
       "      <td>Cetogorized and Encoded in new Column</td>\n",
       "    </tr>\n",
       "  </tbody>\n",
       "</table>\n",
       "</div>"
      ],
      "text/plain": [
       "              count  nulls  nulls%  cardinality   dtype  \\\n",
       "trans_num  17292422      0     0.0     17292422  object   \n",
       "ssn        17292422      0     0.0        18653  object   \n",
       "street     17292422      0     0.0        18653  object   \n",
       "city       17292422      0     0.0         5034  object   \n",
       "last       17292422      0     0.0         1000  object   \n",
       "merchant   17292422      0     0.0          693  object   \n",
       "first      17292422      0     0.0          686  object   \n",
       "job        17292422      0     0.0          639  object   \n",
       "state      17292422      0     0.0           51  object   \n",
       "category   17292422      0     0.0           14  object   \n",
       "profile    17292422      0     0.0           12  object   \n",
       "gender     17292422      0     0.0            2  object   \n",
       "\n",
       "                                             remark  \n",
       "trans_num                                    Remove  \n",
       "ssn                                          Remove  \n",
       "street                                       Remove  \n",
       "city                                            NaN  \n",
       "last                                         Remove  \n",
       "merchant            Removed 'fraud_' and clean punc  \n",
       "first                                        Remove  \n",
       "job                                             NaN  \n",
       "state                                           NaN  \n",
       "category                                        NaN  \n",
       "profile    Extracted age_group and location_profile  \n",
       "gender        Cetogorized and Encoded in new Column  "
      ]
     },
     "metadata": {},
     "output_type": "display_data"
    }
   ],
   "source": [
    "add_remark(summary_table, \"merchant\", \"Removed 'fraud_' and clean punc\")"
   ]
  },
  {
   "cell_type": "code",
   "execution_count": 80,
   "id": "c93f5619",
   "metadata": {},
   "outputs": [
    {
     "data": {
      "text/html": [
       "<div>\n",
       "<style scoped>\n",
       "    .dataframe tbody tr th:only-of-type {\n",
       "        vertical-align: middle;\n",
       "    }\n",
       "\n",
       "    .dataframe tbody tr th {\n",
       "        vertical-align: top;\n",
       "    }\n",
       "\n",
       "    .dataframe thead th {\n",
       "        text-align: right;\n",
       "    }\n",
       "</style>\n",
       "<table border=\"1\" class=\"dataframe\">\n",
       "  <thead>\n",
       "    <tr style=\"text-align: right;\">\n",
       "      <th></th>\n",
       "      <th>count</th>\n",
       "      <th>nulls</th>\n",
       "      <th>nulls%</th>\n",
       "      <th>cardinality</th>\n",
       "      <th>dtype</th>\n",
       "      <th>remark</th>\n",
       "    </tr>\n",
       "  </thead>\n",
       "  <tbody>\n",
       "    <tr>\n",
       "      <th>city</th>\n",
       "      <td>17292422</td>\n",
       "      <td>0</td>\n",
       "      <td>0.0</td>\n",
       "      <td>5034</td>\n",
       "      <td>object</td>\n",
       "      <td>NaN</td>\n",
       "    </tr>\n",
       "    <tr>\n",
       "      <th>job</th>\n",
       "      <td>17292422</td>\n",
       "      <td>0</td>\n",
       "      <td>0.0</td>\n",
       "      <td>639</td>\n",
       "      <td>object</td>\n",
       "      <td>NaN</td>\n",
       "    </tr>\n",
       "    <tr>\n",
       "      <th>state</th>\n",
       "      <td>17292422</td>\n",
       "      <td>0</td>\n",
       "      <td>0.0</td>\n",
       "      <td>51</td>\n",
       "      <td>object</td>\n",
       "      <td>NaN</td>\n",
       "    </tr>\n",
       "    <tr>\n",
       "      <th>category</th>\n",
       "      <td>17292422</td>\n",
       "      <td>0</td>\n",
       "      <td>0.0</td>\n",
       "      <td>14</td>\n",
       "      <td>object</td>\n",
       "      <td>NaN</td>\n",
       "    </tr>\n",
       "  </tbody>\n",
       "</table>\n",
       "</div>"
      ],
      "text/plain": [
       "             count  nulls  nulls%  cardinality   dtype remark\n",
       "city      17292422      0     0.0         5034  object    NaN\n",
       "job       17292422      0     0.0          639  object    NaN\n",
       "state     17292422      0     0.0           51  object    NaN\n",
       "category  17292422      0     0.0           14  object    NaN"
      ]
     },
     "metadata": {},
     "output_type": "display_data"
    }
   ],
   "source": [
    "display(summary_table[summary_table[\"remark\"].isna() | (summary_table[\"remark\"] == \"\")].sort_values(\"cardinality\", ascending=False))"
   ]
  },
  {
   "cell_type": "markdown",
   "id": "dea73825",
   "metadata": {},
   "source": [
    "#### <font color='Navy'> 🔹job"
   ]
  },
  {
   "cell_type": "code",
   "execution_count": 85,
   "id": "e16a6962",
   "metadata": {},
   "outputs": [
    {
     "name": "stdout",
     "output_type": "stream",
     "text": [
      "['teaching laboratory technician', 'english as a second language teacher', 'exercise physiologist', 'metallurgist', 'adult nurse', 'designer, television/film set', 'contractor', 'haematologist', 'therapist, drama', 'surveyor, mining', 'acupuncturist', 'publishing copy', 'lecturer, higher education', 'broadcast engineer', 'dispensing optician', 'legal secretary', 'administrator', 'environmental health practitioner', 'surveyor, planning and development', 'chief of staff', 'community arts worker', 'chemist, analytical', 'geographical information systems officer', 'health and safety inspector', 'amenity horticulturist', 'engineer, manufacturing', 'writer', 'race relations officer', 'careers information officer', 'fish farm manager', 'engineer, electronics', 'civil service fast streamer', 'pension scheme manager', 'media buyer', 'armed forces training and education officer', 'scientist, research (maths)', 'rural practice surveyor', 'community education officer', 'ecologist', 'marine scientist', 'naval architect', 'automotive engineer', 'air traffic controller', 'advertising account executive', 'engineer, drilling', 'brewing technologist', 'toxicologist', 'historic buildings inspector/conservation officer', 'hydrologist', 'occupational hygienist', 'engineer, automotive', 'designer, exhibition/display', 'special effects artist', 'marketing executive', 'agricultural consultant', 'doctor, hospital', 'scientist, research (medical)', 'producer, radio', 'dealer', 'economist', 'lawyer', 'print production planner', 'maintenance engineer', 'intelligence analyst', \"nurse, children's\", 'designer, multimedia', 'film/video editor', 'editorial assistant', 'market researcher', 'human resources officer', 'travel agency manager', 'food technologist', 'product manager', 'training and development officer', 'engineer, aeronautical', 'chief strategy officer', 'leisure centre manager', 'tour manager', 'medical illustrator', 'science writer', 'forest/woodland manager', 'english as a foreign language teacher', 'radiographer, diagnostic', 'psychiatrist', 'clinical embryologist', 'local government officer', 'energy engineer', 'production assistant, radio', 'press photographer', 'surveyor, minerals', 'animator', 'fine artist', 'speech and language therapist', 'loss adjuster, chartered', 'production manager', 'trade union research officer', 'research scientist (life sciences)', 'photographer', 'information systems manager', 'accountant, chartered management', 'journalist, newspaper', 'immunologist', 'farm manager', 'barista', 'licensed conveyancer', 'engineer, agricultural', 'lighting technician, broadcasting/film/video', 'animal technologist', 'gaffer', 'data scientist', 'contracting civil engineer', 'field trials officer', 'surveyor, insurance', 'trade mark attorney', 'therapist, nutritional', 'journalist, broadcasting', 'youth worker', 'plant breeder/geneticist', 'freight forwarder', 'electrical engineer', 'housing manager/officer', 'scientist, physiological', 'quality manager', 'scientist, water quality', 'artist', 'visual merchandiser', 'set designer', 'telecommunications researcher', 'pilot, airline', 'careers adviser', 'ranger/warden', 'public house manager', 'administrator, charities/voluntary organisations', 'buyer, retail', 'research officer, political party', 'multimedia specialist', 'medical sales representative', 'oncologist', 'exhibitions officer, museum/gallery', 'optometrist', 'engineer, water', 'banker', 'fitness centre manager', 'water engineer', 'bookseller', 'geophysicist/field seismologist', 'land', 'warehouse manager', 'best boy', 'engineer, petroleum', 'television floor manager', 'pathologist', 'teacher, adult education', 'minerals surveyor', 'estate agent', 'biomedical scientist', 'teacher, early years/pre', 'programme researcher, broadcasting/film/video', 'early years teacher', 'museum education officer', 'mechanical engineer', 'network engineer', 'engineer, building services', 'designer, textile', 'education officer, museum', 'retail manager', 'legal executive', 'clinical molecular geneticist', 'radio broadcast assistant', 'building surveyor', 'hotel manager', 'designer, graphic', 'physiological scientist', 'teacher, english as a foreign language', 'sports administrator', 'librarian, public', 'materials engineer', 'architectural technologist', 'corporate investment banker', 'psychologist, counselling', 'communications engineer', 'colour technologist', 'claims inspector/assessor', 'cartographer', 'graphic designer', 'tefl teacher', 'consulting civil engineer', 'psychologist, prison and probation services', 'technical sales engineer', 'commercial art gallery manager', 'estate manager/land agent', 'programmer, systems', 'nurse, learning disability', 'learning disability nurse', 'control and instrumentation engineer', 'product/process development scientist', 'insurance claims handler', 'hospital doctor', 'psychotherapist, child', 'volunteer coordinator', 'printmaker', 'sport and exercise psychologist', 'engineer, maintenance (it)', 'customer service manager', 'chartered accountant', 'event organiser', 'health physicist', 'magazine journalist', 'editor, film/video', 'interior and spatial designer', 'production assistant, television', 'sound technician, broadcasting/film/video', 'art therapist', 'biochemist, clinical', 'media planner', 'solicitor, scotland', 'animal nutritionist', 'environmental education officer', 'orthoptist', 'health and safety adviser', 'designer, blown glass/stained glass', 'armed forces technical officer', 'psychologist, sport and exercise', 'music therapist', 'further education lecturer', 'energy manager', 'optician, dispensing', 'civil engineer, contracting', 'video editor', 'public relations officer', 'software engineer', 'tax adviser', 'clinical scientist, histocompatibility and immunogenetics', 'sales professional, it', 'adult guidance worker', 'architect', 'quantity surveyor', 'pharmacist, hospital', 'cytogeneticist', 'prison officer', 'planning and development surveyor', 'tree surgeon', 'drilling engineer', 'interpreter', 'corporate treasurer', 'child psychotherapist', 'recruitment consultant', 'designer, interior/spatial', 'presenter, broadcasting', 'accountant, chartered', 'counsellor', 'accommodation manager', 'seismic interpreter', 'data processing manager', 'hospital pharmacist', 'stage manager', 'conservation officer, nature', 'furniture conservator/restorer', 'actor', 'engineer, control and instrumentation', 'retail merchandiser', 'horticultural consultant', 'tourist information centre manager', 'it sales professional', 'archivist', 'homeopath', 'radio producer', 'office manager', 'designer, industrial/product', 'podiatrist', 'doctor, general practice', 'development worker, community', 'airline pilot', 'secondary school teacher', 'diagnostic radiographer', 'financial trader', 'biomedical engineer', 'dentist', 'international aid/development worker', 'chartered legal executive (england and wales)', 'emergency planning/management officer', 'music tutor', 'academic librarian', 'engineer, production', 'logistics and distribution manager', 'social worker', 'land/geomatics surveyor', 'clinical research associate', 'personnel officer', 'engineer, manufacturing systems', 'insurance underwriter', 'scientist, research (physical sciences)', 'immigration officer', 'higher education careers adviser', 'education officer, community', 'occupational therapist', 'probation officer', 'chief executive officer', 'psychologist, occupational', 'programmer, multimedia', 'arts administrator', 'structural engineer', 'geochemist', 'financial controller', 'ceramics designer', 'investment banker, operational', 'solicitor', 'ship broker', 'investment banker, corporate', 'education officer, environmental', 'operational researcher', 'catering manager', 'it consultant', 'chartered loss adjuster', 'retail banker', 'psychotherapist', 'chartered certified accountant', 'teacher, primary school', 'conference centre manager', 'designer, jewellery', 'clinical cytogeneticist', 'air broker', 'site engineer', 'geoscientist', 'therapist, horticultural', 'information officer', 'medical laboratory scientific officer', 'trading standards officer', 'professor emeritus', 'exhibition designer', 'tax inspector', 'systems analyst', 'production engineer', 'location manager', 'geologist, wellsite', 'web designer', 'administrator, sports', 'oceanographer', 'senior tax professional/tax inspector', 'learning mentor', 'scientific laboratory technician', 'chief technology officer', 'building services engineer', 'horticulturist, amenity', 'surveyor, building', 'charity officer', 'environmental consultant', 'conservation officer, historic buildings', 'microbiologist', 'waste management officer', 'sports development officer', 'scientist, product/process development', 'sales executive', 'engineer, site', 'secretary, company', 'therapist, music', 'engineering geologist', 'equality and diversity officer', 'industrial/product designer', 'chemical engineer', 'merchandiser, retail', 'audiological scientist', 'newspaper journalist', 'diplomatic services operational officer', 'engineer, biomedical', 'accounting technician', 'it trainer', 'make', 'cabin crew', 'musician', 'therapist, sports', 'agricultural engineer', 'administrator, civil service', 'meteorologist', 'pharmacist, community', 'advertising copywriter', 'operations geologist', 'tourism officer', 'facilities manager', 'bonds trader', 'accountant, chartered public finance', 'restaurant manager, fast food', 'product designer', 'engineer, electrical', 'nurse, mental health', 'therapist, speech and language', 'operational investment banker', 'forensic scientist', 'theme park manager', 'armed forces logistics/support/administrative officer', 'mental health nurse', 'engineer, materials', 'paediatric nurse', 'ophthalmologist', 'social researcher', 'translator', 'teacher, secondary school', 'civil service administrator', 'public librarian', 'private music teacher', 'research officer, government', 'clinical biochemist', 'neurosurgeon', 'patent attorney', 'surveyor, quantity', 'editor, commissioning', 'dancer', 'psychologist, clinical', 'heritage manager', 'actuary', 'nature conservation officer', 'education administrator', 'theatre director', 'financial manager', 'commercial/residential surveyor', 'broadcast journalist', 'chartered public finance accountant', 'environmental manager', 'dietitian', 'technical author', 'surveyor, hydrographic', 'social research officer, government', 'ambulance person', 'engineer, civil (contracting)', 'purchasing manager', 'warden/ranger', 'personal assistant', 'civil engineer, consulting', 'database administrator', 'teacher, music', 'call centre manager', 'museum/gallery curator', 'advice worker', 'financial risk analyst', 'engineer, mining', 'secretary/administrator', 'physiotherapist', 'magazine features editor', 'chiropractor', 'primary school teacher', 'computer games developer', 'outdoor activities/education manager', 'engineer, broadcasting (operations)', 'fashion designer', 'curator', 'teacher, special educational needs', 'financial planner', 'nutritional therapist', 'designer, furniture', 'landscape architect', 'surveyor, building control', 'psychotherapist, dance movement', 'television/film/video producer', 'accountant, chartered certified', 'retail buyer', 'insurance broker', 'development worker, international aid', 'horticultural therapist', 'advertising art director', 'geneticist, molecular', 'manufacturing systems engineer', 'buyer, industrial', 'research scientist (maths)', 'hydrogeologist', 'recycling officer', 'clothing/textile technologist', 'conservator, museum/gallery', 'public relations account executive', 'aeronautical engineer', 'town planner', 'research officer, trade union', 'theatre stage manager', 'radiation protection practitioner', 'hydrographic surveyor', 'forensic psychologist', 'surveyor, commercial/residential', 'aid worker', 'publishing rights manager', 'sales promotion account executive', 'equities trader', 'phytotherapist', 'arts development officer', 'multimedia programmer', 'therapeutic radiographer', 'research scientist (medical)', 'educational psychologist', 'government social research officer', 'physicist, medical', 'research scientist (physical sciences)', 'technical brewer', 'mining engineer', 'water quality scientist', 'psychologist, forensic', 'statistician', 'lobbyist', 'lexicographer', 'manufacturing engineer', 'holiday representative', 'museum/gallery conservator', 'scientist, clinical (histocompatibility and immunogenetics)', 'garment/textile technologist', 'fisheries officer', 'lecturer, further education', 'systems developer', 'librarian, academic', 'sports coach', 'embryologist, clinical', 'herpetologist', 'nurse, adult', 'management consultant', 'company secretary', 'restaurant manager', 'osteopath', 'community development worker', 'community pharmacist', 'merchant navy officer', 'geologist, engineering', 'chief operating officer', 'passenger transport manager', 'financial adviser', 'electronics engineer', 'occupational psychologist', 'clinical psychologist', 'field seismologist', 'runner, broadcasting/film/video', 'arboriculturist', 'art gallery manager', 'barrister', 'insurance account manager', 'advertising account planner', 'games developer', 'general practice doctor', 'editor, magazine features', 'firefighter', 'engineer, maintenance', 'administrator, local government', 'sub', 'chiropodist', 'geophysical data processor', 'risk analyst', 'insurance risk surveyor', 'industrial buyer', 'proofreader', \"politician's assistant\", 'copywriter, advertising', 'chief financial officer', 'museum/gallery exhibitions officer', 'charity fundraiser', 'copy', 'surgeon', 'archaeologist', 'futures trader', 'illustrator', 'engineer, technical sales', 'medical physicist', 'chartered management accountant', 'medical secretary', 'fast food restaurant manager', 'psychologist, educational', 'health service manager', 'glass blower/designer', 'public affairs consultant', 'records manager', 'police officer', 'higher education lecturer', 'analytical chemist', 'it technical support officer', 'commissioning editor', 'designer, ceramics/pottery', 'quarry manager', 'television production assistant', 'commercial horticulturist', 'surveyor, land/geomatics', 'engineer, communications', 'press sub', 'patent examiner', 'administrator, education', 'camera operator', 'regulatory affairs officer', 'special educational needs teacher', 'administrator, arts', 'designer, fashion/clothing', 'furniture designer', 'surveyor, rural practice', 'engineer, structural', 'veterinary surgeon', 'engineer, chemical', 'sports therapist', 'scientist, marine', \"barrister's clerk\", 'armed forces operational officer', 'pensions consultant', 'dramatherapist', 'engineer, civil (consulting)', 'herbalist', 'mudlogger', 'building control surveyor', 'journalist, magazine', 'midwife', 'associate professor', 'production designer, theatre/television/film', 'scientist, biomedical', 'wellsite geologist', 'comptroller', 'transport planner', 'scientist, audiological', 'medical technical officer', 'risk manager', 'applications developer', 'engineer, land', 'counselling psychologist', 'television camera operator', 'therapist, art', 'pharmacologist', 'broadcast presenter', 'psychiatric nurse', 'health promotion specialist', 'conservator, furniture', 'air cabin crew', 'producer, television/film/video', 'dance movement psychotherapist', 'therapist, occupational', 'astronomer', 'petroleum engineer', 'horticulturist, commercial', 'textile designer', 'theatre manager', 'investment analyst', 'chief marketing officer', 'paramedic', 'radiographer, therapeutic', 'scientist, research (life sciences)', 'ergonomist', 'health visitor', 'scientist, forensic', 'soil scientist', 'engineer, energy', 'programmer, applications', 'jewellery designer']\n"
     ]
    }
   ],
   "source": [
    "print(df_2020[\"job\"].str.lower().str.strip().unique().tolist())\n",
    "df_2020[\"job\"] = df_2020[\"job\"].str.lower().str.strip()"
   ]
  },
  {
   "cell_type": "code",
   "execution_count": 89,
   "id": "fa71a303",
   "metadata": {},
   "outputs": [],
   "source": [
    "def categorize_jobs(df, column, new_column=\"job_category\"):\n",
    "    \"\"\"\n",
    "    Categorizes jobs based on keywords in the job title.\n",
    "    Adds a new column with high-level categories.\n",
    "    \"\"\"\n",
    "\n",
    "    def assign_category(job):\n",
    "        job = str(job).lower()  # ensure lowercase\n",
    "        if any(word in job for word in [\"nurse\", \"doctor\", \"surgeon\", \"dentist\", \"therapist\", \"pharmacist\", \"psychiatrist\", \"psychologist\", \"radiographer\", \"optician\", \"midwife\", \"paramedic\", \"biomedical\", \"oncologist\", \"immunologist\", \"pathologist\", \"health\"]):\n",
    "            return \"healthcare\"\n",
    "        elif any(word in job for word in [\"teacher\", \"lecturer\", \"professor\", \"educator\", \"education officer\", \"tutor\", \"school\"]):\n",
    "            return \"education\"\n",
    "        elif any(word in job for word in [\"engineer\", \"technician\", \"technologist\", \"architect\", \"surveyor\", \"scientist\", \"geologist\", \"chemist\", \"biologist\", \"researcher\", \"ecologist\", \"mathematician\", \"statistician\", \"physicist\", \"astronomer\"]):\n",
    "            return \"science/engineering\"\n",
    "        elif any(word in job for word in [\"lawyer\", \"barrister\", \"solicitor\", \"attorney\", \"legal\", \"judge\", \"magistrate\"]):\n",
    "            return \"legal\"\n",
    "        elif any(word in job for word in [\"accountant\", \"finance\", \"banker\", \"economist\", \"trader\", \"investment\", \"treasurer\", \"auditor\", \"actuary\"]):\n",
    "            return \"finance\"\n",
    "        elif any(word in job for word in [\"artist\", \"designer\", \"animator\", \"illustrator\", \"musician\", \"actor\", \"writer\", \"journalist\", \"editor\", \"photographer\", \"producer\", \"curator\", \"painter\", \"sculptor\", \"filmmaker\"]):\n",
    "            return \"arts/media\"\n",
    "        elif any(word in job for word in [\"manager\", \"consultant\", \"officer\", \"administrator\", \"coordinator\", \"executive\", \"director\", \"chief\", \"ceo\", \"cfo\", \"cio\", \"cto\", \"cmo\", \"coo\"]):\n",
    "            return \"management/business\"\n",
    "        elif any(word in job for word in [\"armed forces\", \"navy\", \"army\", \"air force\", \"military\", \"police\", \"firefighter\", \"security\"]):\n",
    "            return \"public safety/military\"\n",
    "        elif any(word in job for word in [\"agricultural\", \"farm\", \"horticulturist\", \"fisheries\", \"forester\", \"conservation\", \"ecologist\", \"gardener\", \"landscaper\", \"tree surgeon\"]):\n",
    "            return \"agriculture/environment\"\n",
    "        elif any(word in job for word in [\"it\", \"software\", \"developer\", \"programmer\", \"data scientist\", \"web\", \"computer\", \"cyber\", \"network\", \"systems\", \"applications\", \"ai\", \"machine learning\"]):\n",
    "            return \"technology\"\n",
    "        else:\n",
    "            return \"other\"\n",
    "\n",
    "    # apply categorization\n",
    "    df[new_column] = df[column].apply(assign_category)\n",
    "    return df[new_column]\n"
   ]
  },
  {
   "cell_type": "code",
   "execution_count": 90,
   "id": "8e662272",
   "metadata": {},
   "outputs": [],
   "source": [
    "df_2020['job_category'] = categorize_jobs(df_2020, 'job', 'job_category')\n"
   ]
  },
  {
   "cell_type": "code",
   "execution_count": 88,
   "id": "1434c535",
   "metadata": {},
   "outputs": [
    {
     "data": {
      "text/plain": [
       "0    science/engineering\n",
       "1    science/engineering\n",
       "2    science/engineering\n",
       "3    science/engineering\n",
       "4    science/engineering\n",
       "Name: job_category, dtype: object"
      ]
     },
     "metadata": {},
     "output_type": "display_data"
    }
   ],
   "source": [
    "display(df_2020['job_category'].head(5))"
   ]
  },
  {
   "cell_type": "code",
   "execution_count": 91,
   "id": "f9283b4e",
   "metadata": {},
   "outputs": [
    {
     "data": {
      "text/html": [
       "<div>\n",
       "<style scoped>\n",
       "    .dataframe tbody tr th:only-of-type {\n",
       "        vertical-align: middle;\n",
       "    }\n",
       "\n",
       "    .dataframe tbody tr th {\n",
       "        vertical-align: top;\n",
       "    }\n",
       "\n",
       "    .dataframe thead th {\n",
       "        text-align: right;\n",
       "    }\n",
       "</style>\n",
       "<table border=\"1\" class=\"dataframe\">\n",
       "  <thead>\n",
       "    <tr style=\"text-align: right;\">\n",
       "      <th></th>\n",
       "      <th>count</th>\n",
       "      <th>nulls</th>\n",
       "      <th>nulls%</th>\n",
       "      <th>cardinality</th>\n",
       "      <th>dtype</th>\n",
       "      <th>remark</th>\n",
       "    </tr>\n",
       "  </thead>\n",
       "  <tbody>\n",
       "    <tr>\n",
       "      <th>trans_num</th>\n",
       "      <td>17292422</td>\n",
       "      <td>0</td>\n",
       "      <td>0.0</td>\n",
       "      <td>17292422</td>\n",
       "      <td>object</td>\n",
       "      <td>Remove</td>\n",
       "    </tr>\n",
       "    <tr>\n",
       "      <th>ssn</th>\n",
       "      <td>17292422</td>\n",
       "      <td>0</td>\n",
       "      <td>0.0</td>\n",
       "      <td>18653</td>\n",
       "      <td>object</td>\n",
       "      <td>Remove</td>\n",
       "    </tr>\n",
       "    <tr>\n",
       "      <th>street</th>\n",
       "      <td>17292422</td>\n",
       "      <td>0</td>\n",
       "      <td>0.0</td>\n",
       "      <td>18653</td>\n",
       "      <td>object</td>\n",
       "      <td>Remove</td>\n",
       "    </tr>\n",
       "    <tr>\n",
       "      <th>city</th>\n",
       "      <td>17292422</td>\n",
       "      <td>0</td>\n",
       "      <td>0.0</td>\n",
       "      <td>5034</td>\n",
       "      <td>object</td>\n",
       "      <td>NaN</td>\n",
       "    </tr>\n",
       "    <tr>\n",
       "      <th>last</th>\n",
       "      <td>17292422</td>\n",
       "      <td>0</td>\n",
       "      <td>0.0</td>\n",
       "      <td>1000</td>\n",
       "      <td>object</td>\n",
       "      <td>Remove</td>\n",
       "    </tr>\n",
       "    <tr>\n",
       "      <th>merchant</th>\n",
       "      <td>17292422</td>\n",
       "      <td>0</td>\n",
       "      <td>0.0</td>\n",
       "      <td>693</td>\n",
       "      <td>object</td>\n",
       "      <td>Removed 'fraud_' and clean punc</td>\n",
       "    </tr>\n",
       "    <tr>\n",
       "      <th>first</th>\n",
       "      <td>17292422</td>\n",
       "      <td>0</td>\n",
       "      <td>0.0</td>\n",
       "      <td>686</td>\n",
       "      <td>object</td>\n",
       "      <td>Remove</td>\n",
       "    </tr>\n",
       "    <tr>\n",
       "      <th>job</th>\n",
       "      <td>17292422</td>\n",
       "      <td>0</td>\n",
       "      <td>0.0</td>\n",
       "      <td>639</td>\n",
       "      <td>object</td>\n",
       "      <td>new column job_category with high-level catego...</td>\n",
       "    </tr>\n",
       "    <tr>\n",
       "      <th>state</th>\n",
       "      <td>17292422</td>\n",
       "      <td>0</td>\n",
       "      <td>0.0</td>\n",
       "      <td>51</td>\n",
       "      <td>object</td>\n",
       "      <td>NaN</td>\n",
       "    </tr>\n",
       "    <tr>\n",
       "      <th>category</th>\n",
       "      <td>17292422</td>\n",
       "      <td>0</td>\n",
       "      <td>0.0</td>\n",
       "      <td>14</td>\n",
       "      <td>object</td>\n",
       "      <td>NaN</td>\n",
       "    </tr>\n",
       "    <tr>\n",
       "      <th>profile</th>\n",
       "      <td>17292422</td>\n",
       "      <td>0</td>\n",
       "      <td>0.0</td>\n",
       "      <td>12</td>\n",
       "      <td>object</td>\n",
       "      <td>Extracted age_group and location_profile</td>\n",
       "    </tr>\n",
       "    <tr>\n",
       "      <th>gender</th>\n",
       "      <td>17292422</td>\n",
       "      <td>0</td>\n",
       "      <td>0.0</td>\n",
       "      <td>2</td>\n",
       "      <td>object</td>\n",
       "      <td>Cetogorized and Encoded in new Column</td>\n",
       "    </tr>\n",
       "  </tbody>\n",
       "</table>\n",
       "</div>"
      ],
      "text/plain": [
       "              count  nulls  nulls%  cardinality   dtype  \\\n",
       "trans_num  17292422      0     0.0     17292422  object   \n",
       "ssn        17292422      0     0.0        18653  object   \n",
       "street     17292422      0     0.0        18653  object   \n",
       "city       17292422      0     0.0         5034  object   \n",
       "last       17292422      0     0.0         1000  object   \n",
       "merchant   17292422      0     0.0          693  object   \n",
       "first      17292422      0     0.0          686  object   \n",
       "job        17292422      0     0.0          639  object   \n",
       "state      17292422      0     0.0           51  object   \n",
       "category   17292422      0     0.0           14  object   \n",
       "profile    17292422      0     0.0           12  object   \n",
       "gender     17292422      0     0.0            2  object   \n",
       "\n",
       "                                                      remark  \n",
       "trans_num                                             Remove  \n",
       "ssn                                                   Remove  \n",
       "street                                                Remove  \n",
       "city                                                     NaN  \n",
       "last                                                  Remove  \n",
       "merchant                     Removed 'fraud_' and clean punc  \n",
       "first                                                 Remove  \n",
       "job        new column job_category with high-level catego...  \n",
       "state                                                    NaN  \n",
       "category                                                 NaN  \n",
       "profile             Extracted age_group and location_profile  \n",
       "gender                 Cetogorized and Encoded in new Column  "
      ]
     },
     "metadata": {},
     "output_type": "display_data"
    }
   ],
   "source": [
    "add_remark(summary_table, \"job\", \"new column job_category with high-level categories\")"
   ]
  },
  {
   "cell_type": "code",
   "execution_count": 93,
   "id": "b41a0765",
   "metadata": {},
   "outputs": [
    {
     "name": "stdout",
     "output_type": "stream",
     "text": [
      "['ssn', 'first', 'last', 'street', 'trans_num', 'profile', 'job']\n"
     ]
    }
   ],
   "source": [
    "cols_to_drop.append(\"job\")\n",
    "print(cols_to_drop)"
   ]
  },
  {
   "cell_type": "code",
   "execution_count": 92,
   "id": "649b68fc",
   "metadata": {},
   "outputs": [
    {
     "data": {
      "text/html": [
       "<div>\n",
       "<style scoped>\n",
       "    .dataframe tbody tr th:only-of-type {\n",
       "        vertical-align: middle;\n",
       "    }\n",
       "\n",
       "    .dataframe tbody tr th {\n",
       "        vertical-align: top;\n",
       "    }\n",
       "\n",
       "    .dataframe thead th {\n",
       "        text-align: right;\n",
       "    }\n",
       "</style>\n",
       "<table border=\"1\" class=\"dataframe\">\n",
       "  <thead>\n",
       "    <tr style=\"text-align: right;\">\n",
       "      <th></th>\n",
       "      <th>count</th>\n",
       "      <th>nulls</th>\n",
       "      <th>nulls%</th>\n",
       "      <th>cardinality</th>\n",
       "      <th>dtype</th>\n",
       "      <th>remark</th>\n",
       "    </tr>\n",
       "  </thead>\n",
       "  <tbody>\n",
       "    <tr>\n",
       "      <th>city</th>\n",
       "      <td>17292422</td>\n",
       "      <td>0</td>\n",
       "      <td>0.0</td>\n",
       "      <td>5034</td>\n",
       "      <td>object</td>\n",
       "      <td>NaN</td>\n",
       "    </tr>\n",
       "    <tr>\n",
       "      <th>state</th>\n",
       "      <td>17292422</td>\n",
       "      <td>0</td>\n",
       "      <td>0.0</td>\n",
       "      <td>51</td>\n",
       "      <td>object</td>\n",
       "      <td>NaN</td>\n",
       "    </tr>\n",
       "    <tr>\n",
       "      <th>category</th>\n",
       "      <td>17292422</td>\n",
       "      <td>0</td>\n",
       "      <td>0.0</td>\n",
       "      <td>14</td>\n",
       "      <td>object</td>\n",
       "      <td>NaN</td>\n",
       "    </tr>\n",
       "  </tbody>\n",
       "</table>\n",
       "</div>"
      ],
      "text/plain": [
       "             count  nulls  nulls%  cardinality   dtype remark\n",
       "city      17292422      0     0.0         5034  object    NaN\n",
       "state     17292422      0     0.0           51  object    NaN\n",
       "category  17292422      0     0.0           14  object    NaN"
      ]
     },
     "metadata": {},
     "output_type": "display_data"
    }
   ],
   "source": [
    "display(summary_table[summary_table[\"remark\"].isna() | (summary_table[\"remark\"] == \"\")].sort_values(\"cardinality\", ascending=False))"
   ]
  },
  {
   "cell_type": "code",
   "execution_count": 70,
   "id": "2faa5c74",
   "metadata": {},
   "outputs": [
    {
     "data": {
      "text/plain": [
       "array(['misc_net', 'grocery_pos', 'gas_transport', 'grocery_net',\n",
       "       'shopping_net', 'shopping_pos', 'home', 'travel', 'personal_care',\n",
       "       'kids_pets', 'entertainment', 'food_dining', 'health_fitness',\n",
       "       'misc_pos'], dtype=object)"
      ]
     },
     "execution_count": 70,
     "metadata": {},
     "output_type": "execute_result"
    }
   ],
   "source": [
    "df_2020[\"category\"].unique()"
   ]
  },
  {
   "cell_type": "code",
   "execution_count": null,
   "id": "64088a7c",
   "metadata": {},
   "outputs": [],
   "source": []
  },
  {
   "cell_type": "markdown",
   "id": "24d97904",
   "metadata": {},
   "source": [
    "## Column Summary – Key Insights\n",
    "\n",
    "- **No Nulls**: All columns have 0 null values → no imputation required at this stage.  \n",
    "- **Dataset Size**: The dataset contains ~34.6M rows → operations can be slow, so sampling may be needed for EDA.  \n",
    "- **High-Cardinality (ID-like) Columns**: `ssn`, `cc_num`, `acct_num`, `trans_num` have many unique values (up to 1 per row).  \n",
    "  - These are identifiers and not useful for EDA/modeling beyond grouping.  \n",
    "- **Categorical Columns (low/moderate cardinality)**:  \n",
    "  - `gender` (2 values), `state` (51), `category` (14), `profile` (12) → well-suited for analysis.  \n",
    "- **Medium/High-Cardinality Categoricals**:  \n",
    "  - `city` (~5K), `job` (~600), `merchant` (~700) → useful but may need category reduction (grouping rare values).  \n",
    "- **Datetime Columns**: `dob`, `trans_date`, `trans_time` are already converted.  \n",
    "  - Useful for deriving `age`, `year`, `month`, `day_of_week`.  \n",
    "- **Numeric Columns**:  \n",
    "  - `amt` (transaction amount), `city_pop`, `lat/long`, `merch_lat/long`.  \n",
    "  - Some have very high precision and may require binning or transformation.  \n",
    "\n",
    "**➡️ Next Step:** Focus on reducing categories, deriving new time-based features, and preparing the dataset for EDA visualizations.  \n"
   ]
  },
  {
   "cell_type": "markdown",
   "id": "74521a48",
   "metadata": {},
   "source": [
    "# Columns Consider dropping:"
   ]
  },
  {
   "cell_type": "code",
   "execution_count": null,
   "id": "2c6f58bf",
   "metadata": {},
   "outputs": [],
   "source": [
    "# Identify columns where every row has a unique value\n",
    "columns_to_drop = df.columns[df.nunique() == df.shape[0]]\n"
   ]
  },
  {
   "cell_type": "code",
   "execution_count": null,
   "id": "bed6accf",
   "metadata": {},
   "outputs": [],
   "source": [
    "print(\"Columns with all unique values (to consider dropping):\", list(columns_to_drop))"
   ]
  },
  {
   "cell_type": "markdown",
   "id": "1bb00cd0",
   "metadata": {},
   "source": [
    "### paired data checker:"
   ]
  },
  {
   "cell_type": "code",
   "execution_count": null,
   "id": "76975ebc",
   "metadata": {},
   "outputs": [],
   "source": [
    "# checks whether the SSN (ssn) and credit card number (cc_num) always change together in a DataFrame (df).\n",
    "def paired_data_checker(df, col1, col2):\n",
    "    \"\"\"\n",
    "    Checks if two columns always change together in a DataFrame.\n",
    "    Returns True if they always change together, False otherwise.\n",
    "    \"\"\"\n",
    "    paired_changes = df[[col1, col2]].drop_duplicates()\n",
    "    unique_col1 = df[col1].nunique()\n",
    "    unique_col2 = df[col2].nunique()\n",
    "    \n",
    "    if len(paired_changes) == max(unique_col1, unique_col2):\n",
    "        print(f\"{col1} and {col2} always change together. consider dropping one of them.\")\n",
    "        return\n",
    "    else:\n",
    "        print(f\"{col1} and {col2} do not always change together.\")\n",
    "        return\n",
    "\n",
    "# ssn_ccnum_pairs = df[['ssn', 'cc_num']].drop_duplicates()\n",
    "# if len(ssn_ccnum_pairs) == len(df[['ssn', 'cc_num']].drop_duplicates(subset=['ssn'])):\n",
    "#     print(\"ssn and cc_num always change together. Check whether to delete the column.\")\n",
    "# else:\n",
    "#     print(\"ssn and cc_num do not always change together.\")\n",
    "# #############  df = df.drop(columns=['ssn']) ############    "
   ]
  },
  {
   "cell_type": "code",
   "execution_count": null,
   "id": "a51119e8",
   "metadata": {},
   "outputs": [],
   "source": [
    "paired_data_checker(df, 'ssn', 'cc_num')\n",
    "paired_data_checker(df, 'acct_num', 'cc_num')"
   ]
  },
  {
   "cell_type": "markdown",
   "id": "8c4433df",
   "metadata": {},
   "source": [
    "## Handle objects:"
   ]
  },
  {
   "cell_type": "code",
   "execution_count": null,
   "id": "6579f6c4",
   "metadata": {},
   "outputs": [],
   "source": [
    "df = df.astype({col: 'string' for col in df.select_dtypes(include='object').columns})\n",
    "df.info()"
   ]
  },
  {
   "cell_type": "code",
   "execution_count": null,
   "id": "499d5190",
   "metadata": {},
   "outputs": [],
   "source": [
    "# df['ssn'].head(5) --> 750-09-7342\n",
    "df['ssn'] = df['ssn'].str.replace('-', '', regex=False)\n",
    "df['ssn'].head(5)"
   ]
  },
  {
   "cell_type": "markdown",
   "id": "859fa8a3",
   "metadata": {},
   "source": [
    "# 1) Columns to remove"
   ]
  },
  {
   "cell_type": "code",
   "execution_count": null,
   "id": "efc38a48",
   "metadata": {},
   "outputs": [],
   "source": [
    "removal_columns = [\"ssn\", \"first\", \"last\", \"street\", \"trans_num\"]\n",
    "#ssn - semsitive, no predictive power, unique per person\n",
    "#first, last - no predictive power\n",
    "#street - high cardinality, no predictive power\n",
    "#trans_num - unique per transaction, no predictive power\n",
    "summary_table.loc[summary_table.index.isin(removal_columns), \"remark\"] = \"remove\"\n",
    "display(summary_table.sort_values(\"cardinality\", ascending=False))"
   ]
  },
  {
   "cell_type": "code",
   "execution_count": null,
   "id": "69625d3d",
   "metadata": {},
   "outputs": [],
   "source": [
    "print(df_strs[\"job\"].str.lower().str.strip().unique().tolist())"
   ]
  },
  {
   "cell_type": "code",
   "execution_count": null,
   "id": "e0202b63",
   "metadata": {},
   "outputs": [],
   "source": [
    "unique_vals = df_strs[\"job\"].unique().tolist()\n",
    "print(unique_vals)\n",
    "\n"
   ]
  },
  {
   "cell_type": "code",
   "execution_count": null,
   "id": "35a7d1fd",
   "metadata": {},
   "outputs": [],
   "source": [
    "def categorize_jobs(df, column, new_column=\"job_category\"):\n",
    "    \"\"\"\n",
    "    Categorizes jobs based on keywords in the job title.\n",
    "    Adds a new column with high-level categories.\n",
    "    \"\"\"\n",
    "\n",
    "    def assign_category(job):\n",
    "        job = str(job).lower()  # ensure lowercase\n",
    "        if any(word in job for word in [\"nurse\", \"doctor\", \"surgeon\", \"dentist\", \"therapist\", \"pharmacist\", \"psychiatrist\", \"psychologist\", \"radiographer\", \"optician\", \"midwife\", \"paramedic\", \"biomedical\", \"oncologist\", \"immunologist\", \"pathologist\", \"health\"]):\n",
    "            return \"healthcare\"\n",
    "        elif any(word in job for word in [\"teacher\", \"lecturer\", \"professor\", \"educator\", \"education officer\", \"tutor\", \"school\"]):\n",
    "            return \"education\"\n",
    "        elif any(word in job for word in [\"engineer\", \"technician\", \"technologist\", \"architect\", \"surveyor\", \"scientist\", \"geologist\", \"chemist\", \"biologist\", \"researcher\", \"ecologist\", \"mathematician\", \"statistician\", \"physicist\", \"astronomer\"]):\n",
    "            return \"science/engineering\"\n",
    "        elif any(word in job for word in [\"lawyer\", \"barrister\", \"solicitor\", \"attorney\", \"legal\", \"judge\", \"magistrate\"]):\n",
    "            return \"legal\"\n",
    "        elif any(word in job for word in [\"accountant\", \"finance\", \"banker\", \"economist\", \"trader\", \"investment\", \"treasurer\", \"auditor\", \"actuary\"]):\n",
    "            return \"finance\"\n",
    "        elif any(word in job for word in [\"artist\", \"designer\", \"animator\", \"illustrator\", \"musician\", \"actor\", \"writer\", \"journalist\", \"editor\", \"photographer\", \"producer\", \"curator\", \"painter\", \"sculptor\", \"filmmaker\"]):\n",
    "            return \"arts/media\"\n",
    "        elif any(word in job for word in [\"manager\", \"consultant\", \"officer\", \"administrator\", \"coordinator\", \"executive\", \"director\", \"chief\", \"ceo\", \"cfo\", \"cio\", \"cto\", \"cmo\", \"coo\"]):\n",
    "            return \"management/business\"\n",
    "        elif any(word in job for word in [\"armed forces\", \"navy\", \"army\", \"air force\", \"military\", \"police\", \"firefighter\", \"security\"]):\n",
    "            return \"public safety/military\"\n",
    "        elif any(word in job for word in [\"agricultural\", \"farm\", \"horticulturist\", \"fisheries\", \"forester\", \"conservation\", \"ecologist\", \"gardener\", \"landscaper\", \"tree surgeon\"]):\n",
    "            return \"agriculture/environment\"\n",
    "        elif any(word in job for word in [\"it\", \"software\", \"developer\", \"programmer\", \"data scientist\", \"web\", \"computer\", \"cyber\", \"network\", \"systems\", \"applications\", \"ai\", \"machine learning\"]):\n",
    "            return \"technology\"\n",
    "        else:\n",
    "            return \"other\"\n",
    "\n",
    "    # apply categorization\n",
    "    df[new_column] = df[column].apply(assign_category)\n",
    "    return df\n"
   ]
  },
  {
   "cell_type": "code",
   "execution_count": null,
   "id": "538156c7",
   "metadata": {},
   "outputs": [],
   "source": [
    "df = categorize_jobs(df, \"job\")\n",
    "df[[\"job\", \"job_category\"]].head(20)\n"
   ]
  },
  {
   "cell_type": "code",
   "execution_count": null,
   "id": "858a7818",
   "metadata": {},
   "outputs": [],
   "source": [
    "df_strs =df.select_dtypes(include='string')\n"
   ]
  },
  {
   "cell_type": "code",
   "execution_count": null,
   "id": "17cb94fd",
   "metadata": {},
   "outputs": [],
   "source": [
    "add_remark(summary_table, \"job\", \"Reduced Cardinality to job_category\")"
   ]
  },
  {
   "cell_type": "code",
   "execution_count": null,
   "id": "a1f5a99b",
   "metadata": {},
   "outputs": [],
   "source": [
    "status_check(summary_table)\n",
    "\n"
   ]
  },
  {
   "cell_type": "code",
   "execution_count": null,
   "id": "22e54923",
   "metadata": {},
   "outputs": [],
   "source": [
    "merchant= df_strs['merchant']\n",
    "merchant.value_counts()\n"
   ]
  },
  {
   "cell_type": "code",
   "execution_count": null,
   "id": "bceeab58",
   "metadata": {},
   "outputs": [],
   "source": [
    "check_column_specials(df_strs, 'merchant', sample_size=10000, sample=10)"
   ]
  },
  {
   "cell_type": "markdown",
   "id": "e2c361f0",
   "metadata": {},
   "source": [
    "### Issues with 'merchant':\n",
    "- High cardinality (many unique values)\n",
    "- High granularity \n",
    "- Punctionation and special keys"
   ]
  },
  {
   "cell_type": "code",
   "execution_count": null,
   "id": "4a7ad527",
   "metadata": {},
   "outputs": [],
   "source": [
    "df['merchant'] = df['merchant'].str.replace('fraud_', '').str.replace(',', '')"
   ]
  },
  {
   "cell_type": "code",
   "execution_count": null,
   "id": "d4d22b39",
   "metadata": {},
   "outputs": [],
   "source": [
    "df['merchant'].value_counts()"
   ]
  },
  {
   "cell_type": "code",
   "execution_count": null,
   "id": "6620e771",
   "metadata": {},
   "outputs": [],
   "source": [
    "df.to_pickle(\"df_prep_str.pkl\")\n"
   ]
  },
  {
   "cell_type": "code",
   "execution_count": null,
   "id": "a48dc3f2",
   "metadata": {},
   "outputs": [],
   "source": [
    "df = pd.read_pickle(\"df_prep_str.pkl\")"
   ]
  },
  {
   "cell_type": "code",
   "execution_count": null,
   "id": "70ce0105",
   "metadata": {},
   "outputs": [],
   "source": [
    "status_check(summary_table)\n"
   ]
  },
  {
   "cell_type": "code",
   "execution_count": null,
   "id": "36feebce",
   "metadata": {},
   "outputs": [],
   "source": [
    "df['profile']"
   ]
  },
  {
   "cell_type": "code",
   "execution_count": null,
   "id": "1c6632ff",
   "metadata": {},
   "outputs": [],
   "source": [
    "category_stats = (\n",
    "    df.groupby('merchant')\n",
    "      .agg(total_transactions=('merchant', 'count'),\n",
    "           total_fraud=('is_fraud', 'sum'))\n",
    "      .reset_index().sort_values(by='total_fraud', ascending=False))\n",
    "\n",
    "print(category_stats)"
   ]
  },
  {
   "cell_type": "markdown",
   "id": "0dac1f7c",
   "metadata": {},
   "source": [
    "Profile Clean"
   ]
  },
  {
   "cell_type": "code",
   "execution_count": null,
   "id": "2601fa18",
   "metadata": {},
   "outputs": [],
   "source": [
    "print(df[\"profile\"].head(10))   # shows first 20 rows\n"
   ]
  },
  {
   "cell_type": "code",
   "execution_count": null,
   "id": "dbfe44c4",
   "metadata": {},
   "outputs": [],
   "source": [
    "# Remove the .json ending\n",
    "df['profile'] = df['profile'].str.replace('.json', '', regex=False)"
   ]
  },
  {
   "cell_type": "code",
   "execution_count": null,
   "id": "c26be1b5",
   "metadata": {},
   "outputs": [],
   "source": [
    "print(df['profile'].head(10))   # shows first 20 rows"
   ]
  },
  {
   "cell_type": "code",
   "execution_count": null,
   "id": "28123144",
   "metadata": {},
   "outputs": [],
   "source": [
    "df['profile'].unique()"
   ]
  },
  {
   "cell_type": "code",
   "execution_count": null,
   "id": "ab1b4971",
   "metadata": {},
   "outputs": [],
   "source": [
    "df[\"age_group\"] = df[\"profile\"].str.split(\"_\").str[:2].str.join(\"_\")\n"
   ]
  },
  {
   "cell_type": "code",
   "execution_count": null,
   "id": "86f5dacc",
   "metadata": {},
   "outputs": [],
   "source": [
    "df[\"age_group\"].value_counts()"
   ]
  },
  {
   "cell_type": "code",
   "execution_count": null,
   "id": "41406676",
   "metadata": {},
   "outputs": [],
   "source": [
    "df[\"location_profile\"] = df[\"profile\"].str.split(\"_\").str[-1]\n"
   ]
  },
  {
   "cell_type": "code",
   "execution_count": null,
   "id": "16cad41e",
   "metadata": {},
   "outputs": [],
   "source": [
    "df[\"location_profile\"].value_counts()"
   ]
  },
  {
   "cell_type": "code",
   "execution_count": null,
   "id": "d670537e",
   "metadata": {},
   "outputs": [],
   "source": [
    "df.to_pickle(\"df_prep_str.pkl\")"
   ]
  },
  {
   "cell_type": "markdown",
   "id": "2c4677d9",
   "metadata": {},
   "source": [
    "## 2) Extraction of additional data:"
   ]
  },
  {
   "cell_type": "code",
   "execution_count": null,
   "id": "54a7453d",
   "metadata": {},
   "outputs": [],
   "source": [
    "category_stats = (\n",
    "    df.groupby('merchant')\n",
    "      .agg(total_transactions=('merchant', 'count'),\n",
    "           total_fraud=('is_fraud', 'sum'))\n",
    "      .reset_index().sort_values(by='total_fraud', ascending=False))\n",
    "\n",
    "print(category_stats)"
   ]
  },
  {
   "cell_type": "code",
   "execution_count": null,
   "id": "a4bdc8b6",
   "metadata": {},
   "outputs": [],
   "source": [
    "check_column_specials(df, \"city\")\n",
    "# check_column_specials(transactions_df, \"job\")\n",
    "# check_column_specials(transactions_df, \"merchant\")\n",
    "\n",
    "\n"
   ]
  },
  {
   "cell_type": "markdown",
   "id": "2f468cdc",
   "metadata": {},
   "source": [
    "# Extraction of additional data:"
   ]
  },
  {
   "cell_type": "code",
   "execution_count": null,
   "id": "604a3c22",
   "metadata": {},
   "outputs": [],
   "source": []
  },
  {
   "cell_type": "markdown",
   "id": "f368902d",
   "metadata": {},
   "source": [
    "# Data Drops:\n",
    "- Street? high grnularity\n",
    "- First and Last name\n",
    "- - Categorical Columns where all values are unique.\n",
    "- Columns with only 1 unique value.\n"
   ]
  },
  {
   "cell_type": "code",
   "execution_count": null,
   "id": "21e12e40",
   "metadata": {},
   "outputs": [],
   "source": [
    "\n",
    "# When ready, drop all at once\n",
    "# df_cleaned = df.drop(columns=cols_to_drop)"
   ]
  }
 ],
 "metadata": {
  "kernelspec": {
   "display_name": "credit-card-fraud-detection-model-FZHIqfLr-py3.13",
   "language": "python",
   "name": "python3"
  },
  "language_info": {
   "codemirror_mode": {
    "name": "ipython",
    "version": 3
   },
   "file_extension": ".py",
   "mimetype": "text/x-python",
   "name": "python",
   "nbconvert_exporter": "python",
   "pygments_lexer": "ipython3",
   "version": "3.13.5"
  }
 },
 "nbformat": 4,
 "nbformat_minor": 5
}
