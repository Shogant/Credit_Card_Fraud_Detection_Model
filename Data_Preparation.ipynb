{
 "cells": [
  {
   "cell_type": "code",
   "execution_count": 1,
   "id": "b22fffe5",
   "metadata": {},
   "outputs": [
    {
     "name": "stdout",
     "output_type": "stream",
     "text": [
      "c:\\Users\\User\\AppData\\Local\\pypoetry\\Cache\\virtualenvs\\credit-card-fraud-detection-model-FZHIqfLr-py3.13\\Scripts\\python.exe\n"
     ]
    }
   ],
   "source": [
    "import sys\n",
    "print(sys.executable)\n",
    "import matplotlib.pyplot as plt\n",
    "import pandas as pd\n",
    "import numpy as np\n",
    "import seaborn as sns\n",
    "import os\n",
    "import re\n",
    "import warnings"
   ]
  },
  {
   "cell_type": "markdown",
   "id": "42b258b6",
   "metadata": {},
   "source": [
    "# Data Exploration – Dataset Tables\n",
    "\n",
    "In this section we will first try to explore our raw dataset files to understand \n",
    "its structure, columns, datatypes, and potential issues (missing values, duplicates, etc.), before we preform any merge.\n",
    "\n",
    "<br><u> We have 2 tables: </u></br>\n",
    "* **customers.csv**\n",
    "* **credit_card_fraud.csv**"
   ]
  },
  {
   "cell_type": "markdown",
   "id": "288b1746",
   "metadata": {},
   "source": [
    "### <u> Data Exploration – Customers Dataset : </u>"
   ]
  },
  {
   "cell_type": "code",
   "execution_count": 2,
   "id": "5ddad647",
   "metadata": {},
   "outputs": [],
   "source": [
    "transactions_df = pd.read_csv(\"C:/Users/User/Documents/GitHub/Credit_Card_Fraud_Detection_Model/data/credit_card_fraud.csv\", index_col=0) #first column is index\n",
    "customers_df = pd.read_csv(\"C:/Users/User/Documents/GitHub/Credit_Card_Fraud_Detection_Model/data/customers.csv\", sep=\"|\")"
   ]
  },
  {
   "cell_type": "code",
   "execution_count": 11,
   "id": "5dbc55e8",
   "metadata": {},
   "outputs": [],
   "source": [
    "# Save once (binary format)\n",
    "transactions_df.to_pickle(\"transactions.pkl\")\n",
    "customers_df.to_pickle(\"customers.pkl\")\n",
    "warnings.filterwarnings('ignore')\n"
   ]
  },
  {
   "cell_type": "code",
   "execution_count": 2,
   "id": "887ce9ee",
   "metadata": {},
   "outputs": [],
   "source": [
    "transactions_df = pd.read_pickle(\"transactions.pkl\")\n",
    "customers_df = pd.read_pickle(\"customers.pkl\")"
   ]
  },
  {
   "cell_type": "markdown",
   "id": "b630a34d",
   "metadata": {},
   "source": [
    "# Functions:"
   ]
  },
  {
   "cell_type": "code",
   "execution_count": 4,
   "id": "60de3bb0",
   "metadata": {},
   "outputs": [],
   "source": [
    "def compare_columns(df1, name1, df2, name2):\n",
    "    \"\"\"\n",
    "    Compares columns between two DataFrames.\n",
    "    Prints:\n",
    "    1. Common columns and their data types in both datasets.\n",
    "    2. Columns unique to each dataset.\n",
    "    \"\"\"\n",
    "    set1, set2 = set(df1.columns), set(df2.columns)\n",
    "    common = set1.intersection(set2)\n",
    "    only_in_1 = set1 - set2\n",
    "    only_in_2 = set2 - set1\n",
    "    \n",
    "    print(\"=\"*60)\n",
    "    print(\"🔹 Common Columns with Data Types\")\n",
    "    if common:\n",
    "        comparison = {\n",
    "            \"Column\": [],\n",
    "            f\"{name1} dtype\": [],\n",
    "            f\"{name2} dtype\": []\n",
    "        }\n",
    "        for col in sorted(common):\n",
    "            comparison[\"Column\"].append(col)\n",
    "            comparison[f\"{name1} dtype\"].append(df1[col].dtype)\n",
    "            comparison[f\"{name2} dtype\"].append(df2[col].dtype)\n",
    "        result = pd.DataFrame(comparison)\n",
    "        print(result.to_string(index=False))\n",
    "    else:\n",
    "        print(\"No common columns found.\")\n",
    "\n",
    "    print(\"\\n\" + \"=\"*60)\n",
    "    print(f\"🔹 Columns only in {name1}:\")\n",
    "    if only_in_1:\n",
    "        print(sorted(list(only_in_1)))\n",
    "\n",
    "    else:\n",
    "        print(\"No unique columns found.\")\n",
    "    \n",
    "    print(\"\\n\" + \"=\"*60)\n",
    "    print(f\"🔹 Columns only in {name2}:\")\n",
    "    if only_in_2:\n",
    "        print(sorted(list(only_in_2)))\n",
    "    else:\n",
    "        print(\"No unique columns found.\")\n",
    "    print(\"=\"*60)\n",
    "\n",
    "    return common, only_in_1, only_in_2\n"
   ]
  },
  {
   "cell_type": "code",
   "execution_count": 5,
   "id": "1c29d5ec",
   "metadata": {},
   "outputs": [],
   "source": [
    "def unique_values_report(df, name, max_rows=20):\n",
    "    \"\"\"\n",
    "    Prints number of unique values for each column in a DataFrame.\n",
    "    Shows top 'max_rows' columns sorted by uniqueness.\n",
    "    \"\"\"\n",
    "    uniques = df.nunique().sort_values(ascending=False).reset_index()\n",
    "    uniques.columns = [\"Column\", \"Unique Values\"]\n",
    "    \n",
    "    print(f\"\\n🔹 Unique Value Report for {name} (showing top {max_rows}):\")\n",
    "    print(uniques.head(max_rows).to_string(index=False))\n",
    "    \n"
   ]
  },
  {
   "cell_type": "code",
   "execution_count": 6,
   "id": "174efd7c",
   "metadata": {},
   "outputs": [],
   "source": [
    "def clean_punc(col):\n",
    "    return (\n",
    "        col.str.lower()  # lowercase\n",
    "           .str.replace(r\"[^a-z0-9\\s]\", \"\", regex=True)  # remove special chars\n",
    "           .str.strip()  # remove leading/trailing spaces\n",
    "    )\n",
    "\n"
   ]
  },
  {
   "cell_type": "code",
   "execution_count": 7,
   "id": "ec833561",
   "metadata": {},
   "outputs": [],
   "source": [
    "def column_summary(df):\n",
    "    summary = pd.DataFrame({\n",
    "        'count': df.shape[0],\n",
    "        'nulls': df.isnull().sum(),\n",
    "        'nulls%': df.isnull().mean() * 100,\n",
    "        'cardinality': df.nunique(),\n",
    "        'dtype': df.dtypes\n",
    "    })\n",
    "    return summary\n"
   ]
  },
  {
   "cell_type": "code",
   "execution_count": 8,
   "id": "53dee263",
   "metadata": {},
   "outputs": [],
   "source": [
    "def check_case_duplicates(df, column):\n",
    "    \"\"\"\n",
    "    Checks if a column has values that differ only by letter case.\n",
    "    Returns True if normalization (lower/upper) is recommended.\n",
    "    \"\"\"\n",
    "    original_unique = set(df[column].dropna().unique())\n",
    "    normalized_unique = set(df[column].dropna().str.lower().unique())\n",
    "    \n",
    "    # If sizes differ → case duplicates exist\n",
    "    if len(original_unique) != len(normalized_unique):\n",
    "        print(f\"⚠️ Column '{column}' has case duplicates.\")\n",
    "        diff = len(original_unique) - len(normalized_unique)\n",
    "        print(f\"   → {diff} duplicate categories caused by case.\")\n",
    "        return True\n",
    "    else:\n",
    "        print(f\"✅ Column '{column}' has no case duplicates.\")\n",
    "        return False\n"
   ]
  },
  {
   "cell_type": "code",
   "execution_count": 9,
   "id": "a83f0850",
   "metadata": {},
   "outputs": [],
   "source": [
    "def check_column_specials(df, column, sample_size=50000, sample=5):\n",
    "    \"\"\"\n",
    "    Checks one column for punctuation or special characters.\n",
    "    Uses a sample for speed on large datasets.\n",
    "    \n",
    "    Parameters:\n",
    "    - df: pandas DataFrame\n",
    "    - column: column name (string)\n",
    "    - sample_size: number of rows to sample\n",
    "    - sample: number of example values to display if issues are found\n",
    "    \"\"\"\n",
    "    # Take a sample for speed\n",
    "    df_sample = df[column].dropna().sample(\n",
    "        min(sample_size, df[column].dropna().shape[0]), random_state=42\n",
    "    ).astype(str)\n",
    "    \n",
    "    pattern = re.compile(r\"[^a-zA-Z0-9\\s]\")\n",
    "    mask = df_sample.str.contains(pattern, na=False)\n",
    "    count = mask.sum()\n",
    "    \n",
    "    if count > 0:\n",
    "        print(f\"⚠️ Column '{column}' has {count} rows with special characters (in sample).\")\n",
    "        print(\"   Examples:\", df_sample[mask].unique()[:sample])\n",
    "        return \"Needs Cleaning\"\n",
    "    else:\n",
    "        print(f\"✅ Column '{column}' is clean (no special characters in sample).\")\n",
    "        return \"Clean\"\n"
   ]
  },
  {
   "cell_type": "code",
   "execution_count": 10,
   "id": "60809c7c",
   "metadata": {},
   "outputs": [],
   "source": [
    "def add_remark(summary_table, col_name, remark):\n",
    "    \"\"\"\n",
    "    Add a remark for a specific column in the summary_table.\n",
    "    \n",
    "    Parameters:\n",
    "        summary_table (pd.DataFrame): The summary table with 'remark' column.\n",
    "        col_name (str): Column name to mark.\n",
    "        remark (str): Remark text to add.\n",
    "    \"\"\"\n",
    "    summary_table.loc[summary_table.index == col_name, \"remark\"] = remark\n",
    "    display(summary_table.sort_values(\"cardinality\", ascending=False))\n",
    "\n",
    "\n",
    "def status_check(summary_table):\n",
    "    \"\"\"\n",
    "    Display all columns in summary_table that have no remark.\n",
    "    Works for both empty strings and NaN values.\n",
    "    \n",
    "    Parameters:\n",
    "        summary_table (pd.DataFrame): The summary table with 'remark' column.\n",
    "    \"\"\"\n",
    "    unmarked = summary_table[summary_table[\"remark\"].isna() | (summary_table[\"remark\"] == \"\")]\n",
    "    display(unmarked.sort_values(\"cardinality\", ascending=False))\n"
   ]
  },
  {
   "cell_type": "markdown",
   "id": "258c76a0",
   "metadata": {},
   "source": [
    "## Pre-Merge Checks\n",
    "\n",
    "- Name match  \n",
    "- Data type match  \n",
    "- Value overlap  \n",
    "- Uniqueness  \n",
    "- Nulls  \n",
    "- Duplicates  \n"
   ]
  },
  {
   "cell_type": "code",
   "execution_count": 11,
   "id": "215e6129",
   "metadata": {},
   "outputs": [
    {
     "data": {
      "text/plain": [
       "((34636378, 26), (20000, 16))"
      ]
     },
     "execution_count": 11,
     "metadata": {},
     "output_type": "execute_result"
    }
   ],
   "source": [
    "# Table Shape & Info:\n",
    "transactions_df.shape, customers_df.shape"
   ]
  },
  {
   "cell_type": "markdown",
   "id": "3fc5ecf9",
   "metadata": {},
   "source": [
    "#### <font color='Navy'> 1.Columns & Data types inspection"
   ]
  },
  {
   "cell_type": "code",
   "execution_count": 12,
   "id": "4af4857e",
   "metadata": {},
   "outputs": [
    {
     "name": "stdout",
     "output_type": "stream",
     "text": [
      "<class 'pandas.core.frame.DataFrame'>\n",
      "Index: 34636378 entries, 0 to 34636377\n",
      "Data columns (total 26 columns):\n",
      " #   Column      Dtype  \n",
      "---  ------      -----  \n",
      " 0   ssn         object \n",
      " 1   cc_num      int64  \n",
      " 2   first       object \n",
      " 3   last        object \n",
      " 4   gender      object \n",
      " 5   street      object \n",
      " 6   city        object \n",
      " 7   state       object \n",
      " 8   zip         int64  \n",
      " 9   lat         float64\n",
      " 10  long        float64\n",
      " 11  city_pop    int64  \n",
      " 12  job         object \n",
      " 13  dob         object \n",
      " 14  acct_num    int64  \n",
      " 15  profile     object \n",
      " 16  trans_num   object \n",
      " 17  trans_date  object \n",
      " 18  trans_time  object \n",
      " 19  unix_time   int64  \n",
      " 20  category    object \n",
      " 21  amt         float64\n",
      " 22  is_fraud    int64  \n",
      " 23  merchant    object \n",
      " 24  merch_lat   float64\n",
      " 25  merch_long  float64\n",
      "dtypes: float64(5), int64(6), object(15)\n",
      "memory usage: 7.0+ GB\n"
     ]
    }
   ],
   "source": [
    "transactions_df.info()"
   ]
  },
  {
   "cell_type": "code",
   "execution_count": 13,
   "id": "76a07202",
   "metadata": {},
   "outputs": [
    {
     "name": "stdout",
     "output_type": "stream",
     "text": [
      "<class 'pandas.core.frame.DataFrame'>\n",
      "RangeIndex: 20000 entries, 0 to 19999\n",
      "Data columns (total 16 columns):\n",
      " #   Column    Non-Null Count  Dtype  \n",
      "---  ------    --------------  -----  \n",
      " 0   ssn       20000 non-null  object \n",
      " 1   cc_num    20000 non-null  int64  \n",
      " 2   first     20000 non-null  object \n",
      " 3   last      20000 non-null  object \n",
      " 4   gender    20000 non-null  object \n",
      " 5   street    20000 non-null  object \n",
      " 6   city      20000 non-null  object \n",
      " 7   state     20000 non-null  object \n",
      " 8   zip       20000 non-null  int64  \n",
      " 9   lat       20000 non-null  float64\n",
      " 10  long      20000 non-null  float64\n",
      " 11  city_pop  20000 non-null  int64  \n",
      " 12  job       20000 non-null  object \n",
      " 13  dob       20000 non-null  object \n",
      " 14  acct_num  20000 non-null  int64  \n",
      " 15  profile   20000 non-null  object \n",
      "dtypes: float64(2), int64(4), object(10)\n",
      "memory usage: 2.4+ MB\n"
     ]
    }
   ],
   "source": [
    "customers_df.info()"
   ]
  },
  {
   "cell_type": "markdown",
   "id": "4072a4cd",
   "metadata": {},
   "source": [
    "#### <font color='navy'>\n",
    "- Column Comparison - Name and Data Types\n",
    "- Common Columns\n",
    "- Nulls count check in both data sets\n"
   ]
  },
  {
   "cell_type": "code",
   "execution_count": 14,
   "id": "4764514c",
   "metadata": {},
   "outputs": [
    {
     "name": "stdout",
     "output_type": "stream",
     "text": [
      "============================================================\n",
      "🔹 Common Columns with Data Types\n",
      "  Column transactions dtype customers dtype\n",
      "acct_num              int64           int64\n",
      "  cc_num              int64           int64\n",
      "    city             object          object\n",
      "city_pop              int64           int64\n",
      "     dob             object          object\n",
      "   first             object          object\n",
      "  gender             object          object\n",
      "     job             object          object\n",
      "    last             object          object\n",
      "     lat            float64         float64\n",
      "    long            float64         float64\n",
      " profile             object          object\n",
      "     ssn             object          object\n",
      "   state             object          object\n",
      "  street             object          object\n",
      "     zip              int64           int64\n",
      "\n",
      "============================================================\n",
      "🔹 Columns only in transactions:\n",
      "['amt', 'category', 'is_fraud', 'merch_lat', 'merch_long', 'merchant', 'trans_date', 'trans_num', 'trans_time', 'unix_time']\n",
      "\n",
      "============================================================\n",
      "🔹 Columns only in customers:\n",
      "No unique columns found.\n",
      "============================================================\n",
      "Common columns: {'job', 'zip', 'acct_num', 'last', 'city_pop', 'lat', 'city', 'profile', 'cc_num', 'gender', 'state', 'street', 'long', 'dob', 'ssn', 'first'}\n",
      "Null counts in transactions:\n"
     ]
    },
    {
     "ename": "KeyboardInterrupt",
     "evalue": "",
     "output_type": "error",
     "traceback": [
      "\u001b[31m---------------------------------------------------------------------------\u001b[39m",
      "\u001b[31mKeyboardInterrupt\u001b[39m                         Traceback (most recent call last)",
      "\u001b[36mCell\u001b[39m\u001b[36m \u001b[39m\u001b[32mIn[14]\u001b[39m\u001b[32m, line 11\u001b[39m\n\u001b[32m      9\u001b[39m \u001b[38;5;66;03m# Nulls check on common columns  - do we need the merge ? is the key column complete ?\u001b[39;00m\n\u001b[32m     10\u001b[39m \u001b[38;5;28mprint\u001b[39m(\u001b[33m\"\u001b[39m\u001b[33mNull counts in transactions:\u001b[39m\u001b[33m\"\u001b[39m)\n\u001b[32m---> \u001b[39m\u001b[32m11\u001b[39m \u001b[38;5;28mprint\u001b[39m(\u001b[43mtransactions_df\u001b[49m\u001b[43m[\u001b[49m\u001b[38;5;28;43mlist\u001b[39;49m\u001b[43m(\u001b[49m\u001b[43mcommon_cols\u001b[49m\u001b[43m)\u001b[49m\u001b[43m]\u001b[49m.isna().sum())\n\u001b[32m     13\u001b[39m \u001b[38;5;28mprint\u001b[39m(\u001b[33m\"\u001b[39m\u001b[33mNull counts in customers:\u001b[39m\u001b[33m\"\u001b[39m)\n\u001b[32m     14\u001b[39m \u001b[38;5;28mprint\u001b[39m(customers_df[\u001b[38;5;28mlist\u001b[39m(common_cols)].isna().sum())\n",
      "\u001b[36mFile \u001b[39m\u001b[32mc:\\Users\\User\\AppData\\Local\\pypoetry\\Cache\\virtualenvs\\credit-card-fraud-detection-model-FZHIqfLr-py3.13\\Lib\\site-packages\\pandas\\core\\frame.py:4122\u001b[39m, in \u001b[36mDataFrame.__getitem__\u001b[39m\u001b[34m(self, key)\u001b[39m\n\u001b[32m   4119\u001b[39m \u001b[38;5;28;01mif\u001b[39;00m \u001b[38;5;28misinstance\u001b[39m(indexer, \u001b[38;5;28mslice\u001b[39m):\n\u001b[32m   4120\u001b[39m     \u001b[38;5;28;01mreturn\u001b[39;00m \u001b[38;5;28mself\u001b[39m._slice(indexer, axis=\u001b[32m1\u001b[39m)\n\u001b[32m-> \u001b[39m\u001b[32m4122\u001b[39m data = \u001b[38;5;28;43mself\u001b[39;49m\u001b[43m.\u001b[49m\u001b[43m_take_with_is_copy\u001b[49m\u001b[43m(\u001b[49m\u001b[43mindexer\u001b[49m\u001b[43m,\u001b[49m\u001b[43m \u001b[49m\u001b[43maxis\u001b[49m\u001b[43m=\u001b[49m\u001b[32;43m1\u001b[39;49m\u001b[43m)\u001b[49m\n\u001b[32m   4124\u001b[39m \u001b[38;5;28;01mif\u001b[39;00m is_single_key:\n\u001b[32m   4125\u001b[39m     \u001b[38;5;66;03m# What does looking for a single key in a non-unique index return?\u001b[39;00m\n\u001b[32m   4126\u001b[39m     \u001b[38;5;66;03m# The behavior is inconsistent. It returns a Series, except when\u001b[39;00m\n\u001b[32m   4127\u001b[39m     \u001b[38;5;66;03m# - the key itself is repeated (test on data.shape, #9519), or\u001b[39;00m\n\u001b[32m   4128\u001b[39m     \u001b[38;5;66;03m# - we have a MultiIndex on columns (test on self.columns, #21309)\u001b[39;00m\n\u001b[32m   4129\u001b[39m     \u001b[38;5;28;01mif\u001b[39;00m data.shape[\u001b[32m1\u001b[39m] == \u001b[32m1\u001b[39m \u001b[38;5;129;01mand\u001b[39;00m \u001b[38;5;129;01mnot\u001b[39;00m \u001b[38;5;28misinstance\u001b[39m(\u001b[38;5;28mself\u001b[39m.columns, MultiIndex):\n\u001b[32m   4130\u001b[39m         \u001b[38;5;66;03m# GH#26490 using data[key] can cause RecursionError\u001b[39;00m\n",
      "\u001b[36mFile \u001b[39m\u001b[32mc:\\Users\\User\\AppData\\Local\\pypoetry\\Cache\\virtualenvs\\credit-card-fraud-detection-model-FZHIqfLr-py3.13\\Lib\\site-packages\\pandas\\core\\generic.py:4172\u001b[39m, in \u001b[36mNDFrame._take_with_is_copy\u001b[39m\u001b[34m(self, indices, axis)\u001b[39m\n\u001b[32m   4161\u001b[39m \u001b[38;5;129m@final\u001b[39m\n\u001b[32m   4162\u001b[39m \u001b[38;5;28;01mdef\u001b[39;00m\u001b[38;5;250m \u001b[39m\u001b[34m_take_with_is_copy\u001b[39m(\u001b[38;5;28mself\u001b[39m, indices, axis: Axis = \u001b[32m0\u001b[39m) -> Self:\n\u001b[32m   4163\u001b[39m \u001b[38;5;250m    \u001b[39m\u001b[33;03m\"\"\"\u001b[39;00m\n\u001b[32m   4164\u001b[39m \u001b[33;03m    Internal version of the `take` method that sets the `_is_copy`\u001b[39;00m\n\u001b[32m   4165\u001b[39m \u001b[33;03m    attribute to keep track of the parent dataframe (using in indexing\u001b[39;00m\n\u001b[32m   (...)\u001b[39m\u001b[32m   4170\u001b[39m \u001b[33;03m    See the docstring of `take` for full explanation of the parameters.\u001b[39;00m\n\u001b[32m   4171\u001b[39m \u001b[33;03m    \"\"\"\u001b[39;00m\n\u001b[32m-> \u001b[39m\u001b[32m4172\u001b[39m     result = \u001b[38;5;28;43mself\u001b[39;49m\u001b[43m.\u001b[49m\u001b[43mtake\u001b[49m\u001b[43m(\u001b[49m\u001b[43mindices\u001b[49m\u001b[43m=\u001b[49m\u001b[43mindices\u001b[49m\u001b[43m,\u001b[49m\u001b[43m \u001b[49m\u001b[43maxis\u001b[49m\u001b[43m=\u001b[49m\u001b[43maxis\u001b[49m\u001b[43m)\u001b[49m\n\u001b[32m   4173\u001b[39m     \u001b[38;5;66;03m# Maybe set copy if we didn't actually change the index.\u001b[39;00m\n\u001b[32m   4174\u001b[39m     \u001b[38;5;28;01mif\u001b[39;00m \u001b[38;5;28mself\u001b[39m.ndim == \u001b[32m2\u001b[39m \u001b[38;5;129;01mand\u001b[39;00m \u001b[38;5;129;01mnot\u001b[39;00m result._get_axis(axis).equals(\u001b[38;5;28mself\u001b[39m._get_axis(axis)):\n",
      "\u001b[36mFile \u001b[39m\u001b[32mc:\\Users\\User\\AppData\\Local\\pypoetry\\Cache\\virtualenvs\\credit-card-fraud-detection-model-FZHIqfLr-py3.13\\Lib\\site-packages\\pandas\\core\\generic.py:4152\u001b[39m, in \u001b[36mNDFrame.take\u001b[39m\u001b[34m(self, indices, axis, **kwargs)\u001b[39m\n\u001b[32m   4147\u001b[39m     \u001b[38;5;66;03m# We can get here with a slice via DataFrame.__getitem__\u001b[39;00m\n\u001b[32m   4148\u001b[39m     indices = np.arange(\n\u001b[32m   4149\u001b[39m         indices.start, indices.stop, indices.step, dtype=np.intp\n\u001b[32m   4150\u001b[39m     )\n\u001b[32m-> \u001b[39m\u001b[32m4152\u001b[39m new_data = \u001b[38;5;28;43mself\u001b[39;49m\u001b[43m.\u001b[49m\u001b[43m_mgr\u001b[49m\u001b[43m.\u001b[49m\u001b[43mtake\u001b[49m\u001b[43m(\u001b[49m\n\u001b[32m   4153\u001b[39m \u001b[43m    \u001b[49m\u001b[43mindices\u001b[49m\u001b[43m,\u001b[49m\n\u001b[32m   4154\u001b[39m \u001b[43m    \u001b[49m\u001b[43maxis\u001b[49m\u001b[43m=\u001b[49m\u001b[38;5;28;43mself\u001b[39;49m\u001b[43m.\u001b[49m\u001b[43m_get_block_manager_axis\u001b[49m\u001b[43m(\u001b[49m\u001b[43maxis\u001b[49m\u001b[43m)\u001b[49m\u001b[43m,\u001b[49m\n\u001b[32m   4155\u001b[39m \u001b[43m    \u001b[49m\u001b[43mverify\u001b[49m\u001b[43m=\u001b[49m\u001b[38;5;28;43;01mTrue\u001b[39;49;00m\u001b[43m,\u001b[49m\n\u001b[32m   4156\u001b[39m \u001b[43m\u001b[49m\u001b[43m)\u001b[49m\n\u001b[32m   4157\u001b[39m \u001b[38;5;28;01mreturn\u001b[39;00m \u001b[38;5;28mself\u001b[39m._constructor_from_mgr(new_data, axes=new_data.axes).__finalize__(\n\u001b[32m   4158\u001b[39m     \u001b[38;5;28mself\u001b[39m, method=\u001b[33m\"\u001b[39m\u001b[33mtake\u001b[39m\u001b[33m\"\u001b[39m\n\u001b[32m   4159\u001b[39m )\n",
      "\u001b[36mFile \u001b[39m\u001b[32mc:\\Users\\User\\AppData\\Local\\pypoetry\\Cache\\virtualenvs\\credit-card-fraud-detection-model-FZHIqfLr-py3.13\\Lib\\site-packages\\pandas\\core\\internals\\managers.py:894\u001b[39m, in \u001b[36mBaseBlockManager.take\u001b[39m\u001b[34m(self, indexer, axis, verify)\u001b[39m\n\u001b[32m    891\u001b[39m indexer = maybe_convert_indices(indexer, n, verify=verify)\n\u001b[32m    893\u001b[39m new_labels = \u001b[38;5;28mself\u001b[39m.axes[axis].take(indexer)\n\u001b[32m--> \u001b[39m\u001b[32m894\u001b[39m \u001b[38;5;28;01mreturn\u001b[39;00m \u001b[38;5;28;43mself\u001b[39;49m\u001b[43m.\u001b[49m\u001b[43mreindex_indexer\u001b[49m\u001b[43m(\u001b[49m\n\u001b[32m    895\u001b[39m \u001b[43m    \u001b[49m\u001b[43mnew_axis\u001b[49m\u001b[43m=\u001b[49m\u001b[43mnew_labels\u001b[49m\u001b[43m,\u001b[49m\n\u001b[32m    896\u001b[39m \u001b[43m    \u001b[49m\u001b[43mindexer\u001b[49m\u001b[43m=\u001b[49m\u001b[43mindexer\u001b[49m\u001b[43m,\u001b[49m\n\u001b[32m    897\u001b[39m \u001b[43m    \u001b[49m\u001b[43maxis\u001b[49m\u001b[43m=\u001b[49m\u001b[43maxis\u001b[49m\u001b[43m,\u001b[49m\n\u001b[32m    898\u001b[39m \u001b[43m    \u001b[49m\u001b[43mallow_dups\u001b[49m\u001b[43m=\u001b[49m\u001b[38;5;28;43;01mTrue\u001b[39;49;00m\u001b[43m,\u001b[49m\n\u001b[32m    899\u001b[39m \u001b[43m    \u001b[49m\u001b[43mcopy\u001b[49m\u001b[43m=\u001b[49m\u001b[38;5;28;43;01mNone\u001b[39;49;00m\u001b[43m,\u001b[49m\n\u001b[32m    900\u001b[39m \u001b[43m\u001b[49m\u001b[43m)\u001b[49m\n",
      "\u001b[36mFile \u001b[39m\u001b[32mc:\\Users\\User\\AppData\\Local\\pypoetry\\Cache\\virtualenvs\\credit-card-fraud-detection-model-FZHIqfLr-py3.13\\Lib\\site-packages\\pandas\\core\\internals\\managers.py:680\u001b[39m, in \u001b[36mBaseBlockManager.reindex_indexer\u001b[39m\u001b[34m(self, new_axis, indexer, axis, fill_value, allow_dups, copy, only_slice, use_na_proxy)\u001b[39m\n\u001b[32m    677\u001b[39m     \u001b[38;5;28;01mraise\u001b[39;00m \u001b[38;5;167;01mIndexError\u001b[39;00m(\u001b[33m\"\u001b[39m\u001b[33mRequested axis not found in manager\u001b[39m\u001b[33m\"\u001b[39m)\n\u001b[32m    679\u001b[39m \u001b[38;5;28;01mif\u001b[39;00m axis == \u001b[32m0\u001b[39m:\n\u001b[32m--> \u001b[39m\u001b[32m680\u001b[39m     new_blocks = \u001b[38;5;28;43mself\u001b[39;49m\u001b[43m.\u001b[49m\u001b[43m_slice_take_blocks_ax0\u001b[49m\u001b[43m(\u001b[49m\n\u001b[32m    681\u001b[39m \u001b[43m        \u001b[49m\u001b[43mindexer\u001b[49m\u001b[43m,\u001b[49m\n\u001b[32m    682\u001b[39m \u001b[43m        \u001b[49m\u001b[43mfill_value\u001b[49m\u001b[43m=\u001b[49m\u001b[43mfill_value\u001b[49m\u001b[43m,\u001b[49m\n\u001b[32m    683\u001b[39m \u001b[43m        \u001b[49m\u001b[43monly_slice\u001b[49m\u001b[43m=\u001b[49m\u001b[43monly_slice\u001b[49m\u001b[43m,\u001b[49m\n\u001b[32m    684\u001b[39m \u001b[43m        \u001b[49m\u001b[43muse_na_proxy\u001b[49m\u001b[43m=\u001b[49m\u001b[43muse_na_proxy\u001b[49m\u001b[43m,\u001b[49m\n\u001b[32m    685\u001b[39m \u001b[43m    \u001b[49m\u001b[43m)\u001b[49m\n\u001b[32m    686\u001b[39m \u001b[38;5;28;01melse\u001b[39;00m:\n\u001b[32m    687\u001b[39m     new_blocks = [\n\u001b[32m    688\u001b[39m         blk.take_nd(\n\u001b[32m    689\u001b[39m             indexer,\n\u001b[32m   (...)\u001b[39m\u001b[32m    695\u001b[39m         \u001b[38;5;28;01mfor\u001b[39;00m blk \u001b[38;5;129;01min\u001b[39;00m \u001b[38;5;28mself\u001b[39m.blocks\n\u001b[32m    696\u001b[39m     ]\n",
      "\u001b[36mFile \u001b[39m\u001b[32mc:\\Users\\User\\AppData\\Local\\pypoetry\\Cache\\virtualenvs\\credit-card-fraud-detection-model-FZHIqfLr-py3.13\\Lib\\site-packages\\pandas\\core\\internals\\managers.py:843\u001b[39m, in \u001b[36mBaseBlockManager._slice_take_blocks_ax0\u001b[39m\u001b[34m(self, slice_or_indexer, fill_value, only_slice, use_na_proxy, ref_inplace_op)\u001b[39m\n\u001b[32m    841\u001b[39m                     blocks.append(nb)\n\u001b[32m    842\u001b[39m             \u001b[38;5;28;01melse\u001b[39;00m:\n\u001b[32m--> \u001b[39m\u001b[32m843\u001b[39m                 nb = \u001b[43mblk\u001b[49m\u001b[43m.\u001b[49m\u001b[43mtake_nd\u001b[49m\u001b[43m(\u001b[49m\u001b[43mtaker\u001b[49m\u001b[43m,\u001b[49m\u001b[43m \u001b[49m\u001b[43maxis\u001b[49m\u001b[43m=\u001b[49m\u001b[32;43m0\u001b[39;49m\u001b[43m,\u001b[49m\u001b[43m \u001b[49m\u001b[43mnew_mgr_locs\u001b[49m\u001b[43m=\u001b[49m\u001b[43mmgr_locs\u001b[49m\u001b[43m)\u001b[49m\n\u001b[32m    844\u001b[39m                 blocks.append(nb)\n\u001b[32m    846\u001b[39m \u001b[38;5;28;01mreturn\u001b[39;00m blocks\n",
      "\u001b[36mFile \u001b[39m\u001b[32mc:\\Users\\User\\AppData\\Local\\pypoetry\\Cache\\virtualenvs\\credit-card-fraud-detection-model-FZHIqfLr-py3.13\\Lib\\site-packages\\pandas\\core\\internals\\blocks.py:1373\u001b[39m, in \u001b[36mBlock.take_nd\u001b[39m\u001b[34m(self, indexer, axis, new_mgr_locs, fill_value)\u001b[39m\n\u001b[32m   1370\u001b[39m     allow_fill = \u001b[38;5;28;01mTrue\u001b[39;00m\n\u001b[32m   1372\u001b[39m \u001b[38;5;66;03m# Note: algos.take_nd has upcast logic similar to coerce_to_target_dtype\u001b[39;00m\n\u001b[32m-> \u001b[39m\u001b[32m1373\u001b[39m new_values = \u001b[43malgos\u001b[49m\u001b[43m.\u001b[49m\u001b[43mtake_nd\u001b[49m\u001b[43m(\u001b[49m\n\u001b[32m   1374\u001b[39m \u001b[43m    \u001b[49m\u001b[43mvalues\u001b[49m\u001b[43m,\u001b[49m\u001b[43m \u001b[49m\u001b[43mindexer\u001b[49m\u001b[43m,\u001b[49m\u001b[43m \u001b[49m\u001b[43maxis\u001b[49m\u001b[43m=\u001b[49m\u001b[43maxis\u001b[49m\u001b[43m,\u001b[49m\u001b[43m \u001b[49m\u001b[43mallow_fill\u001b[49m\u001b[43m=\u001b[49m\u001b[43mallow_fill\u001b[49m\u001b[43m,\u001b[49m\u001b[43m \u001b[49m\u001b[43mfill_value\u001b[49m\u001b[43m=\u001b[49m\u001b[43mfill_value\u001b[49m\n\u001b[32m   1375\u001b[39m \u001b[43m\u001b[49m\u001b[43m)\u001b[49m\n\u001b[32m   1377\u001b[39m \u001b[38;5;66;03m# Called from three places in managers, all of which satisfy\u001b[39;00m\n\u001b[32m   1378\u001b[39m \u001b[38;5;66;03m#  these assertions\u001b[39;00m\n\u001b[32m   1379\u001b[39m \u001b[38;5;28;01mif\u001b[39;00m \u001b[38;5;28misinstance\u001b[39m(\u001b[38;5;28mself\u001b[39m, ExtensionBlock):\n\u001b[32m   1380\u001b[39m     \u001b[38;5;66;03m# NB: in this case, the 'axis' kwarg will be ignored in the\u001b[39;00m\n\u001b[32m   1381\u001b[39m     \u001b[38;5;66;03m#  algos.take_nd call above.\u001b[39;00m\n",
      "\u001b[36mFile \u001b[39m\u001b[32mc:\\Users\\User\\AppData\\Local\\pypoetry\\Cache\\virtualenvs\\credit-card-fraud-detection-model-FZHIqfLr-py3.13\\Lib\\site-packages\\pandas\\core\\array_algos\\take.py:117\u001b[39m, in \u001b[36mtake_nd\u001b[39m\u001b[34m(arr, indexer, axis, fill_value, allow_fill)\u001b[39m\n\u001b[32m    114\u001b[39m     \u001b[38;5;28;01mreturn\u001b[39;00m arr.take(indexer, fill_value=fill_value, allow_fill=allow_fill)\n\u001b[32m    116\u001b[39m arr = np.asarray(arr)\n\u001b[32m--> \u001b[39m\u001b[32m117\u001b[39m \u001b[38;5;28;01mreturn\u001b[39;00m \u001b[43m_take_nd_ndarray\u001b[49m\u001b[43m(\u001b[49m\u001b[43marr\u001b[49m\u001b[43m,\u001b[49m\u001b[43m \u001b[49m\u001b[43mindexer\u001b[49m\u001b[43m,\u001b[49m\u001b[43m \u001b[49m\u001b[43maxis\u001b[49m\u001b[43m,\u001b[49m\u001b[43m \u001b[49m\u001b[43mfill_value\u001b[49m\u001b[43m,\u001b[49m\u001b[43m \u001b[49m\u001b[43mallow_fill\u001b[49m\u001b[43m)\u001b[49m\n",
      "\u001b[36mFile \u001b[39m\u001b[32mc:\\Users\\User\\AppData\\Local\\pypoetry\\Cache\\virtualenvs\\credit-card-fraud-detection-model-FZHIqfLr-py3.13\\Lib\\site-packages\\pandas\\core\\array_algos\\take.py:162\u001b[39m, in \u001b[36m_take_nd_ndarray\u001b[39m\u001b[34m(arr, indexer, axis, fill_value, allow_fill)\u001b[39m\n\u001b[32m    157\u001b[39m     out = np.empty(out_shape, dtype=dtype)\n\u001b[32m    159\u001b[39m func = _get_take_nd_function(\n\u001b[32m    160\u001b[39m     arr.ndim, arr.dtype, out.dtype, axis=axis, mask_info=mask_info\n\u001b[32m    161\u001b[39m )\n\u001b[32m--> \u001b[39m\u001b[32m162\u001b[39m \u001b[43mfunc\u001b[49m\u001b[43m(\u001b[49m\u001b[43marr\u001b[49m\u001b[43m,\u001b[49m\u001b[43m \u001b[49m\u001b[43mindexer\u001b[49m\u001b[43m,\u001b[49m\u001b[43m \u001b[49m\u001b[43mout\u001b[49m\u001b[43m,\u001b[49m\u001b[43m \u001b[49m\u001b[43mfill_value\u001b[49m\u001b[43m)\u001b[49m\n\u001b[32m    164\u001b[39m \u001b[38;5;28;01mif\u001b[39;00m flip_order:\n\u001b[32m    165\u001b[39m     out = out.T\n",
      "\u001b[31mKeyboardInterrupt\u001b[39m: "
     ]
    }
   ],
   "source": [
    "# Column Comparison - Name and Data Types:\n",
    "common_cols, only_in_transactions, only_in_customers = compare_columns(\n",
    "    transactions_df, \"transactions\", customers_df, \"customers\"\n",
    ")\n",
    "\n",
    "#Common columns:\n",
    "print(\"Common columns:\", common_cols) \n",
    "\n",
    "# Nulls check on common columns  - do we need the merge ? is the key column complete ?\n",
    "print(\"Null counts in transactions:\")\n",
    "print(transactions_df[list(common_cols)].isna().sum())\n",
    "\n",
    "print(\"Null counts in customers:\")\n",
    "print(customers_df[list(common_cols)].isna().sum())\n",
    "\n"
   ]
  },
  {
   "cell_type": "markdown",
   "id": "772bec96",
   "metadata": {},
   "source": [
    "#### <font color='Indigo'> Data type Correction - Date type"
   ]
  },
  {
   "cell_type": "code",
   "execution_count": null,
   "id": "58ca50a4",
   "metadata": {},
   "outputs": [],
   "source": [
    "transactions_df['trans_date'] = pd.to_datetime(transactions_df['trans_date'], errors='coerce')\n",
    "transactions_df['trans_time'] = pd.to_datetime(transactions_df['trans_time'], format='%H:%M:%S', errors='coerce')\n",
    "transactions_df['dob'] = pd.to_datetime(transactions_df['dob'], errors='coerce')\n",
    "customers_df['dob'] = pd.to_datetime(customers_df['dob'], errors='coerce')\n"
   ]
  },
  {
   "cell_type": "code",
   "execution_count": null,
   "id": "56727c92",
   "metadata": {},
   "outputs": [
    {
     "name": "stdout",
     "output_type": "stream",
     "text": [
      "<class 'pandas.core.frame.DataFrame'>\n",
      "Index: 34636378 entries, 0 to 34636377\n",
      "Data columns (total 26 columns):\n",
      " #   Column      Dtype         \n",
      "---  ------      -----         \n",
      " 0   ssn         object        \n",
      " 1   cc_num      int64         \n",
      " 2   first       object        \n",
      " 3   last        object        \n",
      " 4   gender      object        \n",
      " 5   street      object        \n",
      " 6   city        object        \n",
      " 7   state       object        \n",
      " 8   zip         int64         \n",
      " 9   lat         float64       \n",
      " 10  long        float64       \n",
      " 11  city_pop    int64         \n",
      " 12  job         object        \n",
      " 13  dob         datetime64[ns]\n",
      " 14  acct_num    int64         \n",
      " 15  profile     object        \n",
      " 16  trans_num   object        \n",
      " 17  trans_date  datetime64[ns]\n",
      " 18  trans_time  datetime64[ns]\n",
      " 19  unix_time   int64         \n",
      " 20  category    object        \n",
      " 21  amt         float64       \n",
      " 22  is_fraud    int64         \n",
      " 23  merchant    object        \n",
      " 24  merch_lat   float64       \n",
      " 25  merch_long  float64       \n",
      "dtypes: datetime64[ns](3), float64(5), int64(6), object(12)\n",
      "memory usage: 7.0+ GB\n"
     ]
    }
   ],
   "source": [
    "transactions_df.info()"
   ]
  },
  {
   "cell_type": "code",
   "execution_count": null,
   "id": "4e6453cb",
   "metadata": {},
   "outputs": [
    {
     "name": "stdout",
     "output_type": "stream",
     "text": [
      "Unique cc_num in transactions: 19948\n",
      "Unique cc_num in customers   : 20000\n",
      "Overlapping cc_num           : 19948\n",
      "Overlap coverage in transactions: 100.00%\n",
      "Overlap coverage in customers   : 99.74%\n"
     ]
    }
   ],
   "source": [
    "trans_cards = set(transactions_df['cc_num'])\n",
    "cust_cards = set(customers_df['cc_num'])\n",
    "\n",
    "overlap = trans_cards.intersection(cust_cards)\n",
    "\n",
    "print(\"Unique cc_num in transactions:\", len(trans_cards))\n",
    "print(\"Unique cc_num in customers   :\", len(cust_cards))\n",
    "print(\"Overlapping cc_num           :\", len(overlap))\n",
    "print(\"Overlap coverage in transactions: {:.2f}%\".format(len(overlap) / len(trans_cards) * 100))\n",
    "print(\"Overlap coverage in customers   : {:.2f}%\".format(len(overlap) / len(cust_cards) * 100))\n"
   ]
  },
  {
   "cell_type": "markdown",
   "id": "7ca2a339",
   "metadata": {},
   "source": [
    "We want to confirm that each cc_num in customers_df appears only once (one row per customer).\n",
    "If there are duplicates, merging could cause row multiplication."
   ]
  },
  {
   "cell_type": "code",
   "execution_count": null,
   "id": "34b64a46",
   "metadata": {},
   "outputs": [
    {
     "name": "stdout",
     "output_type": "stream",
     "text": [
      "Total customers: 20000\n",
      "Unique customer IDs: 20000\n",
      "Duplicate customer IDs: 0\n"
     ]
    }
   ],
   "source": [
    "# Count duplicate customer IDs\n",
    "dup_customers = customers_df['cc_num'].duplicated().sum()\n",
    "\n",
    "print(\"Total customers:\", customers_df.shape[0])\n",
    "print(\"Unique customer IDs:\", customers_df['cc_num'].nunique())\n",
    "print(\"Duplicate customer IDs:\", dup_customers)\n",
    "\n",
    "# If there are duplicates, show a few\n",
    "if dup_customers > 0:\n",
    "    display(customers_df[customers_df['cc_num'].duplicated(keep=False)].head())\n"
   ]
  },
  {
   "cell_type": "markdown",
   "id": "816b6f8a",
   "metadata": {},
   "source": [
    "we will use the cc_num as the key join factor. the following check is just to confirm that this key has no missing values in it for each table."
   ]
  },
  {
   "cell_type": "code",
   "execution_count": null,
   "id": "f4b2889c",
   "metadata": {},
   "outputs": [
    {
     "name": "stdout",
     "output_type": "stream",
     "text": [
      "Nulls in transactions cc_num: 0\n",
      "Nulls in customers cc_num   : 0\n"
     ]
    }
   ],
   "source": [
    "print(\"Nulls in transactions cc_num:\", transactions_df['cc_num'].isna().sum())\n",
    "print(\"Nulls in customers cc_num   :\", customers_df['cc_num'].isna().sum())\n"
   ]
  },
  {
   "cell_type": "code",
   "execution_count": null,
   "id": "9f25b78a",
   "metadata": {},
   "outputs": [
    {
     "name": "stdout",
     "output_type": "stream",
     "text": [
      "Duplicate rows in transactions: 0\n",
      "Duplicate rows in customers   : 0\n"
     ]
    }
   ],
   "source": [
    "print(\"Duplicate rows in transactions:\", transactions_df.duplicated().sum())\n",
    "print(\"Duplicate rows in customers   :\", customers_df.duplicated().sum())\n"
   ]
  },
  {
   "cell_type": "markdown",
   "id": "038243bf",
   "metadata": {},
   "source": [
    "What was found:\n",
    "- All columns in customers.csv already exist in transactions_df.\n",
    "- common columns in both dfs have no nulls.\n",
    "- Customers_df have no extra special columns that can contribute extra informaiton. \n",
    "- The only difference is that customers.csv has a few extra cc_num that don’t appear in transactions.\n",
    "- Those extra customers are irrelevant for fraud detection, because fraud is defined at the transaction level."
   ]
  },
  {
   "cell_type": "markdown",
   "id": "dc4fc398",
   "metadata": {},
   "source": [
    "### <u> Data Exploration – credit_card_fraud Dataset </u>\n"
   ]
  },
  {
   "cell_type": "code",
   "execution_count": null,
   "id": "0c44e887",
   "metadata": {},
   "outputs": [],
   "source": [
    "df = transactions_df"
   ]
  },
  {
   "cell_type": "markdown",
   "id": "622420c5",
   "metadata": {},
   "source": [
    "Since there is no additional information given by the customer.csv, we will be working on the credict_cart_fraud.csv\n",
    "1. Duplicate rows - completed in previous section. no duplicates.\n",
    "2. Null inspection\n",
    "3. Check object columns\n",
    "4. drop if a column has only one unique value\n",
    "5. Convert an objects into viable data \n",
    "6. Clean special characters and punctioation\n",
    "7. convert gender\n",
    "8. drop first and last name\n",
    "9. group states\n",
    "10. remove street?"
   ]
  },
  {
   "cell_type": "code",
   "execution_count": null,
   "id": "12c2e86b",
   "metadata": {},
   "outputs": [
    {
     "data": {
      "text/html": [
       "<div>\n",
       "<style scoped>\n",
       "    .dataframe tbody tr th:only-of-type {\n",
       "        vertical-align: middle;\n",
       "    }\n",
       "\n",
       "    .dataframe tbody tr th {\n",
       "        vertical-align: top;\n",
       "    }\n",
       "\n",
       "    .dataframe thead th {\n",
       "        text-align: right;\n",
       "    }\n",
       "</style>\n",
       "<table border=\"1\" class=\"dataframe\">\n",
       "  <thead>\n",
       "    <tr style=\"text-align: right;\">\n",
       "      <th></th>\n",
       "      <th>count</th>\n",
       "      <th>nulls</th>\n",
       "      <th>nulls%</th>\n",
       "      <th>cardinality</th>\n",
       "      <th>dtype</th>\n",
       "    </tr>\n",
       "  </thead>\n",
       "  <tbody>\n",
       "    <tr>\n",
       "      <th>ssn</th>\n",
       "      <td>34636378</td>\n",
       "      <td>0</td>\n",
       "      <td>0.0</td>\n",
       "      <td>19948</td>\n",
       "      <td>object</td>\n",
       "    </tr>\n",
       "    <tr>\n",
       "      <th>cc_num</th>\n",
       "      <td>34636378</td>\n",
       "      <td>0</td>\n",
       "      <td>0.0</td>\n",
       "      <td>19948</td>\n",
       "      <td>int64</td>\n",
       "    </tr>\n",
       "    <tr>\n",
       "      <th>first</th>\n",
       "      <td>34636378</td>\n",
       "      <td>0</td>\n",
       "      <td>0.0</td>\n",
       "      <td>686</td>\n",
       "      <td>object</td>\n",
       "    </tr>\n",
       "    <tr>\n",
       "      <th>last</th>\n",
       "      <td>34636378</td>\n",
       "      <td>0</td>\n",
       "      <td>0.0</td>\n",
       "      <td>1000</td>\n",
       "      <td>object</td>\n",
       "    </tr>\n",
       "    <tr>\n",
       "      <th>gender</th>\n",
       "      <td>34636378</td>\n",
       "      <td>0</td>\n",
       "      <td>0.0</td>\n",
       "      <td>2</td>\n",
       "      <td>object</td>\n",
       "    </tr>\n",
       "    <tr>\n",
       "      <th>street</th>\n",
       "      <td>34636378</td>\n",
       "      <td>0</td>\n",
       "      <td>0.0</td>\n",
       "      <td>19948</td>\n",
       "      <td>object</td>\n",
       "    </tr>\n",
       "    <tr>\n",
       "      <th>city</th>\n",
       "      <td>34636378</td>\n",
       "      <td>0</td>\n",
       "      <td>0.0</td>\n",
       "      <td>5184</td>\n",
       "      <td>object</td>\n",
       "    </tr>\n",
       "    <tr>\n",
       "      <th>state</th>\n",
       "      <td>34636378</td>\n",
       "      <td>0</td>\n",
       "      <td>0.0</td>\n",
       "      <td>51</td>\n",
       "      <td>object</td>\n",
       "    </tr>\n",
       "    <tr>\n",
       "      <th>zip</th>\n",
       "      <td>34636378</td>\n",
       "      <td>0</td>\n",
       "      <td>0.0</td>\n",
       "      <td>10218</td>\n",
       "      <td>int64</td>\n",
       "    </tr>\n",
       "    <tr>\n",
       "      <th>lat</th>\n",
       "      <td>34636378</td>\n",
       "      <td>0</td>\n",
       "      <td>0.0</td>\n",
       "      <td>9860</td>\n",
       "      <td>float64</td>\n",
       "    </tr>\n",
       "    <tr>\n",
       "      <th>long</th>\n",
       "      <td>34636378</td>\n",
       "      <td>0</td>\n",
       "      <td>0.0</td>\n",
       "      <td>10069</td>\n",
       "      <td>float64</td>\n",
       "    </tr>\n",
       "    <tr>\n",
       "      <th>city_pop</th>\n",
       "      <td>34636378</td>\n",
       "      <td>0</td>\n",
       "      <td>0.0</td>\n",
       "      <td>6236</td>\n",
       "      <td>int64</td>\n",
       "    </tr>\n",
       "    <tr>\n",
       "      <th>job</th>\n",
       "      <td>34636378</td>\n",
       "      <td>0</td>\n",
       "      <td>0.0</td>\n",
       "      <td>639</td>\n",
       "      <td>object</td>\n",
       "    </tr>\n",
       "    <tr>\n",
       "      <th>dob</th>\n",
       "      <td>34636378</td>\n",
       "      <td>0</td>\n",
       "      <td>0.0</td>\n",
       "      <td>13861</td>\n",
       "      <td>datetime64[ns]</td>\n",
       "    </tr>\n",
       "    <tr>\n",
       "      <th>acct_num</th>\n",
       "      <td>34636378</td>\n",
       "      <td>0</td>\n",
       "      <td>0.0</td>\n",
       "      <td>19948</td>\n",
       "      <td>int64</td>\n",
       "    </tr>\n",
       "    <tr>\n",
       "      <th>profile</th>\n",
       "      <td>34636378</td>\n",
       "      <td>0</td>\n",
       "      <td>0.0</td>\n",
       "      <td>12</td>\n",
       "      <td>object</td>\n",
       "    </tr>\n",
       "    <tr>\n",
       "      <th>trans_num</th>\n",
       "      <td>34636378</td>\n",
       "      <td>0</td>\n",
       "      <td>0.0</td>\n",
       "      <td>34636378</td>\n",
       "      <td>object</td>\n",
       "    </tr>\n",
       "    <tr>\n",
       "      <th>trans_date</th>\n",
       "      <td>34636378</td>\n",
       "      <td>0</td>\n",
       "      <td>0.0</td>\n",
       "      <td>731</td>\n",
       "      <td>datetime64[ns]</td>\n",
       "    </tr>\n",
       "    <tr>\n",
       "      <th>trans_time</th>\n",
       "      <td>34636378</td>\n",
       "      <td>0</td>\n",
       "      <td>0.0</td>\n",
       "      <td>86400</td>\n",
       "      <td>datetime64[ns]</td>\n",
       "    </tr>\n",
       "    <tr>\n",
       "      <th>unix_time</th>\n",
       "      <td>34636378</td>\n",
       "      <td>0</td>\n",
       "      <td>0.0</td>\n",
       "      <td>21837719</td>\n",
       "      <td>int64</td>\n",
       "    </tr>\n",
       "    <tr>\n",
       "      <th>category</th>\n",
       "      <td>34636378</td>\n",
       "      <td>0</td>\n",
       "      <td>0.0</td>\n",
       "      <td>14</td>\n",
       "      <td>object</td>\n",
       "    </tr>\n",
       "    <tr>\n",
       "      <th>amt</th>\n",
       "      <td>34636378</td>\n",
       "      <td>0</td>\n",
       "      <td>0.0</td>\n",
       "      <td>174288</td>\n",
       "      <td>float64</td>\n",
       "    </tr>\n",
       "    <tr>\n",
       "      <th>is_fraud</th>\n",
       "      <td>34636378</td>\n",
       "      <td>0</td>\n",
       "      <td>0.0</td>\n",
       "      <td>2</td>\n",
       "      <td>int64</td>\n",
       "    </tr>\n",
       "    <tr>\n",
       "      <th>merchant</th>\n",
       "      <td>34636378</td>\n",
       "      <td>0</td>\n",
       "      <td>0.0</td>\n",
       "      <td>693</td>\n",
       "      <td>object</td>\n",
       "    </tr>\n",
       "    <tr>\n",
       "      <th>merch_lat</th>\n",
       "      <td>34636378</td>\n",
       "      <td>0</td>\n",
       "      <td>0.0</td>\n",
       "      <td>15942663</td>\n",
       "      <td>float64</td>\n",
       "    </tr>\n",
       "    <tr>\n",
       "      <th>merch_long</th>\n",
       "      <td>34636378</td>\n",
       "      <td>0</td>\n",
       "      <td>0.0</td>\n",
       "      <td>23233358</td>\n",
       "      <td>float64</td>\n",
       "    </tr>\n",
       "  </tbody>\n",
       "</table>\n",
       "</div>"
      ],
      "text/plain": [
       "               count  nulls  nulls%  cardinality           dtype\n",
       "ssn         34636378      0     0.0        19948          object\n",
       "cc_num      34636378      0     0.0        19948           int64\n",
       "first       34636378      0     0.0          686          object\n",
       "last        34636378      0     0.0         1000          object\n",
       "gender      34636378      0     0.0            2          object\n",
       "street      34636378      0     0.0        19948          object\n",
       "city        34636378      0     0.0         5184          object\n",
       "state       34636378      0     0.0           51          object\n",
       "zip         34636378      0     0.0        10218           int64\n",
       "lat         34636378      0     0.0         9860         float64\n",
       "long        34636378      0     0.0        10069         float64\n",
       "city_pop    34636378      0     0.0         6236           int64\n",
       "job         34636378      0     0.0          639          object\n",
       "dob         34636378      0     0.0        13861  datetime64[ns]\n",
       "acct_num    34636378      0     0.0        19948           int64\n",
       "profile     34636378      0     0.0           12          object\n",
       "trans_num   34636378      0     0.0     34636378          object\n",
       "trans_date  34636378      0     0.0          731  datetime64[ns]\n",
       "trans_time  34636378      0     0.0        86400  datetime64[ns]\n",
       "unix_time   34636378      0     0.0     21837719           int64\n",
       "category    34636378      0     0.0           14          object\n",
       "amt         34636378      0     0.0       174288         float64\n",
       "is_fraud    34636378      0     0.0            2           int64\n",
       "merchant    34636378      0     0.0          693          object\n",
       "merch_lat   34636378      0     0.0     15942663         float64\n",
       "merch_long  34636378      0     0.0     23233358         float64"
      ]
     },
     "metadata": {},
     "output_type": "display_data"
    }
   ],
   "source": [
    "# Run on transactions_df\n",
    "summary_table = column_summary(df)\n",
    "display(summary_table.sort_values(\"nulls%\", ascending=False))\n",
    "\n"
   ]
  },
  {
   "cell_type": "markdown",
   "id": "24d97904",
   "metadata": {},
   "source": [
    "## Column Summary – Key Insights\n",
    "\n",
    "- **No Nulls**: All columns have 0 null values → no imputation required at this stage.  \n",
    "- **Dataset Size**: The dataset contains ~34.6M rows → operations can be slow, so sampling may be needed for EDA.  \n",
    "- **High-Cardinality (ID-like) Columns**: `ssn`, `cc_num`, `acct_num`, `trans_num` have many unique values (up to 1 per row).  \n",
    "  - These are identifiers and not useful for EDA/modeling beyond grouping.  \n",
    "- **Categorical Columns (low/moderate cardinality)**:  \n",
    "  - `gender` (2 values), `state` (51), `category` (14), `profile` (12) → well-suited for analysis.  \n",
    "- **Medium/High-Cardinality Categoricals**:  \n",
    "  - `city` (~5K), `job` (~600), `merchant` (~700) → useful but may need category reduction (grouping rare values).  \n",
    "- **Datetime Columns**: `dob`, `trans_date`, `trans_time` are already converted.  \n",
    "  - Useful for deriving `age`, `year`, `month`, `day_of_week`.  \n",
    "- **Numeric Columns**:  \n",
    "  - `amt` (transaction amount), `city_pop`, `lat/long`, `merch_lat/long`.  \n",
    "  - Some have very high precision and may require binning or transformation.  \n",
    "\n",
    "**➡️ Next Step:** Focus on reducing categories, deriving new time-based features, and preparing the dataset for EDA visualizations.  \n"
   ]
  },
  {
   "cell_type": "markdown",
   "id": "74521a48",
   "metadata": {},
   "source": [
    "# Columns Consider dropping:"
   ]
  },
  {
   "cell_type": "code",
   "execution_count": null,
   "id": "2c6f58bf",
   "metadata": {},
   "outputs": [],
   "source": [
    "# Identify columns where every row has a unique value\n",
    "columns_to_drop = df.columns[df.nunique() == df.shape[0]]\n"
   ]
  },
  {
   "cell_type": "code",
   "execution_count": null,
   "id": "bed6accf",
   "metadata": {},
   "outputs": [
    {
     "name": "stdout",
     "output_type": "stream",
     "text": [
      "Columns with all unique values (to consider dropping): ['trans_num']\n"
     ]
    }
   ],
   "source": [
    "print(\"Columns with all unique values (to consider dropping):\", list(columns_to_drop))"
   ]
  },
  {
   "cell_type": "markdown",
   "id": "1bb00cd0",
   "metadata": {},
   "source": [
    "### paired data checker:"
   ]
  },
  {
   "cell_type": "code",
   "execution_count": null,
   "id": "76975ebc",
   "metadata": {},
   "outputs": [],
   "source": [
    "# checks whether the SSN (ssn) and credit card number (cc_num) always change together in a DataFrame (df).\n",
    "def paired_data_checker(df, col1, col2):\n",
    "    \"\"\"\n",
    "    Checks if two columns always change together in a DataFrame.\n",
    "    Returns True if they always change together, False otherwise.\n",
    "    \"\"\"\n",
    "    paired_changes = df[[col1, col2]].drop_duplicates()\n",
    "    unique_col1 = df[col1].nunique()\n",
    "    unique_col2 = df[col2].nunique()\n",
    "    \n",
    "    if len(paired_changes) == max(unique_col1, unique_col2):\n",
    "        print(f\"{col1} and {col2} always change together. consider dropping one of them.\")\n",
    "        return\n",
    "    else:\n",
    "        print(f\"{col1} and {col2} do not always change together.\")\n",
    "        return\n",
    "\n",
    "# ssn_ccnum_pairs = df[['ssn', 'cc_num']].drop_duplicates()\n",
    "# if len(ssn_ccnum_pairs) == len(df[['ssn', 'cc_num']].drop_duplicates(subset=['ssn'])):\n",
    "#     print(\"ssn and cc_num always change together. Check whether to delete the column.\")\n",
    "# else:\n",
    "#     print(\"ssn and cc_num do not always change together.\")\n",
    "# #############  df = df.drop(columns=['ssn']) ############    "
   ]
  },
  {
   "cell_type": "code",
   "execution_count": null,
   "id": "a51119e8",
   "metadata": {},
   "outputs": [
    {
     "name": "stdout",
     "output_type": "stream",
     "text": [
      "ssn and cc_num always change together. consider dropping one of them.\n",
      "acct_num and cc_num always change together. consider dropping one of them.\n"
     ]
    }
   ],
   "source": [
    "paired_data_checker(df, 'ssn', 'cc_num')\n",
    "paired_data_checker(df, 'acct_num', 'cc_num')"
   ]
  },
  {
   "cell_type": "markdown",
   "id": "8c4433df",
   "metadata": {},
   "source": [
    "## Handle objects:"
   ]
  },
  {
   "cell_type": "code",
   "execution_count": null,
   "id": "6579f6c4",
   "metadata": {},
   "outputs": [
    {
     "name": "stdout",
     "output_type": "stream",
     "text": [
      "<class 'pandas.core.frame.DataFrame'>\n",
      "Index: 34636378 entries, 0 to 34636377\n",
      "Data columns (total 26 columns):\n",
      " #   Column      Dtype         \n",
      "---  ------      -----         \n",
      " 0   ssn         string        \n",
      " 1   cc_num      int64         \n",
      " 2   first       string        \n",
      " 3   last        string        \n",
      " 4   gender      string        \n",
      " 5   street      string        \n",
      " 6   city        string        \n",
      " 7   state       string        \n",
      " 8   zip         int64         \n",
      " 9   lat         float64       \n",
      " 10  long        float64       \n",
      " 11  city_pop    int64         \n",
      " 12  job         string        \n",
      " 13  dob         datetime64[ns]\n",
      " 14  acct_num    int64         \n",
      " 15  profile     string        \n",
      " 16  trans_num   string        \n",
      " 17  trans_date  datetime64[ns]\n",
      " 18  trans_time  datetime64[ns]\n",
      " 19  unix_time   int64         \n",
      " 20  category    string        \n",
      " 21  amt         float64       \n",
      " 22  is_fraud    int64         \n",
      " 23  merchant    string        \n",
      " 24  merch_lat   float64       \n",
      " 25  merch_long  float64       \n",
      "dtypes: datetime64[ns](3), float64(5), int64(6), string(12)\n",
      "memory usage: 7.0 GB\n"
     ]
    }
   ],
   "source": [
    "df = df.astype({col: 'string' for col in df.select_dtypes(include='object').columns})\n",
    "df.info()"
   ]
  },
  {
   "cell_type": "code",
   "execution_count": null,
   "id": "499d5190",
   "metadata": {},
   "outputs": [
    {
     "data": {
      "text/plain": [
       "0    750097342\n",
       "1    750097342\n",
       "2    750097342\n",
       "3    750097342\n",
       "4    750097342\n",
       "Name: ssn, dtype: string"
      ]
     },
     "execution_count": 27,
     "metadata": {},
     "output_type": "execute_result"
    }
   ],
   "source": [
    "# df['ssn'].head(5) --> 750-09-7342\n",
    "df['ssn'] = df['ssn'].str.replace('-', '', regex=False)\n",
    "df['ssn'].head(5)"
   ]
  },
  {
   "cell_type": "markdown",
   "id": "f73166ab",
   "metadata": {},
   "source": [
    "###Geneder conversion"
   ]
  },
  {
   "cell_type": "code",
   "execution_count": null,
   "id": "9e7a6102",
   "metadata": {},
   "outputs": [
    {
     "data": {
      "text/plain": [
       "gender\n",
       "1    17929380\n",
       "0    16706998\n",
       "Name: count, dtype: int64"
      ]
     },
     "execution_count": 28,
     "metadata": {},
     "output_type": "execute_result"
    }
   ],
   "source": [
    "# Convert 'F' to 1 and 'M' to 0\n",
    "df['gender'] = df['gender'].replace({'F': '1', 'M': '0'}).astype(int)\n",
    "df['gender'].value_counts()\n",
    "\n"
   ]
  },
  {
   "cell_type": "code",
   "execution_count": null,
   "id": "39e8bae7",
   "metadata": {},
   "outputs": [
    {
     "data": {
      "text/plain": [
       "city\n",
       "Houston        349782\n",
       "Chicago        338207\n",
       "Brooklyn       294986\n",
       "Los Angeles    263621\n",
       "Las Vegas      207079\n",
       "                ...  \n",
       "Church Hill         7\n",
       "Ash                 7\n",
       "Oakley              7\n",
       "Piney Flats         7\n",
       "Montesano           7\n",
       "Name: count, Length: 5184, dtype: Int64"
      ]
     },
     "execution_count": 29,
     "metadata": {},
     "output_type": "execute_result"
    }
   ],
   "source": [
    "df_city = df['city']\n",
    "df_city.value_counts()"
   ]
  },
  {
   "cell_type": "code",
   "execution_count": null,
   "id": "01cb6196",
   "metadata": {},
   "outputs": [],
   "source": [
    "df_city2 = df_city.str.upper()"
   ]
  },
  {
   "cell_type": "code",
   "execution_count": null,
   "id": "d2b78d90",
   "metadata": {},
   "outputs": [
    {
     "name": "stdout",
     "output_type": "stream",
     "text": [
      "✅ Column 'job' has no case duplicates.\n"
     ]
    },
    {
     "data": {
      "text/plain": [
       "'✅ Columns have no case duplicates.'"
      ]
     },
     "execution_count": 31,
     "metadata": {},
     "output_type": "execute_result"
    }
   ],
   "source": [
    "# check_case_duplicates(df, \"city\")\n",
    "# check_case_duplicates(df, \"state\")\n",
    "check_case_duplicates(df, \"job\")\n",
    "\n",
    "'✅ Columns have no case duplicates.'\n"
   ]
  },
  {
   "cell_type": "markdown",
   "id": "081e1937",
   "metadata": {},
   "source": [
    "# Handling strings columns:\n",
    "\n",
    "1. Columns to remove - create variable that marks them ( actual removal can be later)\n",
    "2. Extraction of additional data"
   ]
  },
  {
   "cell_type": "code",
   "execution_count": null,
   "id": "98997714",
   "metadata": {},
   "outputs": [],
   "source": [
    "df_strs =df.select_dtypes(include='string')\n",
    "\n"
   ]
  },
  {
   "cell_type": "code",
   "execution_count": null,
   "id": "b3f209d5",
   "metadata": {},
   "outputs": [
    {
     "data": {
      "text/html": [
       "<div>\n",
       "<style scoped>\n",
       "    .dataframe tbody tr th:only-of-type {\n",
       "        vertical-align: middle;\n",
       "    }\n",
       "\n",
       "    .dataframe tbody tr th {\n",
       "        vertical-align: top;\n",
       "    }\n",
       "\n",
       "    .dataframe thead th {\n",
       "        text-align: right;\n",
       "    }\n",
       "</style>\n",
       "<table border=\"1\" class=\"dataframe\">\n",
       "  <thead>\n",
       "    <tr style=\"text-align: right;\">\n",
       "      <th></th>\n",
       "      <th>ssn</th>\n",
       "      <th>first</th>\n",
       "      <th>last</th>\n",
       "      <th>street</th>\n",
       "      <th>city</th>\n",
       "      <th>state</th>\n",
       "      <th>job</th>\n",
       "      <th>profile</th>\n",
       "      <th>trans_num</th>\n",
       "      <th>category</th>\n",
       "      <th>merchant</th>\n",
       "    </tr>\n",
       "  </thead>\n",
       "  <tbody>\n",
       "    <tr>\n",
       "      <th>0</th>\n",
       "      <td>750097342</td>\n",
       "      <td>Amanda</td>\n",
       "      <td>Morris</td>\n",
       "      <td>144 Bowers Route</td>\n",
       "      <td>Tracy</td>\n",
       "      <td>CA</td>\n",
       "      <td>Teaching laboratory technician</td>\n",
       "      <td>young_adults_female_urban.json</td>\n",
       "      <td>52226c099d060def61a7e0d3de214e4b</td>\n",
       "      <td>misc_net</td>\n",
       "      <td>fraud_Moore, Dibbert and Koepp</td>\n",
       "    </tr>\n",
       "    <tr>\n",
       "      <th>1</th>\n",
       "      <td>750097342</td>\n",
       "      <td>Amanda</td>\n",
       "      <td>Morris</td>\n",
       "      <td>144 Bowers Route</td>\n",
       "      <td>Tracy</td>\n",
       "      <td>CA</td>\n",
       "      <td>Teaching laboratory technician</td>\n",
       "      <td>young_adults_female_urban.json</td>\n",
       "      <td>6495d95c66d7d504d7352f2b8c105d3c</td>\n",
       "      <td>misc_net</td>\n",
       "      <td>fraud_Dach-Nader</td>\n",
       "    </tr>\n",
       "    <tr>\n",
       "      <th>2</th>\n",
       "      <td>750097342</td>\n",
       "      <td>Amanda</td>\n",
       "      <td>Morris</td>\n",
       "      <td>144 Bowers Route</td>\n",
       "      <td>Tracy</td>\n",
       "      <td>CA</td>\n",
       "      <td>Teaching laboratory technician</td>\n",
       "      <td>young_adults_female_urban.json</td>\n",
       "      <td>bc0bfcd9e0132b171e538192b0e27777</td>\n",
       "      <td>grocery_pos</td>\n",
       "      <td>fraud_Pacocha-O'Reilly</td>\n",
       "    </tr>\n",
       "  </tbody>\n",
       "</table>\n",
       "</div>"
      ],
      "text/plain": [
       "         ssn   first    last            street   city state  \\\n",
       "0  750097342  Amanda  Morris  144 Bowers Route  Tracy    CA   \n",
       "1  750097342  Amanda  Morris  144 Bowers Route  Tracy    CA   \n",
       "2  750097342  Amanda  Morris  144 Bowers Route  Tracy    CA   \n",
       "\n",
       "                              job                         profile  \\\n",
       "0  Teaching laboratory technician  young_adults_female_urban.json   \n",
       "1  Teaching laboratory technician  young_adults_female_urban.json   \n",
       "2  Teaching laboratory technician  young_adults_female_urban.json   \n",
       "\n",
       "                          trans_num     category  \\\n",
       "0  52226c099d060def61a7e0d3de214e4b     misc_net   \n",
       "1  6495d95c66d7d504d7352f2b8c105d3c     misc_net   \n",
       "2  bc0bfcd9e0132b171e538192b0e27777  grocery_pos   \n",
       "\n",
       "                         merchant  \n",
       "0  fraud_Moore, Dibbert and Koepp  \n",
       "1                fraud_Dach-Nader  \n",
       "2          fraud_Pacocha-O'Reilly  "
      ]
     },
     "execution_count": 33,
     "metadata": {},
     "output_type": "execute_result"
    }
   ],
   "source": [
    "df_strs.head(3)"
   ]
  },
  {
   "cell_type": "markdown",
   "id": "e55e4578",
   "metadata": {},
   "source": [
    "## 1) Cardinality Inspection:"
   ]
  },
  {
   "cell_type": "markdown",
   "id": "48c47020",
   "metadata": {},
   "source": [
    "2.1 Job Column:"
   ]
  },
  {
   "cell_type": "code",
   "execution_count": null,
   "id": "6b81c25a",
   "metadata": {},
   "outputs": [
    {
     "data": {
      "text/html": [
       "<div>\n",
       "<style scoped>\n",
       "    .dataframe tbody tr th:only-of-type {\n",
       "        vertical-align: middle;\n",
       "    }\n",
       "\n",
       "    .dataframe tbody tr th {\n",
       "        vertical-align: top;\n",
       "    }\n",
       "\n",
       "    .dataframe thead th {\n",
       "        text-align: right;\n",
       "    }\n",
       "</style>\n",
       "<table border=\"1\" class=\"dataframe\">\n",
       "  <thead>\n",
       "    <tr style=\"text-align: right;\">\n",
       "      <th></th>\n",
       "      <th>count</th>\n",
       "      <th>nulls</th>\n",
       "      <th>nulls%</th>\n",
       "      <th>cardinality</th>\n",
       "      <th>dtype</th>\n",
       "    </tr>\n",
       "  </thead>\n",
       "  <tbody>\n",
       "    <tr>\n",
       "      <th>trans_num</th>\n",
       "      <td>34636378</td>\n",
       "      <td>0</td>\n",
       "      <td>0.0</td>\n",
       "      <td>34636378</td>\n",
       "      <td>string[python]</td>\n",
       "    </tr>\n",
       "    <tr>\n",
       "      <th>street</th>\n",
       "      <td>34636378</td>\n",
       "      <td>0</td>\n",
       "      <td>0.0</td>\n",
       "      <td>19948</td>\n",
       "      <td>string[python]</td>\n",
       "    </tr>\n",
       "    <tr>\n",
       "      <th>ssn</th>\n",
       "      <td>34636378</td>\n",
       "      <td>0</td>\n",
       "      <td>0.0</td>\n",
       "      <td>19948</td>\n",
       "      <td>string[python]</td>\n",
       "    </tr>\n",
       "    <tr>\n",
       "      <th>city</th>\n",
       "      <td>34636378</td>\n",
       "      <td>0</td>\n",
       "      <td>0.0</td>\n",
       "      <td>5184</td>\n",
       "      <td>string[python]</td>\n",
       "    </tr>\n",
       "    <tr>\n",
       "      <th>last</th>\n",
       "      <td>34636378</td>\n",
       "      <td>0</td>\n",
       "      <td>0.0</td>\n",
       "      <td>1000</td>\n",
       "      <td>string[python]</td>\n",
       "    </tr>\n",
       "    <tr>\n",
       "      <th>merchant</th>\n",
       "      <td>34636378</td>\n",
       "      <td>0</td>\n",
       "      <td>0.0</td>\n",
       "      <td>693</td>\n",
       "      <td>string[python]</td>\n",
       "    </tr>\n",
       "    <tr>\n",
       "      <th>first</th>\n",
       "      <td>34636378</td>\n",
       "      <td>0</td>\n",
       "      <td>0.0</td>\n",
       "      <td>686</td>\n",
       "      <td>string[python]</td>\n",
       "    </tr>\n",
       "    <tr>\n",
       "      <th>job</th>\n",
       "      <td>34636378</td>\n",
       "      <td>0</td>\n",
       "      <td>0.0</td>\n",
       "      <td>639</td>\n",
       "      <td>string[python]</td>\n",
       "    </tr>\n",
       "    <tr>\n",
       "      <th>state</th>\n",
       "      <td>34636378</td>\n",
       "      <td>0</td>\n",
       "      <td>0.0</td>\n",
       "      <td>51</td>\n",
       "      <td>string[python]</td>\n",
       "    </tr>\n",
       "    <tr>\n",
       "      <th>category</th>\n",
       "      <td>34636378</td>\n",
       "      <td>0</td>\n",
       "      <td>0.0</td>\n",
       "      <td>14</td>\n",
       "      <td>string[python]</td>\n",
       "    </tr>\n",
       "    <tr>\n",
       "      <th>profile</th>\n",
       "      <td>34636378</td>\n",
       "      <td>0</td>\n",
       "      <td>0.0</td>\n",
       "      <td>12</td>\n",
       "      <td>string[python]</td>\n",
       "    </tr>\n",
       "  </tbody>\n",
       "</table>\n",
       "</div>"
      ],
      "text/plain": [
       "              count  nulls  nulls%  cardinality           dtype\n",
       "trans_num  34636378      0     0.0     34636378  string[python]\n",
       "street     34636378      0     0.0        19948  string[python]\n",
       "ssn        34636378      0     0.0        19948  string[python]\n",
       "city       34636378      0     0.0         5184  string[python]\n",
       "last       34636378      0     0.0         1000  string[python]\n",
       "merchant   34636378      0     0.0          693  string[python]\n",
       "first      34636378      0     0.0          686  string[python]\n",
       "job        34636378      0     0.0          639  string[python]\n",
       "state      34636378      0     0.0           51  string[python]\n",
       "category   34636378      0     0.0           14  string[python]\n",
       "profile    34636378      0     0.0           12  string[python]"
      ]
     },
     "metadata": {},
     "output_type": "display_data"
    }
   ],
   "source": [
    "# Run on transactions_df\n",
    "summary_table = column_summary(df_strs)\n",
    "display(summary_table.sort_values(\"cardinality\", ascending=False))\n"
   ]
  },
  {
   "cell_type": "markdown",
   "id": "859fa8a3",
   "metadata": {},
   "source": [
    "# 1) Columns to remove"
   ]
  },
  {
   "cell_type": "code",
   "execution_count": null,
   "id": "efc38a48",
   "metadata": {},
   "outputs": [
    {
     "data": {
      "text/html": [
       "<div>\n",
       "<style scoped>\n",
       "    .dataframe tbody tr th:only-of-type {\n",
       "        vertical-align: middle;\n",
       "    }\n",
       "\n",
       "    .dataframe tbody tr th {\n",
       "        vertical-align: top;\n",
       "    }\n",
       "\n",
       "    .dataframe thead th {\n",
       "        text-align: right;\n",
       "    }\n",
       "</style>\n",
       "<table border=\"1\" class=\"dataframe\">\n",
       "  <thead>\n",
       "    <tr style=\"text-align: right;\">\n",
       "      <th></th>\n",
       "      <th>count</th>\n",
       "      <th>nulls</th>\n",
       "      <th>nulls%</th>\n",
       "      <th>cardinality</th>\n",
       "      <th>dtype</th>\n",
       "      <th>remark</th>\n",
       "    </tr>\n",
       "  </thead>\n",
       "  <tbody>\n",
       "    <tr>\n",
       "      <th>trans_num</th>\n",
       "      <td>34636378</td>\n",
       "      <td>0</td>\n",
       "      <td>0.0</td>\n",
       "      <td>34636378</td>\n",
       "      <td>string[python]</td>\n",
       "      <td>remove</td>\n",
       "    </tr>\n",
       "    <tr>\n",
       "      <th>street</th>\n",
       "      <td>34636378</td>\n",
       "      <td>0</td>\n",
       "      <td>0.0</td>\n",
       "      <td>19948</td>\n",
       "      <td>string[python]</td>\n",
       "      <td>remove</td>\n",
       "    </tr>\n",
       "    <tr>\n",
       "      <th>ssn</th>\n",
       "      <td>34636378</td>\n",
       "      <td>0</td>\n",
       "      <td>0.0</td>\n",
       "      <td>19948</td>\n",
       "      <td>string[python]</td>\n",
       "      <td>remove</td>\n",
       "    </tr>\n",
       "    <tr>\n",
       "      <th>city</th>\n",
       "      <td>34636378</td>\n",
       "      <td>0</td>\n",
       "      <td>0.0</td>\n",
       "      <td>5184</td>\n",
       "      <td>string[python]</td>\n",
       "      <td>NaN</td>\n",
       "    </tr>\n",
       "    <tr>\n",
       "      <th>last</th>\n",
       "      <td>34636378</td>\n",
       "      <td>0</td>\n",
       "      <td>0.0</td>\n",
       "      <td>1000</td>\n",
       "      <td>string[python]</td>\n",
       "      <td>remove</td>\n",
       "    </tr>\n",
       "    <tr>\n",
       "      <th>merchant</th>\n",
       "      <td>34636378</td>\n",
       "      <td>0</td>\n",
       "      <td>0.0</td>\n",
       "      <td>693</td>\n",
       "      <td>string[python]</td>\n",
       "      <td>NaN</td>\n",
       "    </tr>\n",
       "    <tr>\n",
       "      <th>first</th>\n",
       "      <td>34636378</td>\n",
       "      <td>0</td>\n",
       "      <td>0.0</td>\n",
       "      <td>686</td>\n",
       "      <td>string[python]</td>\n",
       "      <td>remove</td>\n",
       "    </tr>\n",
       "    <tr>\n",
       "      <th>job</th>\n",
       "      <td>34636378</td>\n",
       "      <td>0</td>\n",
       "      <td>0.0</td>\n",
       "      <td>639</td>\n",
       "      <td>string[python]</td>\n",
       "      <td>NaN</td>\n",
       "    </tr>\n",
       "    <tr>\n",
       "      <th>state</th>\n",
       "      <td>34636378</td>\n",
       "      <td>0</td>\n",
       "      <td>0.0</td>\n",
       "      <td>51</td>\n",
       "      <td>string[python]</td>\n",
       "      <td>NaN</td>\n",
       "    </tr>\n",
       "    <tr>\n",
       "      <th>category</th>\n",
       "      <td>34636378</td>\n",
       "      <td>0</td>\n",
       "      <td>0.0</td>\n",
       "      <td>14</td>\n",
       "      <td>string[python]</td>\n",
       "      <td>NaN</td>\n",
       "    </tr>\n",
       "    <tr>\n",
       "      <th>profile</th>\n",
       "      <td>34636378</td>\n",
       "      <td>0</td>\n",
       "      <td>0.0</td>\n",
       "      <td>12</td>\n",
       "      <td>string[python]</td>\n",
       "      <td>NaN</td>\n",
       "    </tr>\n",
       "  </tbody>\n",
       "</table>\n",
       "</div>"
      ],
      "text/plain": [
       "              count  nulls  nulls%  cardinality           dtype  remark\n",
       "trans_num  34636378      0     0.0     34636378  string[python]  remove\n",
       "street     34636378      0     0.0        19948  string[python]  remove\n",
       "ssn        34636378      0     0.0        19948  string[python]  remove\n",
       "city       34636378      0     0.0         5184  string[python]     NaN\n",
       "last       34636378      0     0.0         1000  string[python]  remove\n",
       "merchant   34636378      0     0.0          693  string[python]     NaN\n",
       "first      34636378      0     0.0          686  string[python]  remove\n",
       "job        34636378      0     0.0          639  string[python]     NaN\n",
       "state      34636378      0     0.0           51  string[python]     NaN\n",
       "category   34636378      0     0.0           14  string[python]     NaN\n",
       "profile    34636378      0     0.0           12  string[python]     NaN"
      ]
     },
     "metadata": {},
     "output_type": "display_data"
    }
   ],
   "source": [
    "removal_columns = [\"ssn\", \"first\", \"last\", \"street\", \"trans_num\"]\n",
    "#ssn - semsitive, no predictive power, unique per person\n",
    "#first, last - no predictive power\n",
    "#street - high cardinality, no predictive power\n",
    "#trans_num - unique per transaction, no predictive power\n",
    "summary_table.loc[summary_table.index.isin(removal_columns), \"remark\"] = \"remove\"\n",
    "display(summary_table.sort_values(\"cardinality\", ascending=False))"
   ]
  },
  {
   "cell_type": "code",
   "execution_count": null,
   "id": "e2ebf262",
   "metadata": {},
   "outputs": [
    {
     "data": {
      "text/html": [
       "<div>\n",
       "<style scoped>\n",
       "    .dataframe tbody tr th:only-of-type {\n",
       "        vertical-align: middle;\n",
       "    }\n",
       "\n",
       "    .dataframe tbody tr th {\n",
       "        vertical-align: top;\n",
       "    }\n",
       "\n",
       "    .dataframe thead th {\n",
       "        text-align: right;\n",
       "    }\n",
       "</style>\n",
       "<table border=\"1\" class=\"dataframe\">\n",
       "  <thead>\n",
       "    <tr style=\"text-align: right;\">\n",
       "      <th></th>\n",
       "      <th>count</th>\n",
       "      <th>nulls</th>\n",
       "      <th>nulls%</th>\n",
       "      <th>cardinality</th>\n",
       "      <th>dtype</th>\n",
       "      <th>remark</th>\n",
       "    </tr>\n",
       "  </thead>\n",
       "  <tbody>\n",
       "    <tr>\n",
       "      <th>city</th>\n",
       "      <td>34636378</td>\n",
       "      <td>0</td>\n",
       "      <td>0.0</td>\n",
       "      <td>5184</td>\n",
       "      <td>string[python]</td>\n",
       "      <td>NaN</td>\n",
       "    </tr>\n",
       "    <tr>\n",
       "      <th>merchant</th>\n",
       "      <td>34636378</td>\n",
       "      <td>0</td>\n",
       "      <td>0.0</td>\n",
       "      <td>693</td>\n",
       "      <td>string[python]</td>\n",
       "      <td>NaN</td>\n",
       "    </tr>\n",
       "    <tr>\n",
       "      <th>state</th>\n",
       "      <td>34636378</td>\n",
       "      <td>0</td>\n",
       "      <td>0.0</td>\n",
       "      <td>51</td>\n",
       "      <td>string[python]</td>\n",
       "      <td>NaN</td>\n",
       "    </tr>\n",
       "    <tr>\n",
       "      <th>category</th>\n",
       "      <td>34636378</td>\n",
       "      <td>0</td>\n",
       "      <td>0.0</td>\n",
       "      <td>14</td>\n",
       "      <td>string[python]</td>\n",
       "      <td>NaN</td>\n",
       "    </tr>\n",
       "    <tr>\n",
       "      <th>profile</th>\n",
       "      <td>34636378</td>\n",
       "      <td>0</td>\n",
       "      <td>0.0</td>\n",
       "      <td>12</td>\n",
       "      <td>string[python]</td>\n",
       "      <td>NaN</td>\n",
       "    </tr>\n",
       "  </tbody>\n",
       "</table>\n",
       "</div>"
      ],
      "text/plain": [
       "             count  nulls  nulls%  cardinality           dtype remark\n",
       "city      34636378      0     0.0         5184  string[python]    NaN\n",
       "merchant  34636378      0     0.0          693  string[python]    NaN\n",
       "state     34636378      0     0.0           51  string[python]    NaN\n",
       "category  34636378      0     0.0           14  string[python]    NaN\n",
       "profile   34636378      0     0.0           12  string[python]    NaN"
      ]
     },
     "metadata": {},
     "output_type": "display_data"
    }
   ],
   "source": [
    "status_check(summary_table)"
   ]
  },
  {
   "cell_type": "code",
   "execution_count": null,
   "id": "69625d3d",
   "metadata": {},
   "outputs": [
    {
     "name": "stdout",
     "output_type": "stream",
     "text": [
      "['teaching laboratory technician', 'scientist, clinical (histocompatibility and immunogenetics)', 'english as a second language teacher', 'exercise physiologist', 'metallurgist', 'adult nurse', 'designer, television/film set', 'contractor', 'haematologist', 'therapist, drama', 'surveyor, mining', 'acupuncturist', 'publishing copy', 'lecturer, higher education', 'broadcast engineer', 'dispensing optician', 'legal secretary', 'chief of staff', 'administrator', 'environmental health practitioner', 'surveyor, planning and development', 'community arts worker', 'chemist, analytical', 'geographical information systems officer', 'health and safety inspector', 'police officer', 'barrister', 'amenity horticulturist', 'engineer, manufacturing', 'writer', 'race relations officer', 'careers information officer', 'fish farm manager', 'engineer, electronics', 'civil service fast streamer', 'pension scheme manager', 'media buyer', 'armed forces training and education officer', 'scientist, research (maths)', 'rural practice surveyor', 'community education officer', 'ecologist', 'advertising account planner', 'marine scientist', 'naval architect', 'automotive engineer', 'air traffic controller', 'advertising account executive', 'engineer, drilling', 'brewing technologist', 'toxicologist', 'historic buildings inspector/conservation officer', 'hydrologist', 'occupational hygienist', 'engineer, automotive', 'designer, exhibition/display', 'horticultural therapist', 'special effects artist', 'marketing executive', 'agricultural consultant', 'financial risk analyst', 'doctor, hospital', 'scientist, research (medical)', 'producer, radio', 'dealer', 'economist', 'lawyer', 'print production planner', 'maintenance engineer', 'intelligence analyst', \"nurse, children's\", 'designer, multimedia', 'film/video editor', 'editorial assistant', 'market researcher', 'human resources officer', 'travel agency manager', 'food technologist', 'product manager', 'training and development officer', 'engineer, aeronautical', 'chief strategy officer', 'sports development officer', 'administrator, charities/voluntary organisations', 'leisure centre manager', 'tour manager', 'estate agent', 'medical illustrator', 'science writer', 'forest/woodland manager', 'english as a foreign language teacher', 'radiographer, diagnostic', 'psychiatrist', 'clinical embryologist', 'local government officer', 'energy engineer', 'production assistant, radio', 'press photographer', 'surveyor, minerals', 'animator', 'fine artist', 'speech and language therapist', 'loss adjuster, chartered', 'production manager', 'trade union research officer', 'research scientist (life sciences)', 'photographer', 'information systems manager', 'accountant, chartered management', 'journalist, newspaper', 'immunologist', 'farm manager', 'barista', 'licensed conveyancer', 'engineer, agricultural', 'lighting technician, broadcasting/film/video', 'animal technologist', 'gaffer', 'data scientist', 'contracting civil engineer', 'field trials officer', 'surveyor, insurance', 'trade mark attorney', 'therapist, nutritional', 'journalist, broadcasting', 'youth worker', 'plant breeder/geneticist', 'freight forwarder', 'electrical engineer', 'housing manager/officer', 'scientist, physiological', 'quality manager', 'scientist, water quality', 'artist', 'visual merchandiser', 'set designer', 'telecommunications researcher', 'pilot, airline', 'careers adviser', 'ranger/warden', 'public house manager', 'buyer, retail', 'research officer, political party', 'multimedia specialist', 'medical sales representative', 'oncologist', 'exhibitions officer, museum/gallery', 'optometrist', 'engineer, water', 'banker', 'fitness centre manager', 'water engineer', 'bookseller', 'geophysicist/field seismologist', 'land', 'warehouse manager', 'best boy', 'engineer, petroleum', 'television floor manager', 'pathologist', 'teacher, adult education', 'minerals surveyor', 'biomedical scientist', 'teacher, early years/pre', 'programme researcher, broadcasting/film/video', 'early years teacher', 'museum education officer', 'mechanical engineer', 'network engineer', 'engineer, building services', 'designer, textile', 'education officer, museum', 'retail manager', 'legal executive', 'clinical molecular geneticist', 'radio broadcast assistant', 'building surveyor', 'hotel manager', 'designer, graphic', 'physiological scientist', 'teacher, english as a foreign language', 'sports administrator', 'librarian, public', 'materials engineer', 'architectural technologist', 'corporate investment banker', 'psychologist, counselling', 'communications engineer', 'colour technologist', 'claims inspector/assessor', 'cartographer', 'graphic designer', 'tefl teacher', 'consulting civil engineer', 'psychologist, prison and probation services', 'technical sales engineer', 'commercial art gallery manager', 'estate manager/land agent', 'programmer, systems', 'nurse, learning disability', 'learning disability nurse', 'control and instrumentation engineer', 'product/process development scientist', 'insurance claims handler', 'hospital doctor', 'psychotherapist, child', 'volunteer coordinator', 'printmaker', 'sport and exercise psychologist', 'engineer, maintenance (it)', 'customer service manager', 'chartered accountant', 'event organiser', 'health physicist', 'magazine journalist', 'editor, film/video', 'interior and spatial designer', 'production assistant, television', 'sound technician, broadcasting/film/video', 'art therapist', 'biochemist, clinical', 'media planner', 'solicitor, scotland', 'animal nutritionist', 'environmental education officer', 'orthoptist', 'health and safety adviser', 'designer, blown glass/stained glass', 'armed forces technical officer', 'psychologist, sport and exercise', 'music therapist', 'further education lecturer', 'energy manager', 'optician, dispensing', 'civil engineer, contracting', 'video editor', 'public relations officer', 'software engineer', 'tax adviser', 'clinical scientist, histocompatibility and immunogenetics', 'sales professional, it', 'adult guidance worker', 'architect', 'quantity surveyor', 'pharmacist, hospital', 'cytogeneticist', 'prison officer', 'planning and development surveyor', 'tree surgeon', 'drilling engineer', 'interpreter', 'corporate treasurer', 'child psychotherapist', 'recruitment consultant', 'designer, interior/spatial', 'presenter, broadcasting', 'accountant, chartered', 'counsellor', 'accommodation manager', 'seismic interpreter', 'data processing manager', 'hospital pharmacist', 'stage manager', 'conservation officer, nature', 'furniture conservator/restorer', 'actor', 'engineer, control and instrumentation', 'retail merchandiser', 'horticultural consultant', 'tourist information centre manager', 'it sales professional', 'archivist', 'homeopath', 'radio producer', 'office manager', 'designer, industrial/product', 'podiatrist', 'doctor, general practice', 'development worker, community', 'airline pilot', 'secondary school teacher', 'diagnostic radiographer', 'financial trader', 'biomedical engineer', 'dentist', 'international aid/development worker', 'chartered legal executive (england and wales)', 'emergency planning/management officer', 'music tutor', 'academic librarian', 'engineer, production', 'logistics and distribution manager', 'social worker', 'land/geomatics surveyor', 'clinical research associate', 'personnel officer', 'engineer, manufacturing systems', 'insurance underwriter', 'scientist, research (physical sciences)', 'immigration officer', 'higher education careers adviser', 'education officer, community', 'occupational therapist', 'probation officer', 'chief executive officer', 'psychologist, occupational', 'programmer, multimedia', 'arts administrator', 'structural engineer', 'geochemist', 'financial controller', 'ceramics designer', 'investment banker, operational', 'solicitor', 'ship broker', 'investment banker, corporate', 'education officer, environmental', 'operational researcher', 'catering manager', 'it consultant', 'chartered loss adjuster', 'retail banker', 'psychotherapist', 'chartered certified accountant', 'teacher, primary school', 'conference centre manager', 'designer, jewellery', 'clinical cytogeneticist', 'air broker', 'site engineer', 'geoscientist', 'therapist, horticultural', 'information officer', 'medical laboratory scientific officer', 'trading standards officer', 'professor emeritus', 'exhibition designer', 'tax inspector', 'systems analyst', 'production engineer', 'location manager', 'geologist, wellsite', 'web designer', 'administrator, sports', 'oceanographer', 'senior tax professional/tax inspector', 'learning mentor', 'scientific laboratory technician', 'chief technology officer', 'building services engineer', 'horticulturist, amenity', 'surveyor, building', 'charity officer', 'environmental consultant', 'conservation officer, historic buildings', 'microbiologist', 'waste management officer', 'scientist, product/process development', 'sales executive', 'engineer, site', 'secretary, company', 'therapist, music', 'engineering geologist', 'equality and diversity officer', 'industrial/product designer', 'chemical engineer', 'merchandiser, retail', 'audiological scientist', 'newspaper journalist', 'diplomatic services operational officer', 'engineer, biomedical', 'accounting technician', 'it trainer', 'make', 'cabin crew', 'musician', 'therapist, sports', 'agricultural engineer', 'administrator, civil service', 'meteorologist', 'pharmacist, community', 'advertising copywriter', 'operations geologist', 'tourism officer', 'facilities manager', 'bonds trader', 'accountant, chartered public finance', 'restaurant manager, fast food', 'product designer', 'engineer, electrical', 'nurse, mental health', 'therapist, speech and language', 'operational investment banker', 'forensic scientist', 'theme park manager', 'armed forces logistics/support/administrative officer', 'mental health nurse', 'engineer, materials', 'paediatric nurse', 'ophthalmologist', 'social researcher', 'translator', 'teacher, secondary school', 'civil service administrator', 'public librarian', 'private music teacher', 'research officer, government', 'clinical biochemist', 'neurosurgeon', 'patent attorney', 'surveyor, quantity', 'editor, commissioning', 'dancer', 'psychologist, clinical', 'heritage manager', 'actuary', 'nature conservation officer', 'education administrator', 'theatre director', 'financial manager', 'commercial/residential surveyor', 'broadcast journalist', 'chartered public finance accountant', 'environmental manager', 'dietitian', 'technical author', 'surveyor, hydrographic', 'social research officer, government', 'ambulance person', 'engineer, civil (contracting)', 'purchasing manager', 'warden/ranger', 'personal assistant', 'civil engineer, consulting', 'database administrator', 'teacher, music', 'call centre manager', 'museum/gallery curator', 'advice worker', 'engineer, mining', 'secretary/administrator', 'physiotherapist', 'magazine features editor', 'chiropractor', 'primary school teacher', 'computer games developer', 'outdoor activities/education manager', 'engineer, broadcasting (operations)', 'fashion designer', 'curator', 'teacher, special educational needs', 'financial planner', 'nutritional therapist', 'designer, furniture', 'landscape architect', 'surveyor, building control', 'psychotherapist, dance movement', 'television/film/video producer', 'accountant, chartered certified', 'retail buyer', 'insurance broker', 'development worker, international aid', 'advertising art director', 'geneticist, molecular', 'manufacturing systems engineer', 'buyer, industrial', 'research scientist (maths)', 'hydrogeologist', 'recycling officer', 'clothing/textile technologist', 'conservator, museum/gallery', 'public relations account executive', 'aeronautical engineer', 'town planner', 'research officer, trade union', 'theatre stage manager', 'radiation protection practitioner', 'hydrographic surveyor', 'forensic psychologist', 'surveyor, commercial/residential', 'aid worker', 'publishing rights manager', 'sales promotion account executive', 'equities trader', 'phytotherapist', 'arts development officer', 'multimedia programmer', 'therapeutic radiographer', 'research scientist (medical)', 'educational psychologist', 'government social research officer', 'physicist, medical', 'research scientist (physical sciences)', 'technical brewer', 'mining engineer', 'water quality scientist', 'psychologist, forensic', 'statistician', 'lobbyist', 'lexicographer', 'manufacturing engineer', 'holiday representative', 'museum/gallery conservator', 'garment/textile technologist', 'fisheries officer', 'lecturer, further education', 'systems developer', 'librarian, academic', 'sports coach', 'embryologist, clinical', 'herpetologist', 'nurse, adult', 'management consultant', 'company secretary', 'restaurant manager', 'osteopath', 'community development worker', 'community pharmacist', 'merchant navy officer', 'geologist, engineering', 'chief operating officer', 'passenger transport manager', 'financial adviser', 'electronics engineer', 'occupational psychologist', 'clinical psychologist', 'field seismologist', 'runner, broadcasting/film/video', 'arboriculturist', 'art gallery manager', 'insurance account manager', 'games developer', 'general practice doctor', 'editor, magazine features', 'firefighter', 'engineer, maintenance', 'administrator, local government', 'sub', 'chiropodist', 'geophysical data processor', 'risk analyst', 'insurance risk surveyor', 'industrial buyer', 'proofreader', \"politician's assistant\", 'copywriter, advertising', 'chief financial officer', 'museum/gallery exhibitions officer', 'charity fundraiser', 'copy', 'surgeon', 'archaeologist', 'futures trader', 'illustrator', 'engineer, technical sales', 'medical physicist', 'chartered management accountant', 'medical secretary', 'fast food restaurant manager', 'psychologist, educational', 'health service manager', 'glass blower/designer', 'public affairs consultant', 'records manager', 'higher education lecturer', 'analytical chemist', 'it technical support officer', 'commissioning editor', 'designer, ceramics/pottery', 'quarry manager', 'television production assistant', 'commercial horticulturist', 'surveyor, land/geomatics', 'engineer, communications', 'press sub', 'patent examiner', 'administrator, education', 'camera operator', 'regulatory affairs officer', 'special educational needs teacher', 'administrator, arts', 'designer, fashion/clothing', 'furniture designer', 'surveyor, rural practice', 'engineer, structural', 'veterinary surgeon', 'engineer, chemical', 'sports therapist', 'scientist, marine', \"barrister's clerk\", 'armed forces operational officer', 'pensions consultant', 'dramatherapist', 'engineer, civil (consulting)', 'herbalist', 'mudlogger', 'building control surveyor', 'journalist, magazine', 'midwife', 'associate professor', 'production designer, theatre/television/film', 'scientist, biomedical', 'wellsite geologist', 'comptroller', 'transport planner', 'scientist, audiological', 'medical technical officer', 'risk manager', 'applications developer', 'engineer, land', 'counselling psychologist', 'television camera operator', 'therapist, art', 'pharmacologist', 'broadcast presenter', 'psychiatric nurse', 'health promotion specialist', 'conservator, furniture', 'air cabin crew', 'producer, television/film/video', 'dance movement psychotherapist', 'therapist, occupational', 'astronomer', 'petroleum engineer', 'horticulturist, commercial', 'textile designer', 'theatre manager', 'investment analyst', 'chief marketing officer', 'paramedic', 'radiographer, therapeutic', 'scientist, research (life sciences)', 'ergonomist', 'health visitor', 'scientist, forensic', 'soil scientist', 'engineer, energy', 'programmer, applications', 'jewellery designer']\n"
     ]
    }
   ],
   "source": [
    "print(df_strs[\"job\"].str.lower().str.strip().unique().tolist())"
   ]
  },
  {
   "cell_type": "code",
   "execution_count": null,
   "id": "e0202b63",
   "metadata": {},
   "outputs": [
    {
     "name": "stdout",
     "output_type": "stream",
     "text": [
      "['Teaching laboratory technician', 'Scientist, clinical (histocompatibility and immunogenetics)', 'English as a second language teacher', 'Exercise physiologist', 'Metallurgist', 'Adult nurse', 'Designer, television/film set', 'Contractor', 'Haematologist', 'Therapist, drama', 'Surveyor, mining', 'Acupuncturist', 'Publishing copy', 'Lecturer, higher education', 'Broadcast engineer', 'Dispensing optician', 'Legal secretary', 'Chief of Staff', 'Administrator', 'Environmental health practitioner', 'Surveyor, planning and development', 'Community arts worker', 'Chemist, analytical', 'Geographical information systems officer', 'Health and safety inspector', 'Police officer', 'Barrister', 'Amenity horticulturist', 'Engineer, manufacturing', 'Writer', 'Race relations officer', 'Careers information officer', 'Fish farm manager', 'Engineer, electronics', 'Civil Service fast streamer', 'Pension scheme manager', 'Media buyer', 'Armed forces training and education officer', 'Scientist, research (maths)', 'Rural practice surveyor', 'Community education officer', 'Ecologist', 'Advertising account planner', 'Marine scientist', 'Naval architect', 'Automotive engineer', 'Air traffic controller', 'Advertising account executive', 'Engineer, drilling', 'Brewing technologist', 'Toxicologist', 'Historic buildings inspector/conservation officer', 'Hydrologist', 'Occupational hygienist', 'Engineer, automotive', 'Designer, exhibition/display', 'Horticultural therapist', 'Special effects artist', 'Marketing executive', 'Agricultural consultant', 'Financial risk analyst', 'Doctor, hospital', 'Scientist, research (medical)', 'Producer, radio', 'Dealer', 'Economist', 'Lawyer', 'Print production planner', 'Maintenance engineer', 'Intelligence analyst', \"Nurse, children's\", 'Designer, multimedia', 'Film/video editor', 'Editorial assistant', 'Market researcher', 'Human resources officer', 'Travel agency manager', 'Food technologist', 'Product manager', 'Training and development officer', 'Engineer, aeronautical', 'Chief Strategy Officer', 'Sports development officer', 'Administrator, charities/voluntary organisations', 'Leisure centre manager', 'Tour manager', 'Estate agent', 'Medical illustrator', 'Science writer', 'Forest/woodland manager', 'English as a foreign language teacher', 'Radiographer, diagnostic', 'Psychiatrist', 'Clinical embryologist', 'Local government officer', 'Energy engineer', 'Production assistant, radio', 'Press photographer', 'Surveyor, minerals', 'Animator', 'Fine artist', 'Speech and language therapist', 'Loss adjuster, chartered', 'Production manager', 'Trade union research officer', 'Research scientist (life sciences)', 'Photographer', 'Information systems manager', 'Accountant, chartered management', 'Journalist, newspaper', 'Immunologist', 'Farm manager', 'Barista', 'Licensed conveyancer', 'Engineer, agricultural', 'Lighting technician, broadcasting/film/video', 'Animal technologist', 'Gaffer', 'Data scientist', 'Contracting civil engineer', 'Field trials officer', 'Surveyor, insurance', 'Trade mark attorney', 'Therapist, nutritional', 'Journalist, broadcasting', 'Youth worker', 'Plant breeder/geneticist', 'Freight forwarder', 'Electrical engineer', 'Housing manager/officer', 'Scientist, physiological', 'Quality manager', 'Scientist, water quality', 'Artist', 'Visual merchandiser', 'Set designer', 'Telecommunications researcher', 'Pilot, airline', 'Careers adviser', 'Ranger/warden', 'Public house manager', 'Buyer, retail', 'Research officer, political party', 'Multimedia specialist', 'Medical sales representative', 'Oncologist', 'Exhibitions officer, museum/gallery', 'Optometrist', 'Engineer, water', 'Banker', 'Fitness centre manager', 'Water engineer', 'Bookseller', 'Geophysicist/field seismologist', 'Land', 'Warehouse manager', 'Best boy', 'Engineer, petroleum', 'Television floor manager', 'Pathologist', 'Teacher, adult education', 'Minerals surveyor', 'Biomedical scientist', 'Teacher, early years/pre', 'Programme researcher, broadcasting/film/video', 'Early years teacher', 'Museum education officer', 'Mechanical engineer', 'Network engineer', 'Engineer, building services', 'Designer, textile', 'Education officer, museum', 'Retail manager', 'Legal executive', 'Clinical molecular geneticist', 'Radio broadcast assistant', 'Building surveyor', 'Hotel manager', 'Designer, graphic', 'Physiological scientist', 'Teacher, English as a foreign language', 'Sports administrator', 'Librarian, public', 'Materials engineer', 'Architectural technologist', 'Corporate investment banker', 'Psychologist, counselling', 'Communications engineer', 'Colour technologist', 'Claims inspector/assessor', 'Cartographer', 'Graphic designer', 'TEFL teacher', 'Consulting civil engineer', 'Psychologist, prison and probation services', 'Technical sales engineer', 'Commercial art gallery manager', 'Estate manager/land agent', 'Programmer, systems', 'Nurse, learning disability', 'Learning disability nurse', 'Control and instrumentation engineer', 'Product/process development scientist', 'Insurance claims handler', 'Hospital doctor', 'Psychotherapist, child', 'Volunteer coordinator', 'Printmaker', 'Sport and exercise psychologist', 'Engineer, maintenance (IT)', 'Customer service manager', 'Chartered accountant', 'Event organiser', 'Health physicist', 'Magazine journalist', 'Editor, film/video', 'Interior and spatial designer', 'Production assistant, television', 'Sound technician, broadcasting/film/video', 'Art therapist', 'Biochemist, clinical', 'Media planner', 'Solicitor, Scotland', 'Animal nutritionist', 'Environmental education officer', 'Orthoptist', 'Health and safety adviser', 'Designer, blown glass/stained glass', 'Armed forces technical officer', 'Psychologist, sport and exercise', 'Music therapist', 'Further education lecturer', 'Energy manager', 'Optician, dispensing', 'Civil engineer, contracting', 'Video editor', 'Public relations officer', 'Software engineer', 'Tax adviser', 'Clinical scientist, histocompatibility and immunogenetics', 'Sales professional, IT', 'Adult guidance worker', 'Architect', 'Quantity surveyor', 'Pharmacist, hospital', 'Cytogeneticist', 'Prison officer', 'Planning and development surveyor', 'Tree surgeon', 'Drilling engineer', 'Interpreter', 'Corporate treasurer', 'Child psychotherapist', 'Recruitment consultant', 'Designer, interior/spatial', 'Presenter, broadcasting', 'Accountant, chartered', 'Counsellor', 'Accommodation manager', 'Seismic interpreter', 'Data processing manager', 'Hospital pharmacist', 'Stage manager', 'Conservation officer, nature', 'Furniture conservator/restorer', 'Actor', 'Engineer, control and instrumentation', 'Retail merchandiser', 'Horticultural consultant', 'Tourist information centre manager', 'IT sales professional', 'Archivist', 'Homeopath', 'Radio producer', 'Office manager', 'Designer, industrial/product', 'Podiatrist', 'Doctor, general practice', 'Development worker, community', 'Airline pilot', 'Secondary school teacher', 'Diagnostic radiographer', 'Financial trader', 'Biomedical engineer', 'Dentist', 'International aid/development worker', 'Chartered legal executive (England and Wales)', 'Emergency planning/management officer', 'Music tutor', 'Academic librarian', 'Engineer, production', 'Logistics and distribution manager', 'Social worker', 'Land/geomatics surveyor', 'Clinical research associate', 'Personnel officer', 'Engineer, manufacturing systems', 'Insurance underwriter', 'Scientist, research (physical sciences)', 'Immigration officer', 'Higher education careers adviser', 'Education officer, community', 'Occupational therapist', 'Probation officer', 'Chief Executive Officer', 'Psychologist, occupational', 'Programmer, multimedia', 'Arts administrator', 'Structural engineer', 'Geochemist', 'Financial controller', 'Ceramics designer', 'Investment banker, operational', 'Solicitor', 'Ship broker', 'Investment banker, corporate', 'Education officer, environmental', 'Operational researcher', 'Catering manager', 'IT consultant', 'Chartered loss adjuster', 'Retail banker', 'Psychotherapist', 'Chartered certified accountant', 'Teacher, primary school', 'Conference centre manager', 'Designer, jewellery', 'Clinical cytogeneticist', 'Air broker', 'Site engineer', 'Geoscientist', 'Therapist, horticultural', 'Information officer', 'Medical laboratory scientific officer', 'Trading standards officer', 'Professor Emeritus', 'Exhibition designer', 'Tax inspector', 'Systems analyst', 'Production engineer', 'Location manager', 'Geologist, wellsite', 'Web designer', 'Administrator, sports', 'Oceanographer', 'Senior tax professional/tax inspector', 'Learning mentor', 'Scientific laboratory technician', 'Chief Technology Officer', 'Building services engineer', 'Horticulturist, amenity', 'Surveyor, building', 'Charity officer', 'Environmental consultant', 'Conservation officer, historic buildings', 'Microbiologist', 'Waste management officer', 'Scientist, product/process development', 'Sales executive', 'Engineer, site', 'Secretary, company', 'Therapist, music', 'Engineering geologist', 'Equality and diversity officer', 'Industrial/product designer', 'Chemical engineer', 'Merchandiser, retail', 'Audiological scientist', 'Newspaper journalist', 'Diplomatic Services operational officer', 'Engineer, biomedical', 'Accounting technician', 'IT trainer', 'Make', 'Cabin crew', 'Musician', 'Therapist, sports', 'Agricultural engineer', 'Administrator, Civil Service', 'Meteorologist', 'Pharmacist, community', 'Advertising copywriter', 'Operations geologist', 'Tourism officer', 'Facilities manager', 'Bonds trader', 'Accountant, chartered public finance', 'Restaurant manager, fast food', 'Product designer', 'Engineer, electrical', 'Nurse, mental health', 'Therapist, speech and language', 'Operational investment banker', 'Forensic scientist', 'Theme park manager', 'Armed forces logistics/support/administrative officer', 'Mental health nurse', 'Engineer, materials', 'Paediatric nurse', 'Ophthalmologist', 'Social researcher', 'Translator', 'Teacher, secondary school', 'Civil Service administrator', 'Public librarian', 'Private music teacher', 'Research officer, government', 'Clinical biochemist', 'Neurosurgeon', 'Patent attorney', 'Surveyor, quantity', 'Editor, commissioning', 'Dancer', 'Psychologist, clinical', 'Heritage manager', 'Actuary', 'Nature conservation officer', 'Education administrator', 'Theatre director', 'Financial manager', 'Commercial/residential surveyor', 'Broadcast journalist', 'Chartered public finance accountant', 'Environmental manager', 'Dietitian', 'Technical author', 'Surveyor, hydrographic', 'Social research officer, government', 'Ambulance person', 'Engineer, civil (contracting)', 'Purchasing manager', 'Warden/ranger', 'Personal assistant', 'Civil engineer, consulting', 'Database administrator', 'Teacher, music', 'Call centre manager', 'Museum/gallery curator', 'Advice worker', 'Engineer, mining', 'Secretary/administrator', 'Physiotherapist', 'Magazine features editor', 'Chiropractor', 'Primary school teacher', 'Computer games developer', 'Outdoor activities/education manager', 'Engineer, broadcasting (operations)', 'Fashion designer', 'Curator', 'Teacher, special educational needs', 'Financial planner', 'Nutritional therapist', 'Designer, furniture', 'Landscape architect', 'Surveyor, building control', 'Psychotherapist, dance movement', 'Television/film/video producer', 'Accountant, chartered certified', 'Retail buyer', 'Insurance broker', 'Development worker, international aid', 'Advertising art director', 'Geneticist, molecular', 'Manufacturing systems engineer', 'Buyer, industrial', 'Research scientist (maths)', 'Hydrogeologist', 'Recycling officer', 'Clothing/textile technologist', 'Conservator, museum/gallery', 'Public relations account executive', 'Aeronautical engineer', 'Town planner', 'Research officer, trade union', 'Theatre stage manager', 'Radiation protection practitioner', 'Hydrographic surveyor', 'Forensic psychologist', 'Surveyor, commercial/residential', 'Aid worker', 'Publishing rights manager', 'Sales promotion account executive', 'Equities trader', 'Phytotherapist', 'Arts development officer', 'Multimedia programmer', 'Therapeutic radiographer', 'Research scientist (medical)', 'Educational psychologist', 'Government social research officer', 'Physicist, medical', 'Research scientist (physical sciences)', 'Technical brewer', 'Mining engineer', 'Water quality scientist', 'Psychologist, forensic', 'Statistician', 'Lobbyist', 'Lexicographer', 'Manufacturing engineer', 'Holiday representative', 'Museum/gallery conservator', 'Garment/textile technologist', 'Fisheries officer', 'Lecturer, further education', 'Systems developer', 'Librarian, academic', 'Sports coach', 'Embryologist, clinical', 'Herpetologist', 'Nurse, adult', 'Management consultant', 'Company secretary', 'Restaurant manager', 'Osteopath', 'Community development worker', 'Community pharmacist', 'Merchant navy officer', 'Geologist, engineering', 'Chief Operating Officer', 'Passenger transport manager', 'Financial adviser', 'Electronics engineer', 'Occupational psychologist', 'Clinical psychologist', 'Field seismologist', 'Runner, broadcasting/film/video', 'Arboriculturist', 'Art gallery manager', 'Insurance account manager', 'Games developer', 'General practice doctor', 'Editor, magazine features', 'Firefighter', 'Engineer, maintenance', 'Administrator, local government', 'Sub', 'Chiropodist', 'Geophysical data processor', 'Risk analyst', 'Insurance risk surveyor', 'Industrial buyer', 'Proofreader', \"Politician's assistant\", 'Copywriter, advertising', 'Chief Financial Officer', 'Museum/gallery exhibitions officer', 'Charity fundraiser', 'Copy', 'Surgeon', 'Archaeologist', 'Futures trader', 'Illustrator', 'Engineer, technical sales', 'Medical physicist', 'Chartered management accountant', 'Medical secretary', 'Fast food restaurant manager', 'Psychologist, educational', 'Health service manager', 'Glass blower/designer', 'Public affairs consultant', 'Records manager', 'Higher education lecturer', 'Analytical chemist', 'IT technical support officer', 'Commissioning editor', 'Designer, ceramics/pottery', 'Quarry manager', 'Television production assistant', 'Commercial horticulturist', 'Surveyor, land/geomatics', 'Engineer, communications', 'Press sub', 'Patent examiner', 'Administrator, education', 'Camera operator', 'Regulatory affairs officer', 'Special educational needs teacher', 'Administrator, arts', 'Designer, fashion/clothing', 'Furniture designer', 'Surveyor, rural practice', 'Engineer, structural', 'Veterinary surgeon', 'Engineer, chemical', 'Sports therapist', 'Scientist, marine', \"Barrister's clerk\", 'Armed forces operational officer', 'Pensions consultant', 'Dramatherapist', 'Engineer, civil (consulting)', 'Herbalist', 'Mudlogger', 'Building control surveyor', 'Journalist, magazine', 'Midwife', 'Associate Professor', 'Production designer, theatre/television/film', 'Scientist, biomedical', 'Wellsite geologist', 'Comptroller', 'Transport planner', 'Scientist, audiological', 'Medical technical officer', 'Risk manager', 'Applications developer', 'Engineer, land', 'Counselling psychologist', 'Television camera operator', 'Therapist, art', 'Pharmacologist', 'Broadcast presenter', 'Psychiatric nurse', 'Health promotion specialist', 'Conservator, furniture', 'Air cabin crew', 'Producer, television/film/video', 'Dance movement psychotherapist', 'Therapist, occupational', 'Astronomer', 'Petroleum engineer', 'Horticulturist, commercial', 'Textile designer', 'Theatre manager', 'Investment analyst', 'Chief Marketing Officer', 'Paramedic', 'Radiographer, therapeutic', 'Scientist, research (life sciences)', 'Ergonomist', 'Health visitor', 'Scientist, forensic', 'Soil scientist', 'Engineer, energy', 'Programmer, applications', 'Jewellery designer']\n"
     ]
    }
   ],
   "source": [
    "unique_vals = df_strs[\"job\"].unique().tolist()\n",
    "print(unique_vals)\n",
    "\n"
   ]
  },
  {
   "cell_type": "code",
   "execution_count": null,
   "id": "35a7d1fd",
   "metadata": {},
   "outputs": [],
   "source": [
    "def categorize_jobs(df, column, new_column=\"job_category\"):\n",
    "    \"\"\"\n",
    "    Categorizes jobs based on keywords in the job title.\n",
    "    Adds a new column with high-level categories.\n",
    "    \"\"\"\n",
    "\n",
    "    def assign_category(job):\n",
    "        job = str(job).lower()  # ensure lowercase\n",
    "        if any(word in job for word in [\"nurse\", \"doctor\", \"surgeon\", \"dentist\", \"therapist\", \"pharmacist\", \"psychiatrist\", \"psychologist\", \"radiographer\", \"optician\", \"midwife\", \"paramedic\", \"biomedical\", \"oncologist\", \"immunologist\", \"pathologist\", \"health\"]):\n",
    "            return \"healthcare\"\n",
    "        elif any(word in job for word in [\"teacher\", \"lecturer\", \"professor\", \"educator\", \"education officer\", \"tutor\", \"school\"]):\n",
    "            return \"education\"\n",
    "        elif any(word in job for word in [\"engineer\", \"technician\", \"technologist\", \"architect\", \"surveyor\", \"scientist\", \"geologist\", \"chemist\", \"biologist\", \"researcher\", \"ecologist\", \"mathematician\", \"statistician\", \"physicist\", \"astronomer\"]):\n",
    "            return \"science/engineering\"\n",
    "        elif any(word in job for word in [\"lawyer\", \"barrister\", \"solicitor\", \"attorney\", \"legal\", \"judge\", \"magistrate\"]):\n",
    "            return \"legal\"\n",
    "        elif any(word in job for word in [\"accountant\", \"finance\", \"banker\", \"economist\", \"trader\", \"investment\", \"treasurer\", \"auditor\", \"actuary\"]):\n",
    "            return \"finance\"\n",
    "        elif any(word in job for word in [\"artist\", \"designer\", \"animator\", \"illustrator\", \"musician\", \"actor\", \"writer\", \"journalist\", \"editor\", \"photographer\", \"producer\", \"curator\", \"painter\", \"sculptor\", \"filmmaker\"]):\n",
    "            return \"arts/media\"\n",
    "        elif any(word in job for word in [\"manager\", \"consultant\", \"officer\", \"administrator\", \"coordinator\", \"executive\", \"director\", \"chief\", \"ceo\", \"cfo\", \"cio\", \"cto\", \"cmo\", \"coo\"]):\n",
    "            return \"management/business\"\n",
    "        elif any(word in job for word in [\"armed forces\", \"navy\", \"army\", \"air force\", \"military\", \"police\", \"firefighter\", \"security\"]):\n",
    "            return \"public safety/military\"\n",
    "        elif any(word in job for word in [\"agricultural\", \"farm\", \"horticulturist\", \"fisheries\", \"forester\", \"conservation\", \"ecologist\", \"gardener\", \"landscaper\", \"tree surgeon\"]):\n",
    "            return \"agriculture/environment\"\n",
    "        elif any(word in job for word in [\"it\", \"software\", \"developer\", \"programmer\", \"data scientist\", \"web\", \"computer\", \"cyber\", \"network\", \"systems\", \"applications\", \"ai\", \"machine learning\"]):\n",
    "            return \"technology\"\n",
    "        else:\n",
    "            return \"other\"\n",
    "\n",
    "    # apply categorization\n",
    "    df[new_column] = df[column].apply(assign_category)\n",
    "    return df\n"
   ]
  },
  {
   "cell_type": "code",
   "execution_count": null,
   "id": "538156c7",
   "metadata": {},
   "outputs": [
    {
     "data": {
      "text/html": [
       "<div>\n",
       "<style scoped>\n",
       "    .dataframe tbody tr th:only-of-type {\n",
       "        vertical-align: middle;\n",
       "    }\n",
       "\n",
       "    .dataframe tbody tr th {\n",
       "        vertical-align: top;\n",
       "    }\n",
       "\n",
       "    .dataframe thead th {\n",
       "        text-align: right;\n",
       "    }\n",
       "</style>\n",
       "<table border=\"1\" class=\"dataframe\">\n",
       "  <thead>\n",
       "    <tr style=\"text-align: right;\">\n",
       "      <th></th>\n",
       "      <th>job</th>\n",
       "      <th>job_category</th>\n",
       "    </tr>\n",
       "  </thead>\n",
       "  <tbody>\n",
       "    <tr>\n",
       "      <th>0</th>\n",
       "      <td>Teaching laboratory technician</td>\n",
       "      <td>science/engineering</td>\n",
       "    </tr>\n",
       "    <tr>\n",
       "      <th>1</th>\n",
       "      <td>Teaching laboratory technician</td>\n",
       "      <td>science/engineering</td>\n",
       "    </tr>\n",
       "    <tr>\n",
       "      <th>2</th>\n",
       "      <td>Teaching laboratory technician</td>\n",
       "      <td>science/engineering</td>\n",
       "    </tr>\n",
       "    <tr>\n",
       "      <th>3</th>\n",
       "      <td>Teaching laboratory technician</td>\n",
       "      <td>science/engineering</td>\n",
       "    </tr>\n",
       "    <tr>\n",
       "      <th>4</th>\n",
       "      <td>Teaching laboratory technician</td>\n",
       "      <td>science/engineering</td>\n",
       "    </tr>\n",
       "    <tr>\n",
       "      <th>5</th>\n",
       "      <td>Teaching laboratory technician</td>\n",
       "      <td>science/engineering</td>\n",
       "    </tr>\n",
       "    <tr>\n",
       "      <th>6</th>\n",
       "      <td>Teaching laboratory technician</td>\n",
       "      <td>science/engineering</td>\n",
       "    </tr>\n",
       "    <tr>\n",
       "      <th>7</th>\n",
       "      <td>Teaching laboratory technician</td>\n",
       "      <td>science/engineering</td>\n",
       "    </tr>\n",
       "    <tr>\n",
       "      <th>8</th>\n",
       "      <td>Teaching laboratory technician</td>\n",
       "      <td>science/engineering</td>\n",
       "    </tr>\n",
       "    <tr>\n",
       "      <th>9</th>\n",
       "      <td>Teaching laboratory technician</td>\n",
       "      <td>science/engineering</td>\n",
       "    </tr>\n",
       "    <tr>\n",
       "      <th>10</th>\n",
       "      <td>Teaching laboratory technician</td>\n",
       "      <td>science/engineering</td>\n",
       "    </tr>\n",
       "    <tr>\n",
       "      <th>11</th>\n",
       "      <td>Teaching laboratory technician</td>\n",
       "      <td>science/engineering</td>\n",
       "    </tr>\n",
       "    <tr>\n",
       "      <th>12</th>\n",
       "      <td>Teaching laboratory technician</td>\n",
       "      <td>science/engineering</td>\n",
       "    </tr>\n",
       "    <tr>\n",
       "      <th>13</th>\n",
       "      <td>Teaching laboratory technician</td>\n",
       "      <td>science/engineering</td>\n",
       "    </tr>\n",
       "    <tr>\n",
       "      <th>14</th>\n",
       "      <td>Teaching laboratory technician</td>\n",
       "      <td>science/engineering</td>\n",
       "    </tr>\n",
       "    <tr>\n",
       "      <th>15</th>\n",
       "      <td>Teaching laboratory technician</td>\n",
       "      <td>science/engineering</td>\n",
       "    </tr>\n",
       "    <tr>\n",
       "      <th>16</th>\n",
       "      <td>Scientist, clinical (histocompatibility and im...</td>\n",
       "      <td>science/engineering</td>\n",
       "    </tr>\n",
       "    <tr>\n",
       "      <th>17</th>\n",
       "      <td>Scientist, clinical (histocompatibility and im...</td>\n",
       "      <td>science/engineering</td>\n",
       "    </tr>\n",
       "    <tr>\n",
       "      <th>18</th>\n",
       "      <td>Scientist, clinical (histocompatibility and im...</td>\n",
       "      <td>science/engineering</td>\n",
       "    </tr>\n",
       "    <tr>\n",
       "      <th>19</th>\n",
       "      <td>Scientist, clinical (histocompatibility and im...</td>\n",
       "      <td>science/engineering</td>\n",
       "    </tr>\n",
       "  </tbody>\n",
       "</table>\n",
       "</div>"
      ],
      "text/plain": [
       "                                                  job         job_category\n",
       "0                      Teaching laboratory technician  science/engineering\n",
       "1                      Teaching laboratory technician  science/engineering\n",
       "2                      Teaching laboratory technician  science/engineering\n",
       "3                      Teaching laboratory technician  science/engineering\n",
       "4                      Teaching laboratory technician  science/engineering\n",
       "5                      Teaching laboratory technician  science/engineering\n",
       "6                      Teaching laboratory technician  science/engineering\n",
       "7                      Teaching laboratory technician  science/engineering\n",
       "8                      Teaching laboratory technician  science/engineering\n",
       "9                      Teaching laboratory technician  science/engineering\n",
       "10                     Teaching laboratory technician  science/engineering\n",
       "11                     Teaching laboratory technician  science/engineering\n",
       "12                     Teaching laboratory technician  science/engineering\n",
       "13                     Teaching laboratory technician  science/engineering\n",
       "14                     Teaching laboratory technician  science/engineering\n",
       "15                     Teaching laboratory technician  science/engineering\n",
       "16  Scientist, clinical (histocompatibility and im...  science/engineering\n",
       "17  Scientist, clinical (histocompatibility and im...  science/engineering\n",
       "18  Scientist, clinical (histocompatibility and im...  science/engineering\n",
       "19  Scientist, clinical (histocompatibility and im...  science/engineering"
      ]
     },
     "execution_count": 40,
     "metadata": {},
     "output_type": "execute_result"
    }
   ],
   "source": [
    "df = categorize_jobs(df, \"job\")\n",
    "df[[\"job\", \"job_category\"]].head(20)\n"
   ]
  },
  {
   "cell_type": "code",
   "execution_count": null,
   "id": "858a7818",
   "metadata": {},
   "outputs": [],
   "source": [
    "df_strs =df.select_dtypes(include='string')\n"
   ]
  },
  {
   "cell_type": "code",
   "execution_count": null,
   "id": "17cb94fd",
   "metadata": {},
   "outputs": [
    {
     "data": {
      "text/html": [
       "<div>\n",
       "<style scoped>\n",
       "    .dataframe tbody tr th:only-of-type {\n",
       "        vertical-align: middle;\n",
       "    }\n",
       "\n",
       "    .dataframe tbody tr th {\n",
       "        vertical-align: top;\n",
       "    }\n",
       "\n",
       "    .dataframe thead th {\n",
       "        text-align: right;\n",
       "    }\n",
       "</style>\n",
       "<table border=\"1\" class=\"dataframe\">\n",
       "  <thead>\n",
       "    <tr style=\"text-align: right;\">\n",
       "      <th></th>\n",
       "      <th>count</th>\n",
       "      <th>nulls</th>\n",
       "      <th>nulls%</th>\n",
       "      <th>cardinality</th>\n",
       "      <th>dtype</th>\n",
       "      <th>remark</th>\n",
       "    </tr>\n",
       "  </thead>\n",
       "  <tbody>\n",
       "    <tr>\n",
       "      <th>trans_num</th>\n",
       "      <td>34636378</td>\n",
       "      <td>0</td>\n",
       "      <td>0.0</td>\n",
       "      <td>34636378</td>\n",
       "      <td>string[python]</td>\n",
       "      <td>remove</td>\n",
       "    </tr>\n",
       "    <tr>\n",
       "      <th>street</th>\n",
       "      <td>34636378</td>\n",
       "      <td>0</td>\n",
       "      <td>0.0</td>\n",
       "      <td>19948</td>\n",
       "      <td>string[python]</td>\n",
       "      <td>remove</td>\n",
       "    </tr>\n",
       "    <tr>\n",
       "      <th>ssn</th>\n",
       "      <td>34636378</td>\n",
       "      <td>0</td>\n",
       "      <td>0.0</td>\n",
       "      <td>19948</td>\n",
       "      <td>string[python]</td>\n",
       "      <td>remove</td>\n",
       "    </tr>\n",
       "    <tr>\n",
       "      <th>city</th>\n",
       "      <td>34636378</td>\n",
       "      <td>0</td>\n",
       "      <td>0.0</td>\n",
       "      <td>5184</td>\n",
       "      <td>string[python]</td>\n",
       "      <td>NaN</td>\n",
       "    </tr>\n",
       "    <tr>\n",
       "      <th>last</th>\n",
       "      <td>34636378</td>\n",
       "      <td>0</td>\n",
       "      <td>0.0</td>\n",
       "      <td>1000</td>\n",
       "      <td>string[python]</td>\n",
       "      <td>remove</td>\n",
       "    </tr>\n",
       "    <tr>\n",
       "      <th>merchant</th>\n",
       "      <td>34636378</td>\n",
       "      <td>0</td>\n",
       "      <td>0.0</td>\n",
       "      <td>693</td>\n",
       "      <td>string[python]</td>\n",
       "      <td>NaN</td>\n",
       "    </tr>\n",
       "    <tr>\n",
       "      <th>first</th>\n",
       "      <td>34636378</td>\n",
       "      <td>0</td>\n",
       "      <td>0.0</td>\n",
       "      <td>686</td>\n",
       "      <td>string[python]</td>\n",
       "      <td>remove</td>\n",
       "    </tr>\n",
       "    <tr>\n",
       "      <th>job</th>\n",
       "      <td>34636378</td>\n",
       "      <td>0</td>\n",
       "      <td>0.0</td>\n",
       "      <td>639</td>\n",
       "      <td>string[python]</td>\n",
       "      <td>Reduced Cardinality to job_category</td>\n",
       "    </tr>\n",
       "    <tr>\n",
       "      <th>state</th>\n",
       "      <td>34636378</td>\n",
       "      <td>0</td>\n",
       "      <td>0.0</td>\n",
       "      <td>51</td>\n",
       "      <td>string[python]</td>\n",
       "      <td>NaN</td>\n",
       "    </tr>\n",
       "    <tr>\n",
       "      <th>category</th>\n",
       "      <td>34636378</td>\n",
       "      <td>0</td>\n",
       "      <td>0.0</td>\n",
       "      <td>14</td>\n",
       "      <td>string[python]</td>\n",
       "      <td>NaN</td>\n",
       "    </tr>\n",
       "    <tr>\n",
       "      <th>profile</th>\n",
       "      <td>34636378</td>\n",
       "      <td>0</td>\n",
       "      <td>0.0</td>\n",
       "      <td>12</td>\n",
       "      <td>string[python]</td>\n",
       "      <td>NaN</td>\n",
       "    </tr>\n",
       "  </tbody>\n",
       "</table>\n",
       "</div>"
      ],
      "text/plain": [
       "              count  nulls  nulls%  cardinality           dtype  \\\n",
       "trans_num  34636378      0     0.0     34636378  string[python]   \n",
       "street     34636378      0     0.0        19948  string[python]   \n",
       "ssn        34636378      0     0.0        19948  string[python]   \n",
       "city       34636378      0     0.0         5184  string[python]   \n",
       "last       34636378      0     0.0         1000  string[python]   \n",
       "merchant   34636378      0     0.0          693  string[python]   \n",
       "first      34636378      0     0.0          686  string[python]   \n",
       "job        34636378      0     0.0          639  string[python]   \n",
       "state      34636378      0     0.0           51  string[python]   \n",
       "category   34636378      0     0.0           14  string[python]   \n",
       "profile    34636378      0     0.0           12  string[python]   \n",
       "\n",
       "                                        remark  \n",
       "trans_num                               remove  \n",
       "street                                  remove  \n",
       "ssn                                     remove  \n",
       "city                                       NaN  \n",
       "last                                    remove  \n",
       "merchant                                   NaN  \n",
       "first                                   remove  \n",
       "job        Reduced Cardinality to job_category  \n",
       "state                                      NaN  \n",
       "category                                   NaN  \n",
       "profile                                    NaN  "
      ]
     },
     "metadata": {},
     "output_type": "display_data"
    }
   ],
   "source": [
    "add_remark(summary_table, \"job\", \"Reduced Cardinality to job_category\")"
   ]
  },
  {
   "cell_type": "code",
   "execution_count": null,
   "id": "a1f5a99b",
   "metadata": {},
   "outputs": [
    {
     "data": {
      "text/html": [
       "<div>\n",
       "<style scoped>\n",
       "    .dataframe tbody tr th:only-of-type {\n",
       "        vertical-align: middle;\n",
       "    }\n",
       "\n",
       "    .dataframe tbody tr th {\n",
       "        vertical-align: top;\n",
       "    }\n",
       "\n",
       "    .dataframe thead th {\n",
       "        text-align: right;\n",
       "    }\n",
       "</style>\n",
       "<table border=\"1\" class=\"dataframe\">\n",
       "  <thead>\n",
       "    <tr style=\"text-align: right;\">\n",
       "      <th></th>\n",
       "      <th>count</th>\n",
       "      <th>nulls</th>\n",
       "      <th>nulls%</th>\n",
       "      <th>cardinality</th>\n",
       "      <th>dtype</th>\n",
       "      <th>remark</th>\n",
       "    </tr>\n",
       "  </thead>\n",
       "  <tbody>\n",
       "    <tr>\n",
       "      <th>city</th>\n",
       "      <td>34636378</td>\n",
       "      <td>0</td>\n",
       "      <td>0.0</td>\n",
       "      <td>5184</td>\n",
       "      <td>string[python]</td>\n",
       "      <td>NaN</td>\n",
       "    </tr>\n",
       "    <tr>\n",
       "      <th>merchant</th>\n",
       "      <td>34636378</td>\n",
       "      <td>0</td>\n",
       "      <td>0.0</td>\n",
       "      <td>693</td>\n",
       "      <td>string[python]</td>\n",
       "      <td>NaN</td>\n",
       "    </tr>\n",
       "    <tr>\n",
       "      <th>state</th>\n",
       "      <td>34636378</td>\n",
       "      <td>0</td>\n",
       "      <td>0.0</td>\n",
       "      <td>51</td>\n",
       "      <td>string[python]</td>\n",
       "      <td>NaN</td>\n",
       "    </tr>\n",
       "    <tr>\n",
       "      <th>category</th>\n",
       "      <td>34636378</td>\n",
       "      <td>0</td>\n",
       "      <td>0.0</td>\n",
       "      <td>14</td>\n",
       "      <td>string[python]</td>\n",
       "      <td>NaN</td>\n",
       "    </tr>\n",
       "    <tr>\n",
       "      <th>profile</th>\n",
       "      <td>34636378</td>\n",
       "      <td>0</td>\n",
       "      <td>0.0</td>\n",
       "      <td>12</td>\n",
       "      <td>string[python]</td>\n",
       "      <td>NaN</td>\n",
       "    </tr>\n",
       "  </tbody>\n",
       "</table>\n",
       "</div>"
      ],
      "text/plain": [
       "             count  nulls  nulls%  cardinality           dtype remark\n",
       "city      34636378      0     0.0         5184  string[python]    NaN\n",
       "merchant  34636378      0     0.0          693  string[python]    NaN\n",
       "state     34636378      0     0.0           51  string[python]    NaN\n",
       "category  34636378      0     0.0           14  string[python]    NaN\n",
       "profile   34636378      0     0.0           12  string[python]    NaN"
      ]
     },
     "metadata": {},
     "output_type": "display_data"
    }
   ],
   "source": [
    "status_check(summary_table)\n",
    "\n"
   ]
  },
  {
   "cell_type": "code",
   "execution_count": null,
   "id": "22e54923",
   "metadata": {},
   "outputs": [
    {
     "data": {
      "text/plain": [
       "merchant\n",
       "fraud_Kilback LLC                        116978\n",
       "fraud_Kuhn LLC                           100661\n",
       "fraud_Boyer PLC                           96383\n",
       "fraud_Dickinson Ltd                       94573\n",
       "fraud_Cormier LLC                         93873\n",
       "                                          ...  \n",
       "fraud_Johnston-Casper                     21871\n",
       "fraud_McLaughlin, Armstrong and Koepp     21869\n",
       "fraud_Hagenes, Hermann and Stroman        21857\n",
       "fraud_Kris-Kertzmann                      21808\n",
       "fraud_Reichert-Weissnat                   21773\n",
       "Name: count, Length: 693, dtype: Int64"
      ]
     },
     "execution_count": 44,
     "metadata": {},
     "output_type": "execute_result"
    }
   ],
   "source": [
    "merchant= df_strs['merchant']\n",
    "merchant.value_counts()\n"
   ]
  },
  {
   "cell_type": "code",
   "execution_count": null,
   "id": "bceeab58",
   "metadata": {},
   "outputs": [
    {
     "name": "stdout",
     "output_type": "stream",
     "text": [
      "⚠️ Column 'merchant' has 10000 rows with special characters (in sample).\n",
      "   Examples: ['fraud_Hirthe-Beier' 'fraud_Schmidt and Sons'\n",
      " 'fraud_Bahringer, Bergnaum and Quitzon'\n",
      " 'fraud_Heathcote, Yost and Kertzmann' 'fraud_Raynor, Reinger and Hagenes'\n",
      " 'fraud_Swaniawski, Lowe and Robel' 'fraud_Emard Inc'\n",
      " 'fraud_Powlowski-Weimann' 'fraud_Smith-Stokes' 'fraud_Reichel Inc']\n"
     ]
    },
    {
     "data": {
      "text/plain": [
       "'Needs Cleaning'"
      ]
     },
     "execution_count": 45,
     "metadata": {},
     "output_type": "execute_result"
    }
   ],
   "source": [
    "check_column_specials(df_strs, 'merchant', sample_size=10000, sample=10)"
   ]
  },
  {
   "cell_type": "markdown",
   "id": "e2c361f0",
   "metadata": {},
   "source": [
    "### Issues with 'merchant':\n",
    "- High cardinality (many unique values)\n",
    "- High granularity \n",
    "- Punctionation and special keys"
   ]
  },
  {
   "cell_type": "code",
   "execution_count": null,
   "id": "4a7ad527",
   "metadata": {},
   "outputs": [],
   "source": [
    "df['merchant'] = df['merchant'].str.replace('fraud_', '').str.replace(',', '')"
   ]
  },
  {
   "cell_type": "code",
   "execution_count": null,
   "id": "d4d22b39",
   "metadata": {},
   "outputs": [
    {
     "data": {
      "text/plain": [
       "merchant\n",
       "Kilback LLC                       116978\n",
       "Kuhn LLC                          100661\n",
       "Boyer PLC                          96383\n",
       "Dickinson Ltd                      94573\n",
       "Cormier LLC                        93873\n",
       "                                   ...  \n",
       "Johnston-Casper                    21871\n",
       "McLaughlin Armstrong and Koepp     21869\n",
       "Hagenes Hermann and Stroman        21857\n",
       "Kris-Kertzmann                     21808\n",
       "Reichert-Weissnat                  21773\n",
       "Name: count, Length: 693, dtype: Int64"
      ]
     },
     "execution_count": 48,
     "metadata": {},
     "output_type": "execute_result"
    }
   ],
   "source": [
    "df['merchant'].value_counts()"
   ]
  },
  {
   "cell_type": "code",
   "execution_count": 3,
   "id": "6620e771",
   "metadata": {},
   "outputs": [
    {
     "ename": "NameError",
     "evalue": "name 'df' is not defined",
     "output_type": "error",
     "traceback": [
      "\u001b[31m---------------------------------------------------------------------------\u001b[39m",
      "\u001b[31mNameError\u001b[39m                                 Traceback (most recent call last)",
      "\u001b[36mCell\u001b[39m\u001b[36m \u001b[39m\u001b[32mIn[3]\u001b[39m\u001b[32m, line 1\u001b[39m\n\u001b[32m----> \u001b[39m\u001b[32m1\u001b[39m \u001b[43mdf\u001b[49m.to_pickle(\u001b[33m\"\u001b[39m\u001b[33mdf_prep_str.pkl\u001b[39m\u001b[33m\"\u001b[39m)\n",
      "\u001b[31mNameError\u001b[39m: name 'df' is not defined"
     ]
    }
   ],
   "source": [
    "df.to_pickle(\"df_prep_str.pkl\")\n"
   ]
  },
  {
   "cell_type": "code",
   "execution_count": 2,
   "id": "a48dc3f2",
   "metadata": {},
   "outputs": [],
   "source": [
    "df = pd.read_pickle(\"df_prep_str.pkl\")"
   ]
  },
  {
   "cell_type": "code",
   "execution_count": null,
   "id": "70ce0105",
   "metadata": {},
   "outputs": [
    {
     "data": {
      "text/html": [
       "<div>\n",
       "<style scoped>\n",
       "    .dataframe tbody tr th:only-of-type {\n",
       "        vertical-align: middle;\n",
       "    }\n",
       "\n",
       "    .dataframe tbody tr th {\n",
       "        vertical-align: top;\n",
       "    }\n",
       "\n",
       "    .dataframe thead th {\n",
       "        text-align: right;\n",
       "    }\n",
       "</style>\n",
       "<table border=\"1\" class=\"dataframe\">\n",
       "  <thead>\n",
       "    <tr style=\"text-align: right;\">\n",
       "      <th></th>\n",
       "      <th>count</th>\n",
       "      <th>nulls</th>\n",
       "      <th>nulls%</th>\n",
       "      <th>cardinality</th>\n",
       "      <th>dtype</th>\n",
       "      <th>remark</th>\n",
       "    </tr>\n",
       "  </thead>\n",
       "  <tbody>\n",
       "    <tr>\n",
       "      <th>city</th>\n",
       "      <td>34636378</td>\n",
       "      <td>0</td>\n",
       "      <td>0.0</td>\n",
       "      <td>5184</td>\n",
       "      <td>string[python]</td>\n",
       "      <td>NaN</td>\n",
       "    </tr>\n",
       "    <tr>\n",
       "      <th>merchant</th>\n",
       "      <td>34636378</td>\n",
       "      <td>0</td>\n",
       "      <td>0.0</td>\n",
       "      <td>693</td>\n",
       "      <td>string[python]</td>\n",
       "      <td>NaN</td>\n",
       "    </tr>\n",
       "    <tr>\n",
       "      <th>state</th>\n",
       "      <td>34636378</td>\n",
       "      <td>0</td>\n",
       "      <td>0.0</td>\n",
       "      <td>51</td>\n",
       "      <td>string[python]</td>\n",
       "      <td>NaN</td>\n",
       "    </tr>\n",
       "    <tr>\n",
       "      <th>category</th>\n",
       "      <td>34636378</td>\n",
       "      <td>0</td>\n",
       "      <td>0.0</td>\n",
       "      <td>14</td>\n",
       "      <td>string[python]</td>\n",
       "      <td>NaN</td>\n",
       "    </tr>\n",
       "    <tr>\n",
       "      <th>profile</th>\n",
       "      <td>34636378</td>\n",
       "      <td>0</td>\n",
       "      <td>0.0</td>\n",
       "      <td>12</td>\n",
       "      <td>string[python]</td>\n",
       "      <td>NaN</td>\n",
       "    </tr>\n",
       "  </tbody>\n",
       "</table>\n",
       "</div>"
      ],
      "text/plain": [
       "             count  nulls  nulls%  cardinality           dtype remark\n",
       "city      34636378      0     0.0         5184  string[python]    NaN\n",
       "merchant  34636378      0     0.0          693  string[python]    NaN\n",
       "state     34636378      0     0.0           51  string[python]    NaN\n",
       "category  34636378      0     0.0           14  string[python]    NaN\n",
       "profile   34636378      0     0.0           12  string[python]    NaN"
      ]
     },
     "metadata": {},
     "output_type": "display_data"
    }
   ],
   "source": [
    "status_check(summary_table)\n"
   ]
  },
  {
   "cell_type": "code",
   "execution_count": null,
   "id": "36feebce",
   "metadata": {},
   "outputs": [],
   "source": [
    "df['profile']"
   ]
  },
  {
   "cell_type": "code",
   "execution_count": null,
   "id": "1c6632ff",
   "metadata": {},
   "outputs": [
    {
     "name": "stdout",
     "output_type": "stream",
     "text": [
      "                          merchant  total_transactions  total_fraud\n",
      "573                     Schumm PLC               93760         1007\n",
      "316                    Kilback LLC              116978         1006\n",
      "349                       Kuhn LLC              100661         1002\n",
      "70                       Boyer PLC               96383          964\n",
      "201                    Goyette Inc               50986          959\n",
      "..                             ...                 ...          ...\n",
      "324                    Kling-Grant               28944           46\n",
      "299                 Kemmer-Reinger               29336           45\n",
      "511                     Rempel PLC               29551           44\n",
      "292                Johnston-Casper               21871           43\n",
      "568  Schroeder Wolff and Hermiston               22000           43\n",
      "\n",
      "[693 rows x 3 columns]\n"
     ]
    }
   ],
   "source": [
    "category_stats = (\n",
    "    df.groupby('merchant')\n",
    "      .agg(total_transactions=('merchant', 'count'),\n",
    "           total_fraud=('is_fraud', 'sum'))\n",
    "      .reset_index().sort_values(by='total_fraud', ascending=False))\n",
    "\n",
    "print(category_stats)"
   ]
  },
  {
   "cell_type": "markdown",
   "id": "0dac1f7c",
   "metadata": {},
   "source": [
    "Profile Clean"
   ]
  },
  {
   "cell_type": "code",
   "execution_count": 4,
   "id": "2601fa18",
   "metadata": {},
   "outputs": [
    {
     "name": "stdout",
     "output_type": "stream",
     "text": [
      "0    young_adults_female_urban.json\n",
      "1    young_adults_female_urban.json\n",
      "2    young_adults_female_urban.json\n",
      "3    young_adults_female_urban.json\n",
      "4    young_adults_female_urban.json\n",
      "5    young_adults_female_urban.json\n",
      "6    young_adults_female_urban.json\n",
      "7    young_adults_female_urban.json\n",
      "8    young_adults_female_urban.json\n",
      "9    young_adults_female_urban.json\n",
      "Name: profile, dtype: string\n"
     ]
    }
   ],
   "source": [
    "print(df[\"profile\"].head(10))   # shows first 20 rows\n"
   ]
  },
  {
   "cell_type": "code",
   "execution_count": 5,
   "id": "dbfe44c4",
   "metadata": {},
   "outputs": [],
   "source": [
    "# Remove the .json ending\n",
    "df['profile'] = df['profile'].str.replace('.json', '', regex=False)"
   ]
  },
  {
   "cell_type": "code",
   "execution_count": 6,
   "id": "c26be1b5",
   "metadata": {},
   "outputs": [
    {
     "name": "stdout",
     "output_type": "stream",
     "text": [
      "0    young_adults_female_urban\n",
      "1    young_adults_female_urban\n",
      "2    young_adults_female_urban\n",
      "3    young_adults_female_urban\n",
      "4    young_adults_female_urban\n",
      "5    young_adults_female_urban\n",
      "6    young_adults_female_urban\n",
      "7    young_adults_female_urban\n",
      "8    young_adults_female_urban\n",
      "9    young_adults_female_urban\n",
      "Name: profile, dtype: string\n"
     ]
    }
   ],
   "source": [
    "print(df['profile'].head(10))   # shows first 20 rows"
   ]
  },
  {
   "cell_type": "code",
   "execution_count": 7,
   "id": "28123144",
   "metadata": {},
   "outputs": [
    {
     "data": {
      "text/plain": [
       "<StringArray>\n",
       "['young_adults_female_urban',   'young_adults_male_rural',\n",
       "    'adults_2550_male_urban',  'adults_2550_female_urban',\n",
       "   'young_adults_male_urban',    'adults_2550_male_rural',\n",
       " 'young_adults_female_rural',  'adults_2550_female_rural',\n",
       "  'adults_50up_female_rural',    'adults_50up_male_urban',\n",
       "    'adults_50up_male_rural',  'adults_50up_female_urban']\n",
       "Length: 12, dtype: string"
      ]
     },
     "execution_count": 7,
     "metadata": {},
     "output_type": "execute_result"
    }
   ],
   "source": [
    "df['profile'].unique()"
   ]
  },
  {
   "cell_type": "code",
   "execution_count": 9,
   "id": "ab1b4971",
   "metadata": {},
   "outputs": [],
   "source": [
    "df[\"age_group\"] = df[\"profile\"].str.split(\"_\").str[:2].str.join(\"_\")\n"
   ]
  },
  {
   "cell_type": "code",
   "execution_count": 10,
   "id": "86f5dacc",
   "metadata": {},
   "outputs": [
    {
     "data": {
      "text/plain": [
       "age_group\n",
       "adults_2550     19218103\n",
       "adults_50up     11369708\n",
       "young_adults     4048567\n",
       "Name: count, dtype: int64"
      ]
     },
     "execution_count": 10,
     "metadata": {},
     "output_type": "execute_result"
    }
   ],
   "source": [
    "df[\"age_group\"].value_counts()"
   ]
  },
  {
   "cell_type": "code",
   "execution_count": 11,
   "id": "41406676",
   "metadata": {},
   "outputs": [],
   "source": [
    "df[\"location_profile\"] = df[\"profile\"].str.split(\"_\").str[-1]\n"
   ]
  },
  {
   "cell_type": "code",
   "execution_count": 1,
   "id": "16cad41e",
   "metadata": {},
   "outputs": [
    {
     "ename": "NameError",
     "evalue": "name 'df' is not defined",
     "output_type": "error",
     "traceback": [
      "\u001b[31m---------------------------------------------------------------------------\u001b[39m",
      "\u001b[31mNameError\u001b[39m                                 Traceback (most recent call last)",
      "\u001b[36mCell\u001b[39m\u001b[36m \u001b[39m\u001b[32mIn[1]\u001b[39m\u001b[32m, line 1\u001b[39m\n\u001b[32m----> \u001b[39m\u001b[32m1\u001b[39m \u001b[43mdf\u001b[49m[\u001b[33m\"\u001b[39m\u001b[33mlocation_profile\u001b[39m\u001b[33m\"\u001b[39m].value_counts()\n",
      "\u001b[31mNameError\u001b[39m: name 'df' is not defined"
     ]
    }
   ],
   "source": [
    "df[\"location_profile\"].value_counts()"
   ]
  },
  {
   "cell_type": "code",
   "execution_count": null,
   "id": "d670537e",
   "metadata": {},
   "outputs": [],
   "source": [
    "df.to_pickle(\"df_prep_str.pkl\")"
   ]
  },
  {
   "cell_type": "markdown",
   "id": "2c4677d9",
   "metadata": {},
   "source": [
    "## 2) Extraction of additional data:"
   ]
  },
  {
   "cell_type": "code",
   "execution_count": null,
   "id": "54a7453d",
   "metadata": {},
   "outputs": [],
   "source": [
    "category_stats = (\n",
    "    df.groupby('merchant')\n",
    "      .agg(total_transactions=('merchant', 'count'),\n",
    "           total_fraud=('is_fraud', 'sum'))\n",
    "      .reset_index().sort_values(by='total_fraud', ascending=False))\n",
    "\n",
    "print(category_stats)"
   ]
  },
  {
   "cell_type": "code",
   "execution_count": null,
   "id": "a4bdc8b6",
   "metadata": {},
   "outputs": [
    {
     "name": "stdout",
     "output_type": "stream",
     "text": [
      "✅ Column 'city' is clean (no special characters in sample).\n"
     ]
    },
    {
     "data": {
      "text/plain": [
       "'Clean'"
      ]
     },
     "execution_count": 47,
     "metadata": {},
     "output_type": "execute_result"
    }
   ],
   "source": [
    "check_column_specials(df, \"city\")\n",
    "# check_column_specials(transactions_df, \"job\")\n",
    "# check_column_specials(transactions_df, \"merchant\")\n",
    "\n",
    "\n"
   ]
  },
  {
   "cell_type": "markdown",
   "id": "2f468cdc",
   "metadata": {},
   "source": [
    "# Extraction of additional data:"
   ]
  },
  {
   "cell_type": "code",
   "execution_count": null,
   "id": "604a3c22",
   "metadata": {},
   "outputs": [],
   "source": []
  },
  {
   "cell_type": "markdown",
   "id": "f368902d",
   "metadata": {},
   "source": [
    "# Data Drops:\n",
    "- Street? high grnularity\n",
    "- First and Last name"
   ]
  },
  {
   "cell_type": "code",
   "execution_count": null,
   "id": "21e12e40",
   "metadata": {},
   "outputs": [],
   "source": []
  }
 ],
 "metadata": {
  "kernelspec": {
   "display_name": "credit-card-fraud-detection-model-FZHIqfLr-py3.13",
   "language": "python",
   "name": "python3"
  },
  "language_info": {
   "codemirror_mode": {
    "name": "ipython",
    "version": 3
   },
   "file_extension": ".py",
   "mimetype": "text/x-python",
   "name": "python",
   "nbconvert_exporter": "python",
   "pygments_lexer": "ipython3",
   "version": "3.13.5"
  }
 },
 "nbformat": 4,
 "nbformat_minor": 5
}
